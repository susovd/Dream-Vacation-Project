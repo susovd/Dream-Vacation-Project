{
 "cells": [
  {
   "cell_type": "markdown",
   "metadata": {},
   "source": [
    "# WeatherPy\n",
    "----\n",
    "\n",
    "#### Note\n",
    "* Instructions have been included for each segment. You do not have to follow them exactly, but they are included to help you think through the steps."
   ]
  },
  {
   "cell_type": "code",
   "execution_count": 1,
   "metadata": {
    "scrolled": true
   },
   "outputs": [],
   "source": [
    "# Dependencies and Setup\n",
    "import matplotlib.pyplot as plt\n",
    "import pandas as pd\n",
    "import numpy as np\n",
    "import requests\n",
    "import time\n",
    "from scipy.stats import linregress\n",
    "\n",
    "\n",
    "# Import API key\n",
    "from api_keys import weather_api_key\n",
    "\n",
    "# Incorporated citipy to determine city based on latitude and longitude\n",
    "from citipy import citipy\n",
    "\n",
    "# Output File (CSV)\n",
    "output_data_file = \"output_data/cities.csv\"\n",
    "\n",
    "# Range of latitudes and longitudes\n",
    "lat_range = (-90, 90)\n",
    "lng_range = (-180, 180)"
   ]
  },
  {
   "cell_type": "markdown",
   "metadata": {},
   "source": [
    "## Generate Cities List"
   ]
  },
  {
   "cell_type": "code",
   "execution_count": 2,
   "metadata": {},
   "outputs": [
    {
     "data": {
      "text/plain": [
       "611"
      ]
     },
     "execution_count": 2,
     "metadata": {},
     "output_type": "execute_result"
    }
   ],
   "source": [
    "# List for holding lat_lngs and cities\n",
    "lat_lngs = []\n",
    "cities = []\n",
    "\n",
    "# Create a set of random lat and lng combinations\n",
    "lats = np.random.uniform(lat_range[0], lat_range[1], size=1500)\n",
    "lngs = np.random.uniform(lng_range[0], lng_range[1], size=1500)\n",
    "lat_lngs = zip(lats, lngs)\n",
    "\n",
    "# Identify nearest city for each lat, lng combination\n",
    "for lat_lng in lat_lngs:\n",
    "    city = citipy.nearest_city(lat_lng[0], lat_lng[1]).city_name\n",
    "    \n",
    "    # If the city is unique, then add it to a our cities list\n",
    "    if city not in cities:\n",
    "        cities.append(city)\n",
    "\n",
    "# Print the city count to confirm sufficient count\n",
    "len(cities)"
   ]
  },
  {
   "cell_type": "markdown",
   "metadata": {},
   "source": [
    "### Perform API Calls\n",
    "* Perform a weather check on each city using a series of successive API calls.\n",
    "* Include a print log of each city as it'sbeing processed (with the city number and city name).\n"
   ]
  },
  {
   "cell_type": "code",
   "execution_count": 3,
   "metadata": {},
   "outputs": [
    {
     "data": {
      "text/plain": [
       "611"
      ]
     },
     "execution_count": 3,
     "metadata": {},
     "output_type": "execute_result"
    }
   ],
   "source": [
    "a = len(cities)\n",
    "a\n"
   ]
  },
  {
   "cell_type": "code",
   "execution_count": 4,
   "metadata": {},
   "outputs": [],
   "source": [
    "units = \"metric\"\n",
    "url = f\"http://api.openweathermap.org/data/2.5/weather?units={units}&APPID={weather_api_key}\""
   ]
  },
  {
   "cell_type": "code",
   "execution_count": 5,
   "metadata": {},
   "outputs": [],
   "source": [
    "all_cities = []\n",
    "latitude = []\n",
    "longitude = []\n",
    "temperature = []\n",
    "humidity = []\n",
    "cloudiness = []\n",
    "windspeed = []\n",
    "country = []\n",
    "date = []"
   ]
  },
  {
   "cell_type": "code",
   "execution_count": 6,
   "metadata": {},
   "outputs": [
    {
     "name": "stdout",
     "output_type": "stream",
     "text": [
      "http://api.openweathermap.org/data/2.5/weather?units=metric&APPID=767db115d62ad68acd7e1d7444eef403&q=melilla\n",
      "processing melilla\n",
      "http://api.openweathermap.org/data/2.5/weather?units=metric&APPID=767db115d62ad68acd7e1d7444eef403&q=tivaouane\n",
      "processing tivaouane\n",
      "http://api.openweathermap.org/data/2.5/weather?units=metric&APPID=767db115d62ad68acd7e1d7444eef403&q=cascais\n",
      "processing cascais\n",
      "http://api.openweathermap.org/data/2.5/weather?units=metric&APPID=767db115d62ad68acd7e1d7444eef403&q=arlit\n",
      "processing arlit\n",
      "http://api.openweathermap.org/data/2.5/weather?units=metric&APPID=767db115d62ad68acd7e1d7444eef403&q=angoche\n",
      "processing angoche\n",
      "http://api.openweathermap.org/data/2.5/weather?units=metric&APPID=767db115d62ad68acd7e1d7444eef403&q=barrow\n",
      "processing barrow\n",
      "http://api.openweathermap.org/data/2.5/weather?units=metric&APPID=767db115d62ad68acd7e1d7444eef403&q=rolim de moura\n",
      "processing rolim de moura\n",
      "City not found.\n",
      "http://api.openweathermap.org/data/2.5/weather?units=metric&APPID=767db115d62ad68acd7e1d7444eef403&q=fuerte\n",
      "processing fuerte\n",
      "http://api.openweathermap.org/data/2.5/weather?units=metric&APPID=767db115d62ad68acd7e1d7444eef403&q=vaini\n",
      "processing vaini\n",
      "http://api.openweathermap.org/data/2.5/weather?units=metric&APPID=767db115d62ad68acd7e1d7444eef403&q=altamira\n",
      "processing altamira\n",
      "http://api.openweathermap.org/data/2.5/weather?units=metric&APPID=767db115d62ad68acd7e1d7444eef403&q=mataura\n",
      "processing mataura\n",
      "http://api.openweathermap.org/data/2.5/weather?units=metric&APPID=767db115d62ad68acd7e1d7444eef403&q=carmen\n",
      "processing carmen\n",
      "http://api.openweathermap.org/data/2.5/weather?units=metric&APPID=767db115d62ad68acd7e1d7444eef403&q=coihaique\n",
      "processing coihaique\n",
      "http://api.openweathermap.org/data/2.5/weather?units=metric&APPID=767db115d62ad68acd7e1d7444eef403&q=uran\n",
      "processing uran\n",
      "http://api.openweathermap.org/data/2.5/weather?units=metric&APPID=767db115d62ad68acd7e1d7444eef403&q=santa lucia\n",
      "processing santa lucia\n",
      "http://api.openweathermap.org/data/2.5/weather?units=metric&APPID=767db115d62ad68acd7e1d7444eef403&q=ushuaia\n",
      "processing ushuaia\n",
      "http://api.openweathermap.org/data/2.5/weather?units=metric&APPID=767db115d62ad68acd7e1d7444eef403&q=jamestown\n",
      "processing jamestown\n",
      "http://api.openweathermap.org/data/2.5/weather?units=metric&APPID=767db115d62ad68acd7e1d7444eef403&q=carnarvon\n",
      "processing carnarvon\n",
      "http://api.openweathermap.org/data/2.5/weather?units=metric&APPID=767db115d62ad68acd7e1d7444eef403&q=sosua\n",
      "processing sosua\n",
      "http://api.openweathermap.org/data/2.5/weather?units=metric&APPID=767db115d62ad68acd7e1d7444eef403&q=hualmay\n",
      "processing hualmay\n",
      "http://api.openweathermap.org/data/2.5/weather?units=metric&APPID=767db115d62ad68acd7e1d7444eef403&q=grand river south east\n",
      "processing grand river south east\n",
      "City not found.\n",
      "http://api.openweathermap.org/data/2.5/weather?units=metric&APPID=767db115d62ad68acd7e1d7444eef403&q=gasa\n",
      "processing gasa\n",
      "http://api.openweathermap.org/data/2.5/weather?units=metric&APPID=767db115d62ad68acd7e1d7444eef403&q=nizhneyansk\n",
      "processing nizhneyansk\n",
      "City not found.\n",
      "http://api.openweathermap.org/data/2.5/weather?units=metric&APPID=767db115d62ad68acd7e1d7444eef403&q=mar del plata\n",
      "processing mar del plata\n",
      "http://api.openweathermap.org/data/2.5/weather?units=metric&APPID=767db115d62ad68acd7e1d7444eef403&q=jimeta\n",
      "processing jimeta\n",
      "http://api.openweathermap.org/data/2.5/weather?units=metric&APPID=767db115d62ad68acd7e1d7444eef403&q=lebu\n",
      "processing lebu\n",
      "http://api.openweathermap.org/data/2.5/weather?units=metric&APPID=767db115d62ad68acd7e1d7444eef403&q=taolanaro\n",
      "processing taolanaro\n",
      "City not found.\n",
      "http://api.openweathermap.org/data/2.5/weather?units=metric&APPID=767db115d62ad68acd7e1d7444eef403&q=pontes e lacerda\n",
      "processing pontes e lacerda\n",
      "http://api.openweathermap.org/data/2.5/weather?units=metric&APPID=767db115d62ad68acd7e1d7444eef403&q=butaritari\n",
      "processing butaritari\n",
      "http://api.openweathermap.org/data/2.5/weather?units=metric&APPID=767db115d62ad68acd7e1d7444eef403&q=avarua\n",
      "processing avarua\n",
      "http://api.openweathermap.org/data/2.5/weather?units=metric&APPID=767db115d62ad68acd7e1d7444eef403&q=bluff\n",
      "processing bluff\n",
      "http://api.openweathermap.org/data/2.5/weather?units=metric&APPID=767db115d62ad68acd7e1d7444eef403&q=georgetown\n",
      "processing georgetown\n",
      "http://api.openweathermap.org/data/2.5/weather?units=metric&APPID=767db115d62ad68acd7e1d7444eef403&q=springdale\n",
      "processing springdale\n",
      "http://api.openweathermap.org/data/2.5/weather?units=metric&APPID=767db115d62ad68acd7e1d7444eef403&q=huarmey\n",
      "processing huarmey\n",
      "http://api.openweathermap.org/data/2.5/weather?units=metric&APPID=767db115d62ad68acd7e1d7444eef403&q=hervey bay\n",
      "processing hervey bay\n",
      "http://api.openweathermap.org/data/2.5/weather?units=metric&APPID=767db115d62ad68acd7e1d7444eef403&q=almeria\n",
      "processing almeria\n",
      "http://api.openweathermap.org/data/2.5/weather?units=metric&APPID=767db115d62ad68acd7e1d7444eef403&q=ouagadougou\n",
      "processing ouagadougou\n",
      "http://api.openweathermap.org/data/2.5/weather?units=metric&APPID=767db115d62ad68acd7e1d7444eef403&q=cidreira\n",
      "processing cidreira\n",
      "http://api.openweathermap.org/data/2.5/weather?units=metric&APPID=767db115d62ad68acd7e1d7444eef403&q=mayari\n",
      "processing mayari\n",
      "City not found.\n",
      "http://api.openweathermap.org/data/2.5/weather?units=metric&APPID=767db115d62ad68acd7e1d7444eef403&q=castro\n",
      "processing castro\n",
      "http://api.openweathermap.org/data/2.5/weather?units=metric&APPID=767db115d62ad68acd7e1d7444eef403&q=saint-philippe\n",
      "processing saint-philippe\n",
      "http://api.openweathermap.org/data/2.5/weather?units=metric&APPID=767db115d62ad68acd7e1d7444eef403&q=ahipara\n",
      "processing ahipara\n",
      "http://api.openweathermap.org/data/2.5/weather?units=metric&APPID=767db115d62ad68acd7e1d7444eef403&q=belushya guba\n",
      "processing belushya guba\n",
      "City not found.\n",
      "http://api.openweathermap.org/data/2.5/weather?units=metric&APPID=767db115d62ad68acd7e1d7444eef403&q=cape town\n",
      "processing cape town\n",
      "http://api.openweathermap.org/data/2.5/weather?units=metric&APPID=767db115d62ad68acd7e1d7444eef403&q=tumannyy\n",
      "processing tumannyy\n",
      "City not found.\n",
      "http://api.openweathermap.org/data/2.5/weather?units=metric&APPID=767db115d62ad68acd7e1d7444eef403&q=karratha\n",
      "processing karratha\n",
      "http://api.openweathermap.org/data/2.5/weather?units=metric&APPID=767db115d62ad68acd7e1d7444eef403&q=albany\n",
      "processing albany\n",
      "http://api.openweathermap.org/data/2.5/weather?units=metric&APPID=767db115d62ad68acd7e1d7444eef403&q=guadalupe y calvo\n",
      "processing guadalupe y calvo\n",
      "http://api.openweathermap.org/data/2.5/weather?units=metric&APPID=767db115d62ad68acd7e1d7444eef403&q=aykhal\n",
      "processing aykhal\n",
      "http://api.openweathermap.org/data/2.5/weather?units=metric&APPID=767db115d62ad68acd7e1d7444eef403&q=leningradskiy\n",
      "processing leningradskiy\n",
      "http://api.openweathermap.org/data/2.5/weather?units=metric&APPID=767db115d62ad68acd7e1d7444eef403&q=saskylakh\n",
      "processing saskylakh\n",
      "http://api.openweathermap.org/data/2.5/weather?units=metric&APPID=767db115d62ad68acd7e1d7444eef403&q=nandu\n",
      "processing nandu\n",
      "http://api.openweathermap.org/data/2.5/weather?units=metric&APPID=767db115d62ad68acd7e1d7444eef403&q=narsaq\n",
      "processing narsaq\n",
      "http://api.openweathermap.org/data/2.5/weather?units=metric&APPID=767db115d62ad68acd7e1d7444eef403&q=ouango\n",
      "processing ouango\n",
      "http://api.openweathermap.org/data/2.5/weather?units=metric&APPID=767db115d62ad68acd7e1d7444eef403&q=rikitea\n",
      "processing rikitea\n",
      "http://api.openweathermap.org/data/2.5/weather?units=metric&APPID=767db115d62ad68acd7e1d7444eef403&q=salalah\n",
      "processing salalah\n",
      "http://api.openweathermap.org/data/2.5/weather?units=metric&APPID=767db115d62ad68acd7e1d7444eef403&q=lorengau\n",
      "processing lorengau\n",
      "http://api.openweathermap.org/data/2.5/weather?units=metric&APPID=767db115d62ad68acd7e1d7444eef403&q=sitka\n",
      "processing sitka\n",
      "http://api.openweathermap.org/data/2.5/weather?units=metric&APPID=767db115d62ad68acd7e1d7444eef403&q=ponta do sol\n",
      "processing ponta do sol\n",
      "http://api.openweathermap.org/data/2.5/weather?units=metric&APPID=767db115d62ad68acd7e1d7444eef403&q=tuy hoa\n",
      "processing tuy hoa\n",
      "http://api.openweathermap.org/data/2.5/weather?units=metric&APPID=767db115d62ad68acd7e1d7444eef403&q=cap malheureux\n",
      "processing cap malheureux\n",
      "http://api.openweathermap.org/data/2.5/weather?units=metric&APPID=767db115d62ad68acd7e1d7444eef403&q=nouadhibou\n"
     ]
    },
    {
     "name": "stdout",
     "output_type": "stream",
     "text": [
      "processing nouadhibou\n",
      "http://api.openweathermap.org/data/2.5/weather?units=metric&APPID=767db115d62ad68acd7e1d7444eef403&q=grindavik\n",
      "processing grindavik\n",
      "http://api.openweathermap.org/data/2.5/weather?units=metric&APPID=767db115d62ad68acd7e1d7444eef403&q=mount gambier\n",
      "processing mount gambier\n",
      "http://api.openweathermap.org/data/2.5/weather?units=metric&APPID=767db115d62ad68acd7e1d7444eef403&q=port alfred\n",
      "processing port alfred\n",
      "http://api.openweathermap.org/data/2.5/weather?units=metric&APPID=767db115d62ad68acd7e1d7444eef403&q=palimbang\n",
      "processing palimbang\n",
      "http://api.openweathermap.org/data/2.5/weather?units=metric&APPID=767db115d62ad68acd7e1d7444eef403&q=eisenerz\n",
      "processing eisenerz\n",
      "http://api.openweathermap.org/data/2.5/weather?units=metric&APPID=767db115d62ad68acd7e1d7444eef403&q=fort nelson\n",
      "processing fort nelson\n",
      "http://api.openweathermap.org/data/2.5/weather?units=metric&APPID=767db115d62ad68acd7e1d7444eef403&q=ngukurr\n",
      "processing ngukurr\n",
      "City not found.\n",
      "http://api.openweathermap.org/data/2.5/weather?units=metric&APPID=767db115d62ad68acd7e1d7444eef403&q=namibe\n",
      "processing namibe\n",
      "http://api.openweathermap.org/data/2.5/weather?units=metric&APPID=767db115d62ad68acd7e1d7444eef403&q=kaitangata\n",
      "processing kaitangata\n",
      "http://api.openweathermap.org/data/2.5/weather?units=metric&APPID=767db115d62ad68acd7e1d7444eef403&q=attawapiskat\n",
      "processing attawapiskat\n",
      "City not found.\n",
      "http://api.openweathermap.org/data/2.5/weather?units=metric&APPID=767db115d62ad68acd7e1d7444eef403&q=bermeo\n",
      "processing bermeo\n",
      "http://api.openweathermap.org/data/2.5/weather?units=metric&APPID=767db115d62ad68acd7e1d7444eef403&q=rawson\n",
      "processing rawson\n",
      "http://api.openweathermap.org/data/2.5/weather?units=metric&APPID=767db115d62ad68acd7e1d7444eef403&q=calabozo\n",
      "processing calabozo\n",
      "http://api.openweathermap.org/data/2.5/weather?units=metric&APPID=767db115d62ad68acd7e1d7444eef403&q=bredasdorp\n",
      "processing bredasdorp\n",
      "http://api.openweathermap.org/data/2.5/weather?units=metric&APPID=767db115d62ad68acd7e1d7444eef403&q=rio gallegos\n",
      "processing rio gallegos\n",
      "http://api.openweathermap.org/data/2.5/weather?units=metric&APPID=767db115d62ad68acd7e1d7444eef403&q=vaitupu\n",
      "processing vaitupu\n",
      "City not found.\n",
      "http://api.openweathermap.org/data/2.5/weather?units=metric&APPID=767db115d62ad68acd7e1d7444eef403&q=tuatapere\n",
      "processing tuatapere\n",
      "http://api.openweathermap.org/data/2.5/weather?units=metric&APPID=767db115d62ad68acd7e1d7444eef403&q=kavaratti\n",
      "processing kavaratti\n",
      "http://api.openweathermap.org/data/2.5/weather?units=metric&APPID=767db115d62ad68acd7e1d7444eef403&q=najran\n",
      "processing najran\n",
      "http://api.openweathermap.org/data/2.5/weather?units=metric&APPID=767db115d62ad68acd7e1d7444eef403&q=inhapim\n",
      "processing inhapim\n",
      "http://api.openweathermap.org/data/2.5/weather?units=metric&APPID=767db115d62ad68acd7e1d7444eef403&q=vanimo\n",
      "processing vanimo\n",
      "http://api.openweathermap.org/data/2.5/weather?units=metric&APPID=767db115d62ad68acd7e1d7444eef403&q=faanui\n",
      "processing faanui\n",
      "http://api.openweathermap.org/data/2.5/weather?units=metric&APPID=767db115d62ad68acd7e1d7444eef403&q=cabo san lucas\n",
      "processing cabo san lucas\n",
      "http://api.openweathermap.org/data/2.5/weather?units=metric&APPID=767db115d62ad68acd7e1d7444eef403&q=illoqqortoormiut\n",
      "processing illoqqortoormiut\n",
      "City not found.\n",
      "http://api.openweathermap.org/data/2.5/weather?units=metric&APPID=767db115d62ad68acd7e1d7444eef403&q=punta arenas\n",
      "processing punta arenas\n",
      "http://api.openweathermap.org/data/2.5/weather?units=metric&APPID=767db115d62ad68acd7e1d7444eef403&q=busselton\n",
      "processing busselton\n",
      "http://api.openweathermap.org/data/2.5/weather?units=metric&APPID=767db115d62ad68acd7e1d7444eef403&q=hobart\n",
      "processing hobart\n",
      "http://api.openweathermap.org/data/2.5/weather?units=metric&APPID=767db115d62ad68acd7e1d7444eef403&q=bembereke\n",
      "processing bembereke\n",
      "http://api.openweathermap.org/data/2.5/weather?units=metric&APPID=767db115d62ad68acd7e1d7444eef403&q=haradok\n",
      "processing haradok\n",
      "http://api.openweathermap.org/data/2.5/weather?units=metric&APPID=767db115d62ad68acd7e1d7444eef403&q=mount isa\n",
      "processing mount isa\n",
      "http://api.openweathermap.org/data/2.5/weather?units=metric&APPID=767db115d62ad68acd7e1d7444eef403&q=upernavik\n",
      "processing upernavik\n",
      "http://api.openweathermap.org/data/2.5/weather?units=metric&APPID=767db115d62ad68acd7e1d7444eef403&q=khatanga\n",
      "processing khatanga\n",
      "http://api.openweathermap.org/data/2.5/weather?units=metric&APPID=767db115d62ad68acd7e1d7444eef403&q=damietta\n",
      "processing damietta\n",
      "http://api.openweathermap.org/data/2.5/weather?units=metric&APPID=767db115d62ad68acd7e1d7444eef403&q=omboue\n",
      "processing omboue\n",
      "http://api.openweathermap.org/data/2.5/weather?units=metric&APPID=767db115d62ad68acd7e1d7444eef403&q=meulaboh\n",
      "processing meulaboh\n",
      "http://api.openweathermap.org/data/2.5/weather?units=metric&APPID=767db115d62ad68acd7e1d7444eef403&q=talnakh\n",
      "processing talnakh\n",
      "http://api.openweathermap.org/data/2.5/weather?units=metric&APPID=767db115d62ad68acd7e1d7444eef403&q=barreirinhas\n",
      "processing barreirinhas\n",
      "http://api.openweathermap.org/data/2.5/weather?units=metric&APPID=767db115d62ad68acd7e1d7444eef403&q=qaanaaq\n",
      "processing qaanaaq\n",
      "http://api.openweathermap.org/data/2.5/weather?units=metric&APPID=767db115d62ad68acd7e1d7444eef403&q=cockburn town\n",
      "processing cockburn town\n",
      "http://api.openweathermap.org/data/2.5/weather?units=metric&APPID=767db115d62ad68acd7e1d7444eef403&q=crotone\n",
      "processing crotone\n",
      "http://api.openweathermap.org/data/2.5/weather?units=metric&APPID=767db115d62ad68acd7e1d7444eef403&q=port elizabeth\n",
      "processing port elizabeth\n",
      "http://api.openweathermap.org/data/2.5/weather?units=metric&APPID=767db115d62ad68acd7e1d7444eef403&q=manokwari\n",
      "processing manokwari\n",
      "http://api.openweathermap.org/data/2.5/weather?units=metric&APPID=767db115d62ad68acd7e1d7444eef403&q=hermanus\n",
      "processing hermanus\n",
      "http://api.openweathermap.org/data/2.5/weather?units=metric&APPID=767db115d62ad68acd7e1d7444eef403&q=atuona\n",
      "processing atuona\n",
      "http://api.openweathermap.org/data/2.5/weather?units=metric&APPID=767db115d62ad68acd7e1d7444eef403&q=provideniya\n",
      "processing provideniya\n",
      "http://api.openweathermap.org/data/2.5/weather?units=metric&APPID=767db115d62ad68acd7e1d7444eef403&q=linfen\n",
      "processing linfen\n",
      "http://api.openweathermap.org/data/2.5/weather?units=metric&APPID=767db115d62ad68acd7e1d7444eef403&q=ginir\n",
      "processing ginir\n",
      "http://api.openweathermap.org/data/2.5/weather?units=metric&APPID=767db115d62ad68acd7e1d7444eef403&q=aasiaat\n",
      "processing aasiaat\n",
      "http://api.openweathermap.org/data/2.5/weather?units=metric&APPID=767db115d62ad68acd7e1d7444eef403&q=longyearbyen\n",
      "processing longyearbyen\n",
      "http://api.openweathermap.org/data/2.5/weather?units=metric&APPID=767db115d62ad68acd7e1d7444eef403&q=makokou\n",
      "processing makokou\n",
      "http://api.openweathermap.org/data/2.5/weather?units=metric&APPID=767db115d62ad68acd7e1d7444eef403&q=grafton\n",
      "processing grafton\n",
      "http://api.openweathermap.org/data/2.5/weather?units=metric&APPID=767db115d62ad68acd7e1d7444eef403&q=princeton\n",
      "processing princeton\n",
      "http://api.openweathermap.org/data/2.5/weather?units=metric&APPID=767db115d62ad68acd7e1d7444eef403&q=hlotse\n",
      "processing hlotse\n",
      "http://api.openweathermap.org/data/2.5/weather?units=metric&APPID=767db115d62ad68acd7e1d7444eef403&q=santiago del estero\n",
      "processing santiago del estero\n",
      "http://api.openweathermap.org/data/2.5/weather?units=metric&APPID=767db115d62ad68acd7e1d7444eef403&q=puerto ayora\n",
      "processing puerto ayora\n",
      "http://api.openweathermap.org/data/2.5/weather?units=metric&APPID=767db115d62ad68acd7e1d7444eef403&q=sao felix do xingu\n",
      "processing sao felix do xingu\n",
      "http://api.openweathermap.org/data/2.5/weather?units=metric&APPID=767db115d62ad68acd7e1d7444eef403&q=vardo\n",
      "processing vardo\n",
      "http://api.openweathermap.org/data/2.5/weather?units=metric&APPID=767db115d62ad68acd7e1d7444eef403&q=tombouctou\n",
      "processing tombouctou\n",
      "http://api.openweathermap.org/data/2.5/weather?units=metric&APPID=767db115d62ad68acd7e1d7444eef403&q=samarai\n",
      "processing samarai\n",
      "http://api.openweathermap.org/data/2.5/weather?units=metric&APPID=767db115d62ad68acd7e1d7444eef403&q=bambous virieux\n",
      "processing bambous virieux\n",
      "http://api.openweathermap.org/data/2.5/weather?units=metric&APPID=767db115d62ad68acd7e1d7444eef403&q=saint-paul\n",
      "processing saint-paul\n",
      "http://api.openweathermap.org/data/2.5/weather?units=metric&APPID=767db115d62ad68acd7e1d7444eef403&q=zhangzhou\n"
     ]
    },
    {
     "name": "stdout",
     "output_type": "stream",
     "text": [
      "processing zhangzhou\n",
      "http://api.openweathermap.org/data/2.5/weather?units=metric&APPID=767db115d62ad68acd7e1d7444eef403&q=ossora\n",
      "processing ossora\n",
      "http://api.openweathermap.org/data/2.5/weather?units=metric&APPID=767db115d62ad68acd7e1d7444eef403&q=prince rupert\n",
      "processing prince rupert\n",
      "http://api.openweathermap.org/data/2.5/weather?units=metric&APPID=767db115d62ad68acd7e1d7444eef403&q=boguchany\n",
      "processing boguchany\n",
      "http://api.openweathermap.org/data/2.5/weather?units=metric&APPID=767db115d62ad68acd7e1d7444eef403&q=dunedin\n",
      "processing dunedin\n",
      "http://api.openweathermap.org/data/2.5/weather?units=metric&APPID=767db115d62ad68acd7e1d7444eef403&q=nyrob\n",
      "processing nyrob\n",
      "http://api.openweathermap.org/data/2.5/weather?units=metric&APPID=767db115d62ad68acd7e1d7444eef403&q=salinas\n",
      "processing salinas\n",
      "http://api.openweathermap.org/data/2.5/weather?units=metric&APPID=767db115d62ad68acd7e1d7444eef403&q=eureka\n",
      "processing eureka\n",
      "http://api.openweathermap.org/data/2.5/weather?units=metric&APPID=767db115d62ad68acd7e1d7444eef403&q=mitsamiouli\n",
      "processing mitsamiouli\n",
      "http://api.openweathermap.org/data/2.5/weather?units=metric&APPID=767db115d62ad68acd7e1d7444eef403&q=san jeronimo\n",
      "processing san jeronimo\n",
      "http://api.openweathermap.org/data/2.5/weather?units=metric&APPID=767db115d62ad68acd7e1d7444eef403&q=barentsburg\n",
      "processing barentsburg\n",
      "City not found.\n",
      "http://api.openweathermap.org/data/2.5/weather?units=metric&APPID=767db115d62ad68acd7e1d7444eef403&q=oshakati\n",
      "processing oshakati\n",
      "http://api.openweathermap.org/data/2.5/weather?units=metric&APPID=767db115d62ad68acd7e1d7444eef403&q=arraial do cabo\n",
      "processing arraial do cabo\n",
      "http://api.openweathermap.org/data/2.5/weather?units=metric&APPID=767db115d62ad68acd7e1d7444eef403&q=kavieng\n",
      "processing kavieng\n",
      "http://api.openweathermap.org/data/2.5/weather?units=metric&APPID=767db115d62ad68acd7e1d7444eef403&q=amderma\n",
      "processing amderma\n",
      "City not found.\n",
      "http://api.openweathermap.org/data/2.5/weather?units=metric&APPID=767db115d62ad68acd7e1d7444eef403&q=gali\n",
      "processing gali\n",
      "http://api.openweathermap.org/data/2.5/weather?units=metric&APPID=767db115d62ad68acd7e1d7444eef403&q=mitu\n",
      "processing mitu\n",
      "http://api.openweathermap.org/data/2.5/weather?units=metric&APPID=767db115d62ad68acd7e1d7444eef403&q=boca do acre\n",
      "processing boca do acre\n",
      "http://api.openweathermap.org/data/2.5/weather?units=metric&APPID=767db115d62ad68acd7e1d7444eef403&q=hithadhoo\n",
      "processing hithadhoo\n",
      "http://api.openweathermap.org/data/2.5/weather?units=metric&APPID=767db115d62ad68acd7e1d7444eef403&q=nizhniy odes\n",
      "processing nizhniy odes\n",
      "http://api.openweathermap.org/data/2.5/weather?units=metric&APPID=767db115d62ad68acd7e1d7444eef403&q=torbay\n",
      "processing torbay\n",
      "http://api.openweathermap.org/data/2.5/weather?units=metric&APPID=767db115d62ad68acd7e1d7444eef403&q=phalaborwa\n",
      "processing phalaborwa\n",
      "http://api.openweathermap.org/data/2.5/weather?units=metric&APPID=767db115d62ad68acd7e1d7444eef403&q=palabuhanratu\n",
      "processing palabuhanratu\n",
      "City not found.\n",
      "http://api.openweathermap.org/data/2.5/weather?units=metric&APPID=767db115d62ad68acd7e1d7444eef403&q=port lincoln\n",
      "processing port lincoln\n",
      "http://api.openweathermap.org/data/2.5/weather?units=metric&APPID=767db115d62ad68acd7e1d7444eef403&q=yellowknife\n",
      "processing yellowknife\n",
      "http://api.openweathermap.org/data/2.5/weather?units=metric&APPID=767db115d62ad68acd7e1d7444eef403&q=buariki\n",
      "processing buariki\n",
      "City not found.\n",
      "http://api.openweathermap.org/data/2.5/weather?units=metric&APPID=767db115d62ad68acd7e1d7444eef403&q=agirish\n",
      "processing agirish\n",
      "http://api.openweathermap.org/data/2.5/weather?units=metric&APPID=767db115d62ad68acd7e1d7444eef403&q=diamantino\n",
      "processing diamantino\n",
      "http://api.openweathermap.org/data/2.5/weather?units=metric&APPID=767db115d62ad68acd7e1d7444eef403&q=roura\n",
      "processing roura\n",
      "http://api.openweathermap.org/data/2.5/weather?units=metric&APPID=767db115d62ad68acd7e1d7444eef403&q=namatanai\n",
      "processing namatanai\n",
      "http://api.openweathermap.org/data/2.5/weather?units=metric&APPID=767db115d62ad68acd7e1d7444eef403&q=gimli\n",
      "processing gimli\n",
      "http://api.openweathermap.org/data/2.5/weather?units=metric&APPID=767db115d62ad68acd7e1d7444eef403&q=aflu\n",
      "processing aflu\n",
      "City not found.\n",
      "http://api.openweathermap.org/data/2.5/weather?units=metric&APPID=767db115d62ad68acd7e1d7444eef403&q=pisco\n",
      "processing pisco\n",
      "http://api.openweathermap.org/data/2.5/weather?units=metric&APPID=767db115d62ad68acd7e1d7444eef403&q=cicanesti\n",
      "processing cicanesti\n",
      "http://api.openweathermap.org/data/2.5/weather?units=metric&APPID=767db115d62ad68acd7e1d7444eef403&q=vilyuysk\n",
      "processing vilyuysk\n",
      "http://api.openweathermap.org/data/2.5/weather?units=metric&APPID=767db115d62ad68acd7e1d7444eef403&q=jacmel\n",
      "processing jacmel\n",
      "http://api.openweathermap.org/data/2.5/weather?units=metric&APPID=767db115d62ad68acd7e1d7444eef403&q=ribeira grande\n",
      "processing ribeira grande\n",
      "http://api.openweathermap.org/data/2.5/weather?units=metric&APPID=767db115d62ad68acd7e1d7444eef403&q=vao\n",
      "processing vao\n",
      "http://api.openweathermap.org/data/2.5/weather?units=metric&APPID=767db115d62ad68acd7e1d7444eef403&q=klaksvik\n",
      "processing klaksvik\n",
      "http://api.openweathermap.org/data/2.5/weather?units=metric&APPID=767db115d62ad68acd7e1d7444eef403&q=mahebourg\n",
      "processing mahebourg\n",
      "http://api.openweathermap.org/data/2.5/weather?units=metric&APPID=767db115d62ad68acd7e1d7444eef403&q=hamilton\n",
      "processing hamilton\n",
      "http://api.openweathermap.org/data/2.5/weather?units=metric&APPID=767db115d62ad68acd7e1d7444eef403&q=taybad\n",
      "processing taybad\n",
      "http://api.openweathermap.org/data/2.5/weather?units=metric&APPID=767db115d62ad68acd7e1d7444eef403&q=vila franca do campo\n",
      "processing vila franca do campo\n",
      "http://api.openweathermap.org/data/2.5/weather?units=metric&APPID=767db115d62ad68acd7e1d7444eef403&q=ketchikan\n",
      "processing ketchikan\n",
      "http://api.openweathermap.org/data/2.5/weather?units=metric&APPID=767db115d62ad68acd7e1d7444eef403&q=puerto leguizamo\n",
      "processing puerto leguizamo\n",
      "http://api.openweathermap.org/data/2.5/weather?units=metric&APPID=767db115d62ad68acd7e1d7444eef403&q=bethel\n",
      "processing bethel\n",
      "http://api.openweathermap.org/data/2.5/weather?units=metric&APPID=767db115d62ad68acd7e1d7444eef403&q=new norfolk\n",
      "processing new norfolk\n",
      "http://api.openweathermap.org/data/2.5/weather?units=metric&APPID=767db115d62ad68acd7e1d7444eef403&q=airai\n",
      "processing airai\n",
      "http://api.openweathermap.org/data/2.5/weather?units=metric&APPID=767db115d62ad68acd7e1d7444eef403&q=muros\n",
      "processing muros\n",
      "http://api.openweathermap.org/data/2.5/weather?units=metric&APPID=767db115d62ad68acd7e1d7444eef403&q=umuahia\n",
      "processing umuahia\n",
      "http://api.openweathermap.org/data/2.5/weather?units=metric&APPID=767db115d62ad68acd7e1d7444eef403&q=saleaula\n",
      "processing saleaula\n",
      "City not found.\n",
      "http://api.openweathermap.org/data/2.5/weather?units=metric&APPID=767db115d62ad68acd7e1d7444eef403&q=dingli\n",
      "processing dingli\n",
      "http://api.openweathermap.org/data/2.5/weather?units=metric&APPID=767db115d62ad68acd7e1d7444eef403&q=weligama\n",
      "processing weligama\n",
      "http://api.openweathermap.org/data/2.5/weather?units=metric&APPID=767db115d62ad68acd7e1d7444eef403&q=tuktoyaktuk\n",
      "processing tuktoyaktuk\n",
      "http://api.openweathermap.org/data/2.5/weather?units=metric&APPID=767db115d62ad68acd7e1d7444eef403&q=nanortalik\n",
      "processing nanortalik\n",
      "http://api.openweathermap.org/data/2.5/weather?units=metric&APPID=767db115d62ad68acd7e1d7444eef403&q=nikolskoye\n",
      "processing nikolskoye\n",
      "http://api.openweathermap.org/data/2.5/weather?units=metric&APPID=767db115d62ad68acd7e1d7444eef403&q=sorland\n",
      "processing sorland\n",
      "http://api.openweathermap.org/data/2.5/weather?units=metric&APPID=767db115d62ad68acd7e1d7444eef403&q=ascension\n",
      "processing ascension\n",
      "http://api.openweathermap.org/data/2.5/weather?units=metric&APPID=767db115d62ad68acd7e1d7444eef403&q=pemba\n",
      "processing pemba\n",
      "http://api.openweathermap.org/data/2.5/weather?units=metric&APPID=767db115d62ad68acd7e1d7444eef403&q=batemans bay\n",
      "processing batemans bay\n",
      "http://api.openweathermap.org/data/2.5/weather?units=metric&APPID=767db115d62ad68acd7e1d7444eef403&q=buritis\n",
      "processing buritis\n",
      "http://api.openweathermap.org/data/2.5/weather?units=metric&APPID=767db115d62ad68acd7e1d7444eef403&q=altay\n",
      "processing altay\n",
      "http://api.openweathermap.org/data/2.5/weather?units=metric&APPID=767db115d62ad68acd7e1d7444eef403&q=makubetsu\n"
     ]
    },
    {
     "name": "stdout",
     "output_type": "stream",
     "text": [
      "processing makubetsu\n",
      "http://api.openweathermap.org/data/2.5/weather?units=metric&APPID=767db115d62ad68acd7e1d7444eef403&q=san borja\n",
      "processing san borja\n",
      "http://api.openweathermap.org/data/2.5/weather?units=metric&APPID=767db115d62ad68acd7e1d7444eef403&q=erenhot\n",
      "processing erenhot\n",
      "http://api.openweathermap.org/data/2.5/weather?units=metric&APPID=767db115d62ad68acd7e1d7444eef403&q=hilo\n",
      "processing hilo\n",
      "http://api.openweathermap.org/data/2.5/weather?units=metric&APPID=767db115d62ad68acd7e1d7444eef403&q=christiansfeld\n",
      "processing christiansfeld\n",
      "http://api.openweathermap.org/data/2.5/weather?units=metric&APPID=767db115d62ad68acd7e1d7444eef403&q=tamandare\n",
      "processing tamandare\n",
      "http://api.openweathermap.org/data/2.5/weather?units=metric&APPID=767db115d62ad68acd7e1d7444eef403&q=kirakira\n",
      "processing kirakira\n",
      "http://api.openweathermap.org/data/2.5/weather?units=metric&APPID=767db115d62ad68acd7e1d7444eef403&q=flin flon\n",
      "processing flin flon\n",
      "http://api.openweathermap.org/data/2.5/weather?units=metric&APPID=767db115d62ad68acd7e1d7444eef403&q=cayenne\n",
      "processing cayenne\n",
      "http://api.openweathermap.org/data/2.5/weather?units=metric&APPID=767db115d62ad68acd7e1d7444eef403&q=kiunga\n",
      "processing kiunga\n",
      "http://api.openweathermap.org/data/2.5/weather?units=metric&APPID=767db115d62ad68acd7e1d7444eef403&q=mehamn\n",
      "processing mehamn\n",
      "http://api.openweathermap.org/data/2.5/weather?units=metric&APPID=767db115d62ad68acd7e1d7444eef403&q=pangnirtung\n",
      "processing pangnirtung\n",
      "http://api.openweathermap.org/data/2.5/weather?units=metric&APPID=767db115d62ad68acd7e1d7444eef403&q=virginia beach\n",
      "processing virginia beach\n",
      "http://api.openweathermap.org/data/2.5/weather?units=metric&APPID=767db115d62ad68acd7e1d7444eef403&q=mehtar lam\n",
      "processing mehtar lam\n",
      "http://api.openweathermap.org/data/2.5/weather?units=metric&APPID=767db115d62ad68acd7e1d7444eef403&q=kodinsk\n",
      "processing kodinsk\n",
      "http://api.openweathermap.org/data/2.5/weather?units=metric&APPID=767db115d62ad68acd7e1d7444eef403&q=ust-ilimsk\n",
      "processing ust-ilimsk\n",
      "http://api.openweathermap.org/data/2.5/weather?units=metric&APPID=767db115d62ad68acd7e1d7444eef403&q=inhambane\n",
      "processing inhambane\n",
      "http://api.openweathermap.org/data/2.5/weather?units=metric&APPID=767db115d62ad68acd7e1d7444eef403&q=college\n",
      "processing college\n",
      "http://api.openweathermap.org/data/2.5/weather?units=metric&APPID=767db115d62ad68acd7e1d7444eef403&q=isangel\n",
      "processing isangel\n",
      "http://api.openweathermap.org/data/2.5/weather?units=metric&APPID=767db115d62ad68acd7e1d7444eef403&q=auki\n",
      "processing auki\n",
      "http://api.openweathermap.org/data/2.5/weather?units=metric&APPID=767db115d62ad68acd7e1d7444eef403&q=kindu\n",
      "processing kindu\n",
      "http://api.openweathermap.org/data/2.5/weather?units=metric&APPID=767db115d62ad68acd7e1d7444eef403&q=rio grande\n",
      "processing rio grande\n",
      "http://api.openweathermap.org/data/2.5/weather?units=metric&APPID=767db115d62ad68acd7e1d7444eef403&q=kaili\n",
      "processing kaili\n",
      "http://api.openweathermap.org/data/2.5/weather?units=metric&APPID=767db115d62ad68acd7e1d7444eef403&q=bilma\n",
      "processing bilma\n",
      "http://api.openweathermap.org/data/2.5/weather?units=metric&APPID=767db115d62ad68acd7e1d7444eef403&q=ha tinh\n",
      "processing ha tinh\n",
      "http://api.openweathermap.org/data/2.5/weather?units=metric&APPID=767db115d62ad68acd7e1d7444eef403&q=dwarka\n",
      "processing dwarka\n",
      "http://api.openweathermap.org/data/2.5/weather?units=metric&APPID=767db115d62ad68acd7e1d7444eef403&q=hay river\n",
      "processing hay river\n",
      "http://api.openweathermap.org/data/2.5/weather?units=metric&APPID=767db115d62ad68acd7e1d7444eef403&q=buchanan\n",
      "processing buchanan\n",
      "http://api.openweathermap.org/data/2.5/weather?units=metric&APPID=767db115d62ad68acd7e1d7444eef403&q=hami\n",
      "processing hami\n",
      "http://api.openweathermap.org/data/2.5/weather?units=metric&APPID=767db115d62ad68acd7e1d7444eef403&q=grand gaube\n",
      "processing grand gaube\n",
      "http://api.openweathermap.org/data/2.5/weather?units=metric&APPID=767db115d62ad68acd7e1d7444eef403&q=san patricio\n",
      "processing san patricio\n",
      "http://api.openweathermap.org/data/2.5/weather?units=metric&APPID=767db115d62ad68acd7e1d7444eef403&q=kyra\n",
      "processing kyra\n",
      "http://api.openweathermap.org/data/2.5/weather?units=metric&APPID=767db115d62ad68acd7e1d7444eef403&q=vanavara\n",
      "processing vanavara\n",
      "http://api.openweathermap.org/data/2.5/weather?units=metric&APPID=767db115d62ad68acd7e1d7444eef403&q=sao francisco do sul\n",
      "processing sao francisco do sul\n",
      "http://api.openweathermap.org/data/2.5/weather?units=metric&APPID=767db115d62ad68acd7e1d7444eef403&q=sentyabrskiy\n",
      "processing sentyabrskiy\n",
      "City not found.\n",
      "http://api.openweathermap.org/data/2.5/weather?units=metric&APPID=767db115d62ad68acd7e1d7444eef403&q=orocue\n",
      "processing orocue\n",
      "http://api.openweathermap.org/data/2.5/weather?units=metric&APPID=767db115d62ad68acd7e1d7444eef403&q=iskilip\n",
      "processing iskilip\n",
      "http://api.openweathermap.org/data/2.5/weather?units=metric&APPID=767db115d62ad68acd7e1d7444eef403&q=chuy\n",
      "processing chuy\n",
      "http://api.openweathermap.org/data/2.5/weather?units=metric&APPID=767db115d62ad68acd7e1d7444eef403&q=chokurdakh\n",
      "processing chokurdakh\n",
      "http://api.openweathermap.org/data/2.5/weather?units=metric&APPID=767db115d62ad68acd7e1d7444eef403&q=thompson\n",
      "processing thompson\n",
      "http://api.openweathermap.org/data/2.5/weather?units=metric&APPID=767db115d62ad68acd7e1d7444eef403&q=knysna\n",
      "processing knysna\n",
      "http://api.openweathermap.org/data/2.5/weather?units=metric&APPID=767db115d62ad68acd7e1d7444eef403&q=cherskiy\n",
      "processing cherskiy\n",
      "http://api.openweathermap.org/data/2.5/weather?units=metric&APPID=767db115d62ad68acd7e1d7444eef403&q=fairbanks\n",
      "processing fairbanks\n",
      "http://api.openweathermap.org/data/2.5/weather?units=metric&APPID=767db115d62ad68acd7e1d7444eef403&q=waingapu\n",
      "processing waingapu\n",
      "http://api.openweathermap.org/data/2.5/weather?units=metric&APPID=767db115d62ad68acd7e1d7444eef403&q=anadyr\n",
      "processing anadyr\n",
      "http://api.openweathermap.org/data/2.5/weather?units=metric&APPID=767db115d62ad68acd7e1d7444eef403&q=kapaa\n",
      "processing kapaa\n",
      "http://api.openweathermap.org/data/2.5/weather?units=metric&APPID=767db115d62ad68acd7e1d7444eef403&q=opuwo\n",
      "processing opuwo\n",
      "http://api.openweathermap.org/data/2.5/weather?units=metric&APPID=767db115d62ad68acd7e1d7444eef403&q=marystown\n",
      "processing marystown\n",
      "http://api.openweathermap.org/data/2.5/weather?units=metric&APPID=767db115d62ad68acd7e1d7444eef403&q=yar-sale\n",
      "processing yar-sale\n",
      "http://api.openweathermap.org/data/2.5/weather?units=metric&APPID=767db115d62ad68acd7e1d7444eef403&q=paamiut\n",
      "processing paamiut\n",
      "http://api.openweathermap.org/data/2.5/weather?units=metric&APPID=767db115d62ad68acd7e1d7444eef403&q=hobyo\n",
      "processing hobyo\n",
      "http://api.openweathermap.org/data/2.5/weather?units=metric&APPID=767db115d62ad68acd7e1d7444eef403&q=keti bandar\n",
      "processing keti bandar\n",
      "http://api.openweathermap.org/data/2.5/weather?units=metric&APPID=767db115d62ad68acd7e1d7444eef403&q=diamantina\n",
      "processing diamantina\n",
      "http://api.openweathermap.org/data/2.5/weather?units=metric&APPID=767db115d62ad68acd7e1d7444eef403&q=ibipeba\n",
      "processing ibipeba\n",
      "http://api.openweathermap.org/data/2.5/weather?units=metric&APPID=767db115d62ad68acd7e1d7444eef403&q=woodward\n",
      "processing woodward\n",
      "http://api.openweathermap.org/data/2.5/weather?units=metric&APPID=767db115d62ad68acd7e1d7444eef403&q=capinzal\n",
      "processing capinzal\n",
      "http://api.openweathermap.org/data/2.5/weather?units=metric&APPID=767db115d62ad68acd7e1d7444eef403&q=nizhniy kuranakh\n",
      "processing nizhniy kuranakh\n",
      "http://api.openweathermap.org/data/2.5/weather?units=metric&APPID=767db115d62ad68acd7e1d7444eef403&q=karkaralinsk\n",
      "processing karkaralinsk\n",
      "City not found.\n",
      "http://api.openweathermap.org/data/2.5/weather?units=metric&APPID=767db115d62ad68acd7e1d7444eef403&q=bontang\n",
      "processing bontang\n",
      "http://api.openweathermap.org/data/2.5/weather?units=metric&APPID=767db115d62ad68acd7e1d7444eef403&q=bolungarvik\n",
      "processing bolungarvik\n",
      "City not found.\n",
      "http://api.openweathermap.org/data/2.5/weather?units=metric&APPID=767db115d62ad68acd7e1d7444eef403&q=erzin\n",
      "processing erzin\n",
      "http://api.openweathermap.org/data/2.5/weather?units=metric&APPID=767db115d62ad68acd7e1d7444eef403&q=shingu\n",
      "processing shingu\n",
      "http://api.openweathermap.org/data/2.5/weather?units=metric&APPID=767db115d62ad68acd7e1d7444eef403&q=lolua\n",
      "processing lolua\n",
      "City not found.\n",
      "http://api.openweathermap.org/data/2.5/weather?units=metric&APPID=767db115d62ad68acd7e1d7444eef403&q=sawakin\n"
     ]
    },
    {
     "name": "stdout",
     "output_type": "stream",
     "text": [
      "processing sawakin\n",
      "http://api.openweathermap.org/data/2.5/weather?units=metric&APPID=767db115d62ad68acd7e1d7444eef403&q=nizhneshilovka\n",
      "processing nizhneshilovka\n",
      "City not found.\n",
      "http://api.openweathermap.org/data/2.5/weather?units=metric&APPID=767db115d62ad68acd7e1d7444eef403&q=san vicente\n",
      "processing san vicente\n",
      "http://api.openweathermap.org/data/2.5/weather?units=metric&APPID=767db115d62ad68acd7e1d7444eef403&q=tasiilaq\n",
      "processing tasiilaq\n",
      "http://api.openweathermap.org/data/2.5/weather?units=metric&APPID=767db115d62ad68acd7e1d7444eef403&q=plettenberg bay\n",
      "processing plettenberg bay\n",
      "http://api.openweathermap.org/data/2.5/weather?units=metric&APPID=767db115d62ad68acd7e1d7444eef403&q=nantucket\n",
      "processing nantucket\n",
      "http://api.openweathermap.org/data/2.5/weather?units=metric&APPID=767db115d62ad68acd7e1d7444eef403&q=hvolsvollur\n",
      "processing hvolsvollur\n",
      "http://api.openweathermap.org/data/2.5/weather?units=metric&APPID=767db115d62ad68acd7e1d7444eef403&q=qasigiannguit\n",
      "processing qasigiannguit\n",
      "http://api.openweathermap.org/data/2.5/weather?units=metric&APPID=767db115d62ad68acd7e1d7444eef403&q=okmulgee\n",
      "processing okmulgee\n",
      "http://api.openweathermap.org/data/2.5/weather?units=metric&APPID=767db115d62ad68acd7e1d7444eef403&q=obo\n",
      "processing obo\n",
      "http://api.openweathermap.org/data/2.5/weather?units=metric&APPID=767db115d62ad68acd7e1d7444eef403&q=petropavlovsk-kamchatskiy\n",
      "processing petropavlovsk-kamchatskiy\n",
      "http://api.openweathermap.org/data/2.5/weather?units=metric&APPID=767db115d62ad68acd7e1d7444eef403&q=ulagan\n",
      "processing ulagan\n",
      "http://api.openweathermap.org/data/2.5/weather?units=metric&APPID=767db115d62ad68acd7e1d7444eef403&q=ostersund\n",
      "processing ostersund\n",
      "http://api.openweathermap.org/data/2.5/weather?units=metric&APPID=767db115d62ad68acd7e1d7444eef403&q=lavrentiya\n",
      "processing lavrentiya\n",
      "http://api.openweathermap.org/data/2.5/weather?units=metric&APPID=767db115d62ad68acd7e1d7444eef403&q=batesville\n",
      "processing batesville\n",
      "http://api.openweathermap.org/data/2.5/weather?units=metric&APPID=767db115d62ad68acd7e1d7444eef403&q=aswan\n",
      "processing aswan\n",
      "http://api.openweathermap.org/data/2.5/weather?units=metric&APPID=767db115d62ad68acd7e1d7444eef403&q=dalvik\n",
      "processing dalvik\n",
      "http://api.openweathermap.org/data/2.5/weather?units=metric&APPID=767db115d62ad68acd7e1d7444eef403&q=genhe\n",
      "processing genhe\n",
      "http://api.openweathermap.org/data/2.5/weather?units=metric&APPID=767db115d62ad68acd7e1d7444eef403&q=harper\n",
      "processing harper\n",
      "http://api.openweathermap.org/data/2.5/weather?units=metric&APPID=767db115d62ad68acd7e1d7444eef403&q=victoria\n",
      "processing victoria\n",
      "http://api.openweathermap.org/data/2.5/weather?units=metric&APPID=767db115d62ad68acd7e1d7444eef403&q=yulara\n",
      "processing yulara\n",
      "http://api.openweathermap.org/data/2.5/weather?units=metric&APPID=767db115d62ad68acd7e1d7444eef403&q=batsfjord\n",
      "processing batsfjord\n",
      "http://api.openweathermap.org/data/2.5/weather?units=metric&APPID=767db115d62ad68acd7e1d7444eef403&q=beloha\n",
      "processing beloha\n",
      "http://api.openweathermap.org/data/2.5/weather?units=metric&APPID=767db115d62ad68acd7e1d7444eef403&q=jadu\n",
      "processing jadu\n",
      "http://api.openweathermap.org/data/2.5/weather?units=metric&APPID=767db115d62ad68acd7e1d7444eef403&q=bengkulu\n",
      "processing bengkulu\n",
      "http://api.openweathermap.org/data/2.5/weather?units=metric&APPID=767db115d62ad68acd7e1d7444eef403&q=avera\n",
      "processing avera\n",
      "http://api.openweathermap.org/data/2.5/weather?units=metric&APPID=767db115d62ad68acd7e1d7444eef403&q=east london\n",
      "processing east london\n",
      "http://api.openweathermap.org/data/2.5/weather?units=metric&APPID=767db115d62ad68acd7e1d7444eef403&q=constitucion\n",
      "processing constitucion\n",
      "http://api.openweathermap.org/data/2.5/weather?units=metric&APPID=767db115d62ad68acd7e1d7444eef403&q=lillooet\n",
      "processing lillooet\n",
      "http://api.openweathermap.org/data/2.5/weather?units=metric&APPID=767db115d62ad68acd7e1d7444eef403&q=severo-kurilsk\n",
      "processing severo-kurilsk\n",
      "http://api.openweathermap.org/data/2.5/weather?units=metric&APPID=767db115d62ad68acd7e1d7444eef403&q=kisangani\n",
      "processing kisangani\n",
      "http://api.openweathermap.org/data/2.5/weather?units=metric&APPID=767db115d62ad68acd7e1d7444eef403&q=fereydun kenar\n",
      "processing fereydun kenar\n",
      "http://api.openweathermap.org/data/2.5/weather?units=metric&APPID=767db115d62ad68acd7e1d7444eef403&q=guerrero negro\n",
      "processing guerrero negro\n",
      "http://api.openweathermap.org/data/2.5/weather?units=metric&APPID=767db115d62ad68acd7e1d7444eef403&q=rumboci\n",
      "processing rumboci\n",
      "http://api.openweathermap.org/data/2.5/weather?units=metric&APPID=767db115d62ad68acd7e1d7444eef403&q=tahta\n",
      "processing tahta\n",
      "http://api.openweathermap.org/data/2.5/weather?units=metric&APPID=767db115d62ad68acd7e1d7444eef403&q=kimbe\n",
      "processing kimbe\n",
      "http://api.openweathermap.org/data/2.5/weather?units=metric&APPID=767db115d62ad68acd7e1d7444eef403&q=simpang\n",
      "processing simpang\n",
      "http://api.openweathermap.org/data/2.5/weather?units=metric&APPID=767db115d62ad68acd7e1d7444eef403&q=kudahuvadhoo\n",
      "processing kudahuvadhoo\n",
      "http://api.openweathermap.org/data/2.5/weather?units=metric&APPID=767db115d62ad68acd7e1d7444eef403&q=honiara\n",
      "processing honiara\n",
      "http://api.openweathermap.org/data/2.5/weather?units=metric&APPID=767db115d62ad68acd7e1d7444eef403&q=sydney\n",
      "processing sydney\n",
      "http://api.openweathermap.org/data/2.5/weather?units=metric&APPID=767db115d62ad68acd7e1d7444eef403&q=sioux lookout\n",
      "processing sioux lookout\n",
      "http://api.openweathermap.org/data/2.5/weather?units=metric&APPID=767db115d62ad68acd7e1d7444eef403&q=pevek\n",
      "processing pevek\n",
      "http://api.openweathermap.org/data/2.5/weather?units=metric&APPID=767db115d62ad68acd7e1d7444eef403&q=zinder\n",
      "processing zinder\n",
      "http://api.openweathermap.org/data/2.5/weather?units=metric&APPID=767db115d62ad68acd7e1d7444eef403&q=pacific grove\n",
      "processing pacific grove\n",
      "http://api.openweathermap.org/data/2.5/weather?units=metric&APPID=767db115d62ad68acd7e1d7444eef403&q=fortuna\n",
      "processing fortuna\n",
      "http://api.openweathermap.org/data/2.5/weather?units=metric&APPID=767db115d62ad68acd7e1d7444eef403&q=norman wells\n",
      "processing norman wells\n",
      "http://api.openweathermap.org/data/2.5/weather?units=metric&APPID=767db115d62ad68acd7e1d7444eef403&q=shenjiamen\n",
      "processing shenjiamen\n",
      "http://api.openweathermap.org/data/2.5/weather?units=metric&APPID=767db115d62ad68acd7e1d7444eef403&q=katsuura\n",
      "processing katsuura\n",
      "http://api.openweathermap.org/data/2.5/weather?units=metric&APPID=767db115d62ad68acd7e1d7444eef403&q=iqaluit\n",
      "processing iqaluit\n",
      "http://api.openweathermap.org/data/2.5/weather?units=metric&APPID=767db115d62ad68acd7e1d7444eef403&q=kodiak\n",
      "processing kodiak\n",
      "http://api.openweathermap.org/data/2.5/weather?units=metric&APPID=767db115d62ad68acd7e1d7444eef403&q=hutang\n",
      "processing hutang\n",
      "http://api.openweathermap.org/data/2.5/weather?units=metric&APPID=767db115d62ad68acd7e1d7444eef403&q=el alto\n",
      "processing el alto\n",
      "http://api.openweathermap.org/data/2.5/weather?units=metric&APPID=767db115d62ad68acd7e1d7444eef403&q=hambantota\n",
      "processing hambantota\n",
      "http://api.openweathermap.org/data/2.5/weather?units=metric&APPID=767db115d62ad68acd7e1d7444eef403&q=aklavik\n",
      "processing aklavik\n",
      "http://api.openweathermap.org/data/2.5/weather?units=metric&APPID=767db115d62ad68acd7e1d7444eef403&q=ararat\n",
      "processing ararat\n",
      "http://api.openweathermap.org/data/2.5/weather?units=metric&APPID=767db115d62ad68acd7e1d7444eef403&q=barawe\n",
      "processing barawe\n",
      "City not found.\n",
      "http://api.openweathermap.org/data/2.5/weather?units=metric&APPID=767db115d62ad68acd7e1d7444eef403&q=koumac\n",
      "processing koumac\n",
      "http://api.openweathermap.org/data/2.5/weather?units=metric&APPID=767db115d62ad68acd7e1d7444eef403&q=ilulissat\n",
      "processing ilulissat\n",
      "http://api.openweathermap.org/data/2.5/weather?units=metric&APPID=767db115d62ad68acd7e1d7444eef403&q=los llanos de aridane\n",
      "processing los llanos de aridane\n",
      "http://api.openweathermap.org/data/2.5/weather?units=metric&APPID=767db115d62ad68acd7e1d7444eef403&q=pochutla\n",
      "processing pochutla\n",
      "http://api.openweathermap.org/data/2.5/weather?units=metric&APPID=767db115d62ad68acd7e1d7444eef403&q=midland\n",
      "processing midland\n",
      "http://api.openweathermap.org/data/2.5/weather?units=metric&APPID=767db115d62ad68acd7e1d7444eef403&q=muroto\n",
      "processing muroto\n",
      "http://api.openweathermap.org/data/2.5/weather?units=metric&APPID=767db115d62ad68acd7e1d7444eef403&q=klyuchi\n",
      "processing klyuchi\n",
      "http://api.openweathermap.org/data/2.5/weather?units=metric&APPID=767db115d62ad68acd7e1d7444eef403&q=batticaloa\n"
     ]
    },
    {
     "name": "stdout",
     "output_type": "stream",
     "text": [
      "processing batticaloa\n",
      "http://api.openweathermap.org/data/2.5/weather?units=metric&APPID=767db115d62ad68acd7e1d7444eef403&q=williston\n",
      "processing williston\n",
      "http://api.openweathermap.org/data/2.5/weather?units=metric&APPID=767db115d62ad68acd7e1d7444eef403&q=ponca city\n",
      "processing ponca city\n",
      "http://api.openweathermap.org/data/2.5/weather?units=metric&APPID=767db115d62ad68acd7e1d7444eef403&q=dergachi\n",
      "processing dergachi\n",
      "http://api.openweathermap.org/data/2.5/weather?units=metric&APPID=767db115d62ad68acd7e1d7444eef403&q=kysyl-syr\n",
      "processing kysyl-syr\n",
      "http://api.openweathermap.org/data/2.5/weather?units=metric&APPID=767db115d62ad68acd7e1d7444eef403&q=portland\n",
      "processing portland\n",
      "http://api.openweathermap.org/data/2.5/weather?units=metric&APPID=767db115d62ad68acd7e1d7444eef403&q=bujak\n",
      "processing bujak\n",
      "http://api.openweathermap.org/data/2.5/weather?units=metric&APPID=767db115d62ad68acd7e1d7444eef403&q=high level\n",
      "processing high level\n",
      "http://api.openweathermap.org/data/2.5/weather?units=metric&APPID=767db115d62ad68acd7e1d7444eef403&q=tiksi\n",
      "processing tiksi\n",
      "http://api.openweathermap.org/data/2.5/weather?units=metric&APPID=767db115d62ad68acd7e1d7444eef403&q=crixas\n",
      "processing crixas\n",
      "http://api.openweathermap.org/data/2.5/weather?units=metric&APPID=767db115d62ad68acd7e1d7444eef403&q=yanggu\n",
      "processing yanggu\n",
      "http://api.openweathermap.org/data/2.5/weather?units=metric&APPID=767db115d62ad68acd7e1d7444eef403&q=ishigaki\n",
      "processing ishigaki\n",
      "http://api.openweathermap.org/data/2.5/weather?units=metric&APPID=767db115d62ad68acd7e1d7444eef403&q=axim\n",
      "processing axim\n",
      "http://api.openweathermap.org/data/2.5/weather?units=metric&APPID=767db115d62ad68acd7e1d7444eef403&q=burnie\n",
      "processing burnie\n",
      "http://api.openweathermap.org/data/2.5/weather?units=metric&APPID=767db115d62ad68acd7e1d7444eef403&q=ust-barguzin\n",
      "processing ust-barguzin\n",
      "http://api.openweathermap.org/data/2.5/weather?units=metric&APPID=767db115d62ad68acd7e1d7444eef403&q=doha\n",
      "processing doha\n",
      "http://api.openweathermap.org/data/2.5/weather?units=metric&APPID=767db115d62ad68acd7e1d7444eef403&q=iracoubo\n",
      "processing iracoubo\n",
      "http://api.openweathermap.org/data/2.5/weather?units=metric&APPID=767db115d62ad68acd7e1d7444eef403&q=cuyamel\n",
      "processing cuyamel\n",
      "http://api.openweathermap.org/data/2.5/weather?units=metric&APPID=767db115d62ad68acd7e1d7444eef403&q=brae\n",
      "processing brae\n",
      "http://api.openweathermap.org/data/2.5/weather?units=metric&APPID=767db115d62ad68acd7e1d7444eef403&q=asfi\n",
      "processing asfi\n",
      "http://api.openweathermap.org/data/2.5/weather?units=metric&APPID=767db115d62ad68acd7e1d7444eef403&q=lebyazhye\n",
      "processing lebyazhye\n",
      "http://api.openweathermap.org/data/2.5/weather?units=metric&APPID=767db115d62ad68acd7e1d7444eef403&q=marcona\n",
      "processing marcona\n",
      "City not found.\n",
      "http://api.openweathermap.org/data/2.5/weather?units=metric&APPID=767db115d62ad68acd7e1d7444eef403&q=broken hill\n",
      "processing broken hill\n",
      "http://api.openweathermap.org/data/2.5/weather?units=metric&APPID=767db115d62ad68acd7e1d7444eef403&q=gornopravdinsk\n",
      "processing gornopravdinsk\n",
      "http://api.openweathermap.org/data/2.5/weather?units=metric&APPID=767db115d62ad68acd7e1d7444eef403&q=baker city\n",
      "processing baker city\n",
      "http://api.openweathermap.org/data/2.5/weather?units=metric&APPID=767db115d62ad68acd7e1d7444eef403&q=lubango\n",
      "processing lubango\n",
      "http://api.openweathermap.org/data/2.5/weather?units=metric&APPID=767db115d62ad68acd7e1d7444eef403&q=cao bang\n",
      "processing cao bang\n",
      "http://api.openweathermap.org/data/2.5/weather?units=metric&APPID=767db115d62ad68acd7e1d7444eef403&q=laguna\n",
      "processing laguna\n",
      "http://api.openweathermap.org/data/2.5/weather?units=metric&APPID=767db115d62ad68acd7e1d7444eef403&q=mys shmidta\n",
      "processing mys shmidta\n",
      "City not found.\n",
      "http://api.openweathermap.org/data/2.5/weather?units=metric&APPID=767db115d62ad68acd7e1d7444eef403&q=samusu\n",
      "processing samusu\n",
      "City not found.\n",
      "http://api.openweathermap.org/data/2.5/weather?units=metric&APPID=767db115d62ad68acd7e1d7444eef403&q=saurimo\n",
      "processing saurimo\n",
      "http://api.openweathermap.org/data/2.5/weather?units=metric&APPID=767db115d62ad68acd7e1d7444eef403&q=margate\n",
      "processing margate\n",
      "http://api.openweathermap.org/data/2.5/weather?units=metric&APPID=767db115d62ad68acd7e1d7444eef403&q=sao jose da coroa grande\n",
      "processing sao jose da coroa grande\n",
      "http://api.openweathermap.org/data/2.5/weather?units=metric&APPID=767db115d62ad68acd7e1d7444eef403&q=juneau\n",
      "processing juneau\n",
      "http://api.openweathermap.org/data/2.5/weather?units=metric&APPID=767db115d62ad68acd7e1d7444eef403&q=dikson\n",
      "processing dikson\n",
      "http://api.openweathermap.org/data/2.5/weather?units=metric&APPID=767db115d62ad68acd7e1d7444eef403&q=karaul\n",
      "processing karaul\n",
      "City not found.\n",
      "http://api.openweathermap.org/data/2.5/weather?units=metric&APPID=767db115d62ad68acd7e1d7444eef403&q=comodoro rivadavia\n",
      "processing comodoro rivadavia\n",
      "http://api.openweathermap.org/data/2.5/weather?units=metric&APPID=767db115d62ad68acd7e1d7444eef403&q=waipawa\n",
      "processing waipawa\n",
      "http://api.openweathermap.org/data/2.5/weather?units=metric&APPID=767db115d62ad68acd7e1d7444eef403&q=fillira\n",
      "processing fillira\n",
      "City not found.\n",
      "http://api.openweathermap.org/data/2.5/weather?units=metric&APPID=767db115d62ad68acd7e1d7444eef403&q=ternate\n",
      "processing ternate\n",
      "http://api.openweathermap.org/data/2.5/weather?units=metric&APPID=767db115d62ad68acd7e1d7444eef403&q=erice\n",
      "processing erice\n",
      "http://api.openweathermap.org/data/2.5/weather?units=metric&APPID=767db115d62ad68acd7e1d7444eef403&q=stillwater\n",
      "processing stillwater\n",
      "http://api.openweathermap.org/data/2.5/weather?units=metric&APPID=767db115d62ad68acd7e1d7444eef403&q=westport\n",
      "processing westport\n",
      "http://api.openweathermap.org/data/2.5/weather?units=metric&APPID=767db115d62ad68acd7e1d7444eef403&q=mana\n",
      "processing mana\n",
      "http://api.openweathermap.org/data/2.5/weather?units=metric&APPID=767db115d62ad68acd7e1d7444eef403&q=codajas\n",
      "processing codajas\n",
      "http://api.openweathermap.org/data/2.5/weather?units=metric&APPID=767db115d62ad68acd7e1d7444eef403&q=sovetskiy\n",
      "processing sovetskiy\n",
      "http://api.openweathermap.org/data/2.5/weather?units=metric&APPID=767db115d62ad68acd7e1d7444eef403&q=belyy yar\n",
      "processing belyy yar\n",
      "http://api.openweathermap.org/data/2.5/weather?units=metric&APPID=767db115d62ad68acd7e1d7444eef403&q=san quintin\n",
      "processing san quintin\n",
      "http://api.openweathermap.org/data/2.5/weather?units=metric&APPID=767db115d62ad68acd7e1d7444eef403&q=turukhansk\n",
      "processing turukhansk\n",
      "http://api.openweathermap.org/data/2.5/weather?units=metric&APPID=767db115d62ad68acd7e1d7444eef403&q=tapaua\n",
      "processing tapaua\n",
      "City not found.\n",
      "http://api.openweathermap.org/data/2.5/weather?units=metric&APPID=767db115d62ad68acd7e1d7444eef403&q=svetlogorsk\n",
      "processing svetlogorsk\n",
      "http://api.openweathermap.org/data/2.5/weather?units=metric&APPID=767db115d62ad68acd7e1d7444eef403&q=jalu\n",
      "processing jalu\n",
      "http://api.openweathermap.org/data/2.5/weather?units=metric&APPID=767db115d62ad68acd7e1d7444eef403&q=san andres\n",
      "processing san andres\n",
      "http://api.openweathermap.org/data/2.5/weather?units=metric&APPID=767db115d62ad68acd7e1d7444eef403&q=ambuclao\n",
      "processing ambuclao\n",
      "http://api.openweathermap.org/data/2.5/weather?units=metric&APPID=767db115d62ad68acd7e1d7444eef403&q=catuday\n",
      "processing catuday\n",
      "http://api.openweathermap.org/data/2.5/weather?units=metric&APPID=767db115d62ad68acd7e1d7444eef403&q=haibowan\n",
      "processing haibowan\n",
      "City not found.\n",
      "http://api.openweathermap.org/data/2.5/weather?units=metric&APPID=767db115d62ad68acd7e1d7444eef403&q=warner robins\n",
      "processing warner robins\n",
      "http://api.openweathermap.org/data/2.5/weather?units=metric&APPID=767db115d62ad68acd7e1d7444eef403&q=mbini\n",
      "processing mbini\n",
      "http://api.openweathermap.org/data/2.5/weather?units=metric&APPID=767db115d62ad68acd7e1d7444eef403&q=tocopilla\n",
      "processing tocopilla\n",
      "http://api.openweathermap.org/data/2.5/weather?units=metric&APPID=767db115d62ad68acd7e1d7444eef403&q=san alberto\n",
      "processing san alberto\n",
      "http://api.openweathermap.org/data/2.5/weather?units=metric&APPID=767db115d62ad68acd7e1d7444eef403&q=saint-francois\n",
      "processing saint-francois\n",
      "http://api.openweathermap.org/data/2.5/weather?units=metric&APPID=767db115d62ad68acd7e1d7444eef403&q=vidim\n",
      "processing vidim\n",
      "http://api.openweathermap.org/data/2.5/weather?units=metric&APPID=767db115d62ad68acd7e1d7444eef403&q=ksenyevka\n"
     ]
    },
    {
     "name": "stdout",
     "output_type": "stream",
     "text": [
      "processing ksenyevka\n",
      "City not found.\n",
      "http://api.openweathermap.org/data/2.5/weather?units=metric&APPID=767db115d62ad68acd7e1d7444eef403&q=salta\n",
      "processing salta\n",
      "http://api.openweathermap.org/data/2.5/weather?units=metric&APPID=767db115d62ad68acd7e1d7444eef403&q=lubawa\n",
      "processing lubawa\n",
      "http://api.openweathermap.org/data/2.5/weather?units=metric&APPID=767db115d62ad68acd7e1d7444eef403&q=berbera\n",
      "processing berbera\n",
      "http://api.openweathermap.org/data/2.5/weather?units=metric&APPID=767db115d62ad68acd7e1d7444eef403&q=jalor\n",
      "processing jalor\n",
      "http://api.openweathermap.org/data/2.5/weather?units=metric&APPID=767db115d62ad68acd7e1d7444eef403&q=rawlins\n",
      "processing rawlins\n",
      "http://api.openweathermap.org/data/2.5/weather?units=metric&APPID=767db115d62ad68acd7e1d7444eef403&q=bako\n",
      "processing bako\n",
      "http://api.openweathermap.org/data/2.5/weather?units=metric&APPID=767db115d62ad68acd7e1d7444eef403&q=jaisalmer\n",
      "processing jaisalmer\n",
      "http://api.openweathermap.org/data/2.5/weather?units=metric&APPID=767db115d62ad68acd7e1d7444eef403&q=bijie\n",
      "processing bijie\n",
      "http://api.openweathermap.org/data/2.5/weather?units=metric&APPID=767db115d62ad68acd7e1d7444eef403&q=itoman\n",
      "processing itoman\n",
      "http://api.openweathermap.org/data/2.5/weather?units=metric&APPID=767db115d62ad68acd7e1d7444eef403&q=la macarena\n",
      "processing la macarena\n",
      "http://api.openweathermap.org/data/2.5/weather?units=metric&APPID=767db115d62ad68acd7e1d7444eef403&q=bubaque\n",
      "processing bubaque\n",
      "http://api.openweathermap.org/data/2.5/weather?units=metric&APPID=767db115d62ad68acd7e1d7444eef403&q=lompoc\n",
      "processing lompoc\n",
      "http://api.openweathermap.org/data/2.5/weather?units=metric&APPID=767db115d62ad68acd7e1d7444eef403&q=limni\n",
      "processing limni\n",
      "http://api.openweathermap.org/data/2.5/weather?units=metric&APPID=767db115d62ad68acd7e1d7444eef403&q=tandil\n",
      "processing tandil\n",
      "http://api.openweathermap.org/data/2.5/weather?units=metric&APPID=767db115d62ad68acd7e1d7444eef403&q=atambua\n",
      "processing atambua\n",
      "http://api.openweathermap.org/data/2.5/weather?units=metric&APPID=767db115d62ad68acd7e1d7444eef403&q=kruisfontein\n",
      "processing kruisfontein\n",
      "http://api.openweathermap.org/data/2.5/weather?units=metric&APPID=767db115d62ad68acd7e1d7444eef403&q=nome\n",
      "processing nome\n",
      "http://api.openweathermap.org/data/2.5/weather?units=metric&APPID=767db115d62ad68acd7e1d7444eef403&q=bat khela\n",
      "processing bat khela\n",
      "http://api.openweathermap.org/data/2.5/weather?units=metric&APPID=767db115d62ad68acd7e1d7444eef403&q=labutta\n",
      "processing labutta\n",
      "City not found.\n",
      "http://api.openweathermap.org/data/2.5/weather?units=metric&APPID=767db115d62ad68acd7e1d7444eef403&q=lata\n",
      "processing lata\n",
      "http://api.openweathermap.org/data/2.5/weather?units=metric&APPID=767db115d62ad68acd7e1d7444eef403&q=haines junction\n",
      "processing haines junction\n",
      "http://api.openweathermap.org/data/2.5/weather?units=metric&APPID=767db115d62ad68acd7e1d7444eef403&q=bargal\n",
      "processing bargal\n",
      "City not found.\n",
      "http://api.openweathermap.org/data/2.5/weather?units=metric&APPID=767db115d62ad68acd7e1d7444eef403&q=quebo\n",
      "processing quebo\n",
      "http://api.openweathermap.org/data/2.5/weather?units=metric&APPID=767db115d62ad68acd7e1d7444eef403&q=vagay\n",
      "processing vagay\n",
      "http://api.openweathermap.org/data/2.5/weather?units=metric&APPID=767db115d62ad68acd7e1d7444eef403&q=buala\n",
      "processing buala\n",
      "http://api.openweathermap.org/data/2.5/weather?units=metric&APPID=767db115d62ad68acd7e1d7444eef403&q=taoudenni\n",
      "processing taoudenni\n",
      "http://api.openweathermap.org/data/2.5/weather?units=metric&APPID=767db115d62ad68acd7e1d7444eef403&q=gloucester\n",
      "processing gloucester\n",
      "http://api.openweathermap.org/data/2.5/weather?units=metric&APPID=767db115d62ad68acd7e1d7444eef403&q=manjeshwar\n",
      "processing manjeshwar\n",
      "http://api.openweathermap.org/data/2.5/weather?units=metric&APPID=767db115d62ad68acd7e1d7444eef403&q=tulun\n",
      "processing tulun\n",
      "http://api.openweathermap.org/data/2.5/weather?units=metric&APPID=767db115d62ad68acd7e1d7444eef403&q=halalo\n",
      "processing halalo\n",
      "City not found.\n",
      "http://api.openweathermap.org/data/2.5/weather?units=metric&APPID=767db115d62ad68acd7e1d7444eef403&q=yeppoon\n",
      "processing yeppoon\n",
      "http://api.openweathermap.org/data/2.5/weather?units=metric&APPID=767db115d62ad68acd7e1d7444eef403&q=plant city\n",
      "processing plant city\n",
      "http://api.openweathermap.org/data/2.5/weather?units=metric&APPID=767db115d62ad68acd7e1d7444eef403&q=port blair\n",
      "processing port blair\n",
      "http://api.openweathermap.org/data/2.5/weather?units=metric&APPID=767db115d62ad68acd7e1d7444eef403&q=elizabeth city\n",
      "processing elizabeth city\n",
      "http://api.openweathermap.org/data/2.5/weather?units=metric&APPID=767db115d62ad68acd7e1d7444eef403&q=manggar\n",
      "processing manggar\n",
      "http://api.openweathermap.org/data/2.5/weather?units=metric&APPID=767db115d62ad68acd7e1d7444eef403&q=uralskiy\n",
      "processing uralskiy\n",
      "City not found.\n",
      "http://api.openweathermap.org/data/2.5/weather?units=metric&APPID=767db115d62ad68acd7e1d7444eef403&q=hasaki\n",
      "processing hasaki\n",
      "http://api.openweathermap.org/data/2.5/weather?units=metric&APPID=767db115d62ad68acd7e1d7444eef403&q=esperance\n",
      "processing esperance\n",
      "http://api.openweathermap.org/data/2.5/weather?units=metric&APPID=767db115d62ad68acd7e1d7444eef403&q=suchiapa\n",
      "processing suchiapa\n",
      "http://api.openweathermap.org/data/2.5/weather?units=metric&APPID=767db115d62ad68acd7e1d7444eef403&q=george town\n",
      "processing george town\n",
      "http://api.openweathermap.org/data/2.5/weather?units=metric&APPID=767db115d62ad68acd7e1d7444eef403&q=saint anthony\n",
      "processing saint anthony\n",
      "http://api.openweathermap.org/data/2.5/weather?units=metric&APPID=767db115d62ad68acd7e1d7444eef403&q=changzhou\n",
      "processing changzhou\n",
      "http://api.openweathermap.org/data/2.5/weather?units=metric&APPID=767db115d62ad68acd7e1d7444eef403&q=harlingen\n",
      "processing harlingen\n",
      "http://api.openweathermap.org/data/2.5/weather?units=metric&APPID=767db115d62ad68acd7e1d7444eef403&q=souillac\n",
      "processing souillac\n",
      "http://api.openweathermap.org/data/2.5/weather?units=metric&APPID=767db115d62ad68acd7e1d7444eef403&q=rincon\n",
      "processing rincon\n",
      "http://api.openweathermap.org/data/2.5/weather?units=metric&APPID=767db115d62ad68acd7e1d7444eef403&q=shubarshi\n",
      "processing shubarshi\n",
      "http://api.openweathermap.org/data/2.5/weather?units=metric&APPID=767db115d62ad68acd7e1d7444eef403&q=ozark\n",
      "processing ozark\n",
      "http://api.openweathermap.org/data/2.5/weather?units=metric&APPID=767db115d62ad68acd7e1d7444eef403&q=ahuimanu\n",
      "processing ahuimanu\n",
      "http://api.openweathermap.org/data/2.5/weather?units=metric&APPID=767db115d62ad68acd7e1d7444eef403&q=codrington\n",
      "processing codrington\n",
      "http://api.openweathermap.org/data/2.5/weather?units=metric&APPID=767db115d62ad68acd7e1d7444eef403&q=jibuti\n",
      "processing jibuti\n",
      "http://api.openweathermap.org/data/2.5/weather?units=metric&APPID=767db115d62ad68acd7e1d7444eef403&q=omsukchan\n",
      "processing omsukchan\n",
      "http://api.openweathermap.org/data/2.5/weather?units=metric&APPID=767db115d62ad68acd7e1d7444eef403&q=santa catarina de tepehuanes\n",
      "processing santa catarina de tepehuanes\n",
      "http://api.openweathermap.org/data/2.5/weather?units=metric&APPID=767db115d62ad68acd7e1d7444eef403&q=rangoon\n",
      "processing rangoon\n",
      "http://api.openweathermap.org/data/2.5/weather?units=metric&APPID=767db115d62ad68acd7e1d7444eef403&q=nyurba\n",
      "processing nyurba\n",
      "http://api.openweathermap.org/data/2.5/weather?units=metric&APPID=767db115d62ad68acd7e1d7444eef403&q=melbu\n",
      "processing melbu\n",
      "http://api.openweathermap.org/data/2.5/weather?units=metric&APPID=767db115d62ad68acd7e1d7444eef403&q=tsihombe\n",
      "processing tsihombe\n",
      "City not found.\n",
      "http://api.openweathermap.org/data/2.5/weather?units=metric&APPID=767db115d62ad68acd7e1d7444eef403&q=lagoa\n",
      "processing lagoa\n",
      "http://api.openweathermap.org/data/2.5/weather?units=metric&APPID=767db115d62ad68acd7e1d7444eef403&q=geraldton\n",
      "processing geraldton\n",
      "http://api.openweathermap.org/data/2.5/weather?units=metric&APPID=767db115d62ad68acd7e1d7444eef403&q=cedar city\n",
      "processing cedar city\n",
      "http://api.openweathermap.org/data/2.5/weather?units=metric&APPID=767db115d62ad68acd7e1d7444eef403&q=sa kaeo\n",
      "processing sa kaeo\n",
      "http://api.openweathermap.org/data/2.5/weather?units=metric&APPID=767db115d62ad68acd7e1d7444eef403&q=solnechnyy\n",
      "processing solnechnyy\n",
      "http://api.openweathermap.org/data/2.5/weather?units=metric&APPID=767db115d62ad68acd7e1d7444eef403&q=boyabat\n",
      "processing boyabat\n",
      "http://api.openweathermap.org/data/2.5/weather?units=metric&APPID=767db115d62ad68acd7e1d7444eef403&q=cariamanga\n"
     ]
    },
    {
     "name": "stdout",
     "output_type": "stream",
     "text": [
      "processing cariamanga\n",
      "http://api.openweathermap.org/data/2.5/weather?units=metric&APPID=767db115d62ad68acd7e1d7444eef403&q=suriapet\n",
      "processing suriapet\n",
      "http://api.openweathermap.org/data/2.5/weather?units=metric&APPID=767db115d62ad68acd7e1d7444eef403&q=arona\n",
      "processing arona\n",
      "http://api.openweathermap.org/data/2.5/weather?units=metric&APPID=767db115d62ad68acd7e1d7444eef403&q=adrar\n",
      "processing adrar\n",
      "http://api.openweathermap.org/data/2.5/weather?units=metric&APPID=767db115d62ad68acd7e1d7444eef403&q=wewak\n",
      "processing wewak\n",
      "http://api.openweathermap.org/data/2.5/weather?units=metric&APPID=767db115d62ad68acd7e1d7444eef403&q=hovd\n",
      "processing hovd\n",
      "http://api.openweathermap.org/data/2.5/weather?units=metric&APPID=767db115d62ad68acd7e1d7444eef403&q=ormara\n",
      "processing ormara\n",
      "http://api.openweathermap.org/data/2.5/weather?units=metric&APPID=767db115d62ad68acd7e1d7444eef403&q=richmond\n",
      "processing richmond\n",
      "http://api.openweathermap.org/data/2.5/weather?units=metric&APPID=767db115d62ad68acd7e1d7444eef403&q=anito\n",
      "processing anito\n",
      "http://api.openweathermap.org/data/2.5/weather?units=metric&APPID=767db115d62ad68acd7e1d7444eef403&q=sekoma\n",
      "processing sekoma\n",
      "http://api.openweathermap.org/data/2.5/weather?units=metric&APPID=767db115d62ad68acd7e1d7444eef403&q=baykit\n",
      "processing baykit\n",
      "http://api.openweathermap.org/data/2.5/weather?units=metric&APPID=767db115d62ad68acd7e1d7444eef403&q=lahat\n",
      "processing lahat\n",
      "http://api.openweathermap.org/data/2.5/weather?units=metric&APPID=767db115d62ad68acd7e1d7444eef403&q=luoyang\n",
      "processing luoyang\n",
      "http://api.openweathermap.org/data/2.5/weather?units=metric&APPID=767db115d62ad68acd7e1d7444eef403&q=zalari\n",
      "processing zalari\n",
      "http://api.openweathermap.org/data/2.5/weather?units=metric&APPID=767db115d62ad68acd7e1d7444eef403&q=riyadh\n",
      "processing riyadh\n",
      "http://api.openweathermap.org/data/2.5/weather?units=metric&APPID=767db115d62ad68acd7e1d7444eef403&q=fort saint james\n",
      "processing fort saint james\n",
      "http://api.openweathermap.org/data/2.5/weather?units=metric&APPID=767db115d62ad68acd7e1d7444eef403&q=olafsvik\n",
      "processing olafsvik\n",
      "http://api.openweathermap.org/data/2.5/weather?units=metric&APPID=767db115d62ad68acd7e1d7444eef403&q=saldanha\n",
      "processing saldanha\n",
      "http://api.openweathermap.org/data/2.5/weather?units=metric&APPID=767db115d62ad68acd7e1d7444eef403&q=zhigansk\n",
      "processing zhigansk\n",
      "http://api.openweathermap.org/data/2.5/weather?units=metric&APPID=767db115d62ad68acd7e1d7444eef403&q=zeya\n",
      "processing zeya\n",
      "http://api.openweathermap.org/data/2.5/weather?units=metric&APPID=767db115d62ad68acd7e1d7444eef403&q=mbala\n",
      "processing mbala\n",
      "http://api.openweathermap.org/data/2.5/weather?units=metric&APPID=767db115d62ad68acd7e1d7444eef403&q=suda\n",
      "processing suda\n",
      "http://api.openweathermap.org/data/2.5/weather?units=metric&APPID=767db115d62ad68acd7e1d7444eef403&q=ola\n",
      "processing ola\n",
      "http://api.openweathermap.org/data/2.5/weather?units=metric&APPID=767db115d62ad68acd7e1d7444eef403&q=toyooka\n",
      "processing toyooka\n",
      "http://api.openweathermap.org/data/2.5/weather?units=metric&APPID=767db115d62ad68acd7e1d7444eef403&q=santa fe\n",
      "processing santa fe\n",
      "http://api.openweathermap.org/data/2.5/weather?units=metric&APPID=767db115d62ad68acd7e1d7444eef403&q=rocha\n",
      "processing rocha\n",
      "http://api.openweathermap.org/data/2.5/weather?units=metric&APPID=767db115d62ad68acd7e1d7444eef403&q=general roca\n",
      "processing general roca\n",
      "http://api.openweathermap.org/data/2.5/weather?units=metric&APPID=767db115d62ad68acd7e1d7444eef403&q=kaeo\n",
      "processing kaeo\n",
      "http://api.openweathermap.org/data/2.5/weather?units=metric&APPID=767db115d62ad68acd7e1d7444eef403&q=lamego\n",
      "processing lamego\n",
      "http://api.openweathermap.org/data/2.5/weather?units=metric&APPID=767db115d62ad68acd7e1d7444eef403&q=nelson bay\n",
      "processing nelson bay\n",
      "http://api.openweathermap.org/data/2.5/weather?units=metric&APPID=767db115d62ad68acd7e1d7444eef403&q=takoradi\n",
      "processing takoradi\n",
      "http://api.openweathermap.org/data/2.5/weather?units=metric&APPID=767db115d62ad68acd7e1d7444eef403&q=diyarb najm\n",
      "processing diyarb najm\n",
      "http://api.openweathermap.org/data/2.5/weather?units=metric&APPID=767db115d62ad68acd7e1d7444eef403&q=zharkent\n",
      "processing zharkent\n",
      "http://api.openweathermap.org/data/2.5/weather?units=metric&APPID=767db115d62ad68acd7e1d7444eef403&q=saint-augustin\n",
      "processing saint-augustin\n",
      "http://api.openweathermap.org/data/2.5/weather?units=metric&APPID=767db115d62ad68acd7e1d7444eef403&q=yerbogachen\n",
      "processing yerbogachen\n",
      "http://api.openweathermap.org/data/2.5/weather?units=metric&APPID=767db115d62ad68acd7e1d7444eef403&q=benguela\n",
      "processing benguela\n",
      "http://api.openweathermap.org/data/2.5/weather?units=metric&APPID=767db115d62ad68acd7e1d7444eef403&q=mackay\n",
      "processing mackay\n",
      "http://api.openweathermap.org/data/2.5/weather?units=metric&APPID=767db115d62ad68acd7e1d7444eef403&q=seddon\n",
      "processing seddon\n",
      "http://api.openweathermap.org/data/2.5/weather?units=metric&APPID=767db115d62ad68acd7e1d7444eef403&q=alofi\n",
      "processing alofi\n",
      "http://api.openweathermap.org/data/2.5/weather?units=metric&APPID=767db115d62ad68acd7e1d7444eef403&q=san fernando\n",
      "processing san fernando\n",
      "http://api.openweathermap.org/data/2.5/weather?units=metric&APPID=767db115d62ad68acd7e1d7444eef403&q=sept-iles\n",
      "processing sept-iles\n",
      "http://api.openweathermap.org/data/2.5/weather?units=metric&APPID=767db115d62ad68acd7e1d7444eef403&q=thaton\n",
      "processing thaton\n",
      "http://api.openweathermap.org/data/2.5/weather?units=metric&APPID=767db115d62ad68acd7e1d7444eef403&q=mehran\n",
      "processing mehran\n",
      "http://api.openweathermap.org/data/2.5/weather?units=metric&APPID=767db115d62ad68acd7e1d7444eef403&q=sangar\n",
      "processing sangar\n",
      "http://api.openweathermap.org/data/2.5/weather?units=metric&APPID=767db115d62ad68acd7e1d7444eef403&q=sattahip\n",
      "processing sattahip\n",
      "http://api.openweathermap.org/data/2.5/weather?units=metric&APPID=767db115d62ad68acd7e1d7444eef403&q=sahuaripa\n",
      "processing sahuaripa\n",
      "http://api.openweathermap.org/data/2.5/weather?units=metric&APPID=767db115d62ad68acd7e1d7444eef403&q=sao sepe\n",
      "processing sao sepe\n",
      "http://api.openweathermap.org/data/2.5/weather?units=metric&APPID=767db115d62ad68acd7e1d7444eef403&q=kumba\n",
      "processing kumba\n",
      "http://api.openweathermap.org/data/2.5/weather?units=metric&APPID=767db115d62ad68acd7e1d7444eef403&q=trairi\n",
      "processing trairi\n",
      "http://api.openweathermap.org/data/2.5/weather?units=metric&APPID=767db115d62ad68acd7e1d7444eef403&q=saint-pierre\n",
      "processing saint-pierre\n",
      "http://api.openweathermap.org/data/2.5/weather?units=metric&APPID=767db115d62ad68acd7e1d7444eef403&q=kalmunai\n",
      "processing kalmunai\n",
      "http://api.openweathermap.org/data/2.5/weather?units=metric&APPID=767db115d62ad68acd7e1d7444eef403&q=saint-georges\n",
      "processing saint-georges\n",
      "http://api.openweathermap.org/data/2.5/weather?units=metric&APPID=767db115d62ad68acd7e1d7444eef403&q=horn lake\n",
      "processing horn lake\n",
      "http://api.openweathermap.org/data/2.5/weather?units=metric&APPID=767db115d62ad68acd7e1d7444eef403&q=puerto ayacucho\n",
      "processing puerto ayacucho\n",
      "http://api.openweathermap.org/data/2.5/weather?units=metric&APPID=767db115d62ad68acd7e1d7444eef403&q=chengde\n",
      "processing chengde\n",
      "http://api.openweathermap.org/data/2.5/weather?units=metric&APPID=767db115d62ad68acd7e1d7444eef403&q=galiwinku\n",
      "processing galiwinku\n",
      "City not found.\n",
      "http://api.openweathermap.org/data/2.5/weather?units=metric&APPID=767db115d62ad68acd7e1d7444eef403&q=eyl\n",
      "processing eyl\n",
      "http://api.openweathermap.org/data/2.5/weather?units=metric&APPID=767db115d62ad68acd7e1d7444eef403&q=dewas\n",
      "processing dewas\n",
      "http://api.openweathermap.org/data/2.5/weather?units=metric&APPID=767db115d62ad68acd7e1d7444eef403&q=boone\n",
      "processing boone\n",
      "http://api.openweathermap.org/data/2.5/weather?units=metric&APPID=767db115d62ad68acd7e1d7444eef403&q=les cayes\n",
      "processing les cayes\n",
      "http://api.openweathermap.org/data/2.5/weather?units=metric&APPID=767db115d62ad68acd7e1d7444eef403&q=ruatoria\n",
      "processing ruatoria\n",
      "City not found.\n",
      "http://api.openweathermap.org/data/2.5/weather?units=metric&APPID=767db115d62ad68acd7e1d7444eef403&q=palmer\n",
      "processing palmer\n",
      "http://api.openweathermap.org/data/2.5/weather?units=metric&APPID=767db115d62ad68acd7e1d7444eef403&q=balad\n",
      "processing balad\n",
      "http://api.openweathermap.org/data/2.5/weather?units=metric&APPID=767db115d62ad68acd7e1d7444eef403&q=morehead\n",
      "processing morehead\n",
      "http://api.openweathermap.org/data/2.5/weather?units=metric&APPID=767db115d62ad68acd7e1d7444eef403&q=manicore\n"
     ]
    },
    {
     "name": "stdout",
     "output_type": "stream",
     "text": [
      "processing manicore\n",
      "http://api.openweathermap.org/data/2.5/weather?units=metric&APPID=767db115d62ad68acd7e1d7444eef403&q=pavilosta\n",
      "processing pavilosta\n",
      "http://api.openweathermap.org/data/2.5/weather?units=metric&APPID=767db115d62ad68acd7e1d7444eef403&q=zelenogorskiy\n",
      "processing zelenogorskiy\n",
      "http://api.openweathermap.org/data/2.5/weather?units=metric&APPID=767db115d62ad68acd7e1d7444eef403&q=saint augustine\n",
      "processing saint augustine\n",
      "http://api.openweathermap.org/data/2.5/weather?units=metric&APPID=767db115d62ad68acd7e1d7444eef403&q=tolaga bay\n",
      "processing tolaga bay\n",
      "http://api.openweathermap.org/data/2.5/weather?units=metric&APPID=767db115d62ad68acd7e1d7444eef403&q=nam tha\n",
      "processing nam tha\n",
      "City not found.\n",
      "http://api.openweathermap.org/data/2.5/weather?units=metric&APPID=767db115d62ad68acd7e1d7444eef403&q=prokopyevsk\n",
      "processing prokopyevsk\n",
      "http://api.openweathermap.org/data/2.5/weather?units=metric&APPID=767db115d62ad68acd7e1d7444eef403&q=bintulu\n",
      "processing bintulu\n",
      "http://api.openweathermap.org/data/2.5/weather?units=metric&APPID=767db115d62ad68acd7e1d7444eef403&q=whitianga\n",
      "processing whitianga\n",
      "http://api.openweathermap.org/data/2.5/weather?units=metric&APPID=767db115d62ad68acd7e1d7444eef403&q=araouane\n",
      "processing araouane\n",
      "http://api.openweathermap.org/data/2.5/weather?units=metric&APPID=767db115d62ad68acd7e1d7444eef403&q=touros\n",
      "processing touros\n",
      "http://api.openweathermap.org/data/2.5/weather?units=metric&APPID=767db115d62ad68acd7e1d7444eef403&q=asau\n",
      "processing asau\n",
      "http://api.openweathermap.org/data/2.5/weather?units=metric&APPID=767db115d62ad68acd7e1d7444eef403&q=manakara\n",
      "processing manakara\n",
      "http://api.openweathermap.org/data/2.5/weather?units=metric&APPID=767db115d62ad68acd7e1d7444eef403&q=turochak\n",
      "processing turochak\n",
      "http://api.openweathermap.org/data/2.5/weather?units=metric&APPID=767db115d62ad68acd7e1d7444eef403&q=saint george\n",
      "processing saint george\n",
      "http://api.openweathermap.org/data/2.5/weather?units=metric&APPID=767db115d62ad68acd7e1d7444eef403&q=xiaolingwei\n",
      "processing xiaolingwei\n",
      "http://api.openweathermap.org/data/2.5/weather?units=metric&APPID=767db115d62ad68acd7e1d7444eef403&q=praya\n",
      "processing praya\n",
      "http://api.openweathermap.org/data/2.5/weather?units=metric&APPID=767db115d62ad68acd7e1d7444eef403&q=young\n",
      "processing young\n",
      "http://api.openweathermap.org/data/2.5/weather?units=metric&APPID=767db115d62ad68acd7e1d7444eef403&q=heyang\n",
      "processing heyang\n",
      "http://api.openweathermap.org/data/2.5/weather?units=metric&APPID=767db115d62ad68acd7e1d7444eef403&q=honavar\n",
      "processing honavar\n",
      "http://api.openweathermap.org/data/2.5/weather?units=metric&APPID=767db115d62ad68acd7e1d7444eef403&q=penzance\n",
      "processing penzance\n",
      "http://api.openweathermap.org/data/2.5/weather?units=metric&APPID=767db115d62ad68acd7e1d7444eef403&q=derzhavinsk\n",
      "processing derzhavinsk\n",
      "http://api.openweathermap.org/data/2.5/weather?units=metric&APPID=767db115d62ad68acd7e1d7444eef403&q=abbeville\n",
      "processing abbeville\n",
      "http://api.openweathermap.org/data/2.5/weather?units=metric&APPID=767db115d62ad68acd7e1d7444eef403&q=yongan\n",
      "processing yongan\n",
      "http://api.openweathermap.org/data/2.5/weather?units=metric&APPID=767db115d62ad68acd7e1d7444eef403&q=mtwara\n",
      "processing mtwara\n",
      "http://api.openweathermap.org/data/2.5/weather?units=metric&APPID=767db115d62ad68acd7e1d7444eef403&q=afonso bezerra\n",
      "processing afonso bezerra\n",
      "http://api.openweathermap.org/data/2.5/weather?units=metric&APPID=767db115d62ad68acd7e1d7444eef403&q=komsomolskiy\n",
      "processing komsomolskiy\n",
      "http://api.openweathermap.org/data/2.5/weather?units=metric&APPID=767db115d62ad68acd7e1d7444eef403&q=hyeres\n",
      "processing hyeres\n",
      "http://api.openweathermap.org/data/2.5/weather?units=metric&APPID=767db115d62ad68acd7e1d7444eef403&q=barroualie\n",
      "processing barroualie\n",
      "City not found.\n",
      "http://api.openweathermap.org/data/2.5/weather?units=metric&APPID=767db115d62ad68acd7e1d7444eef403&q=ridgecrest\n",
      "processing ridgecrest\n",
      "http://api.openweathermap.org/data/2.5/weather?units=metric&APPID=767db115d62ad68acd7e1d7444eef403&q=pathein\n",
      "processing pathein\n",
      "http://api.openweathermap.org/data/2.5/weather?units=metric&APPID=767db115d62ad68acd7e1d7444eef403&q=comarapa\n",
      "processing comarapa\n",
      "http://api.openweathermap.org/data/2.5/weather?units=metric&APPID=767db115d62ad68acd7e1d7444eef403&q=lewiston\n",
      "processing lewiston\n",
      "http://api.openweathermap.org/data/2.5/weather?units=metric&APPID=767db115d62ad68acd7e1d7444eef403&q=carballo\n",
      "processing carballo\n",
      "http://api.openweathermap.org/data/2.5/weather?units=metric&APPID=767db115d62ad68acd7e1d7444eef403&q=makhachkala\n",
      "processing makhachkala\n",
      "http://api.openweathermap.org/data/2.5/weather?units=metric&APPID=767db115d62ad68acd7e1d7444eef403&q=zamora\n",
      "processing zamora\n",
      "http://api.openweathermap.org/data/2.5/weather?units=metric&APPID=767db115d62ad68acd7e1d7444eef403&q=karlovo\n",
      "processing karlovo\n",
      "http://api.openweathermap.org/data/2.5/weather?units=metric&APPID=767db115d62ad68acd7e1d7444eef403&q=udachnyy\n",
      "processing udachnyy\n",
      "http://api.openweathermap.org/data/2.5/weather?units=metric&APPID=767db115d62ad68acd7e1d7444eef403&q=byron bay\n",
      "processing byron bay\n",
      "http://api.openweathermap.org/data/2.5/weather?units=metric&APPID=767db115d62ad68acd7e1d7444eef403&q=kaduna\n",
      "processing kaduna\n",
      "http://api.openweathermap.org/data/2.5/weather?units=metric&APPID=767db115d62ad68acd7e1d7444eef403&q=uray\n",
      "processing uray\n",
      "http://api.openweathermap.org/data/2.5/weather?units=metric&APPID=767db115d62ad68acd7e1d7444eef403&q=vigrestad\n",
      "processing vigrestad\n",
      "http://api.openweathermap.org/data/2.5/weather?units=metric&APPID=767db115d62ad68acd7e1d7444eef403&q=tazovskiy\n",
      "processing tazovskiy\n",
      "http://api.openweathermap.org/data/2.5/weather?units=metric&APPID=767db115d62ad68acd7e1d7444eef403&q=fare\n",
      "processing fare\n",
      "http://api.openweathermap.org/data/2.5/weather?units=metric&APPID=767db115d62ad68acd7e1d7444eef403&q=marigot\n",
      "processing marigot\n",
      "http://api.openweathermap.org/data/2.5/weather?units=metric&APPID=767db115d62ad68acd7e1d7444eef403&q=corpus christi\n",
      "processing corpus christi\n",
      "http://api.openweathermap.org/data/2.5/weather?units=metric&APPID=767db115d62ad68acd7e1d7444eef403&q=gorontalo\n",
      "processing gorontalo\n",
      "http://api.openweathermap.org/data/2.5/weather?units=metric&APPID=767db115d62ad68acd7e1d7444eef403&q=berlevag\n",
      "processing berlevag\n",
      "http://api.openweathermap.org/data/2.5/weather?units=metric&APPID=767db115d62ad68acd7e1d7444eef403&q=gat\n",
      "processing gat\n",
      "http://api.openweathermap.org/data/2.5/weather?units=metric&APPID=767db115d62ad68acd7e1d7444eef403&q=parabel\n",
      "processing parabel\n",
      "http://api.openweathermap.org/data/2.5/weather?units=metric&APPID=767db115d62ad68acd7e1d7444eef403&q=iranduba\n",
      "processing iranduba\n",
      "http://api.openweathermap.org/data/2.5/weather?units=metric&APPID=767db115d62ad68acd7e1d7444eef403&q=sao filipe\n",
      "processing sao filipe\n",
      "http://api.openweathermap.org/data/2.5/weather?units=metric&APPID=767db115d62ad68acd7e1d7444eef403&q=brookhaven\n",
      "processing brookhaven\n",
      "http://api.openweathermap.org/data/2.5/weather?units=metric&APPID=767db115d62ad68acd7e1d7444eef403&q=sabha\n",
      "processing sabha\n",
      "http://api.openweathermap.org/data/2.5/weather?units=metric&APPID=767db115d62ad68acd7e1d7444eef403&q=richards bay\n",
      "processing richards bay\n",
      "http://api.openweathermap.org/data/2.5/weather?units=metric&APPID=767db115d62ad68acd7e1d7444eef403&q=okato\n",
      "processing okato\n",
      "http://api.openweathermap.org/data/2.5/weather?units=metric&APPID=767db115d62ad68acd7e1d7444eef403&q=machilipatnam\n",
      "processing machilipatnam\n",
      "http://api.openweathermap.org/data/2.5/weather?units=metric&APPID=767db115d62ad68acd7e1d7444eef403&q=kazalinsk\n",
      "processing kazalinsk\n",
      "City not found.\n",
      "http://api.openweathermap.org/data/2.5/weather?units=metric&APPID=767db115d62ad68acd7e1d7444eef403&q=sao joao da barra\n",
      "processing sao joao da barra\n",
      "http://api.openweathermap.org/data/2.5/weather?units=metric&APPID=767db115d62ad68acd7e1d7444eef403&q=qaqortoq\n",
      "processing qaqortoq\n",
      "http://api.openweathermap.org/data/2.5/weather?units=metric&APPID=767db115d62ad68acd7e1d7444eef403&q=matara\n",
      "processing matara\n",
      "http://api.openweathermap.org/data/2.5/weather?units=metric&APPID=767db115d62ad68acd7e1d7444eef403&q=walvis bay\n",
      "processing walvis bay\n",
      "http://api.openweathermap.org/data/2.5/weather?units=metric&APPID=767db115d62ad68acd7e1d7444eef403&q=korla\n",
      "processing korla\n",
      "http://api.openweathermap.org/data/2.5/weather?units=metric&APPID=767db115d62ad68acd7e1d7444eef403&q=darhan\n"
     ]
    },
    {
     "name": "stdout",
     "output_type": "stream",
     "text": [
      "processing darhan\n",
      "http://api.openweathermap.org/data/2.5/weather?units=metric&APPID=767db115d62ad68acd7e1d7444eef403&q=srednekolymsk\n",
      "processing srednekolymsk\n",
      "http://api.openweathermap.org/data/2.5/weather?units=metric&APPID=767db115d62ad68acd7e1d7444eef403&q=holme\n",
      "processing holme\n",
      "http://api.openweathermap.org/data/2.5/weather?units=metric&APPID=767db115d62ad68acd7e1d7444eef403&q=arman\n",
      "processing arman\n",
      "http://api.openweathermap.org/data/2.5/weather?units=metric&APPID=767db115d62ad68acd7e1d7444eef403&q=dzhusaly\n",
      "processing dzhusaly\n",
      "City not found.\n",
      "http://api.openweathermap.org/data/2.5/weather?units=metric&APPID=767db115d62ad68acd7e1d7444eef403&q=east wenatchee bench\n",
      "processing east wenatchee bench\n",
      "http://api.openweathermap.org/data/2.5/weather?units=metric&APPID=767db115d62ad68acd7e1d7444eef403&q=gardelegen\n",
      "processing gardelegen\n",
      "http://api.openweathermap.org/data/2.5/weather?units=metric&APPID=767db115d62ad68acd7e1d7444eef403&q=marsh harbour\n",
      "processing marsh harbour\n",
      "http://api.openweathermap.org/data/2.5/weather?units=metric&APPID=767db115d62ad68acd7e1d7444eef403&q=dingle\n",
      "processing dingle\n",
      "http://api.openweathermap.org/data/2.5/weather?units=metric&APPID=767db115d62ad68acd7e1d7444eef403&q=khvoynaya\n",
      "processing khvoynaya\n",
      "http://api.openweathermap.org/data/2.5/weather?units=metric&APPID=767db115d62ad68acd7e1d7444eef403&q=boende\n",
      "processing boende\n",
      "http://api.openweathermap.org/data/2.5/weather?units=metric&APPID=767db115d62ad68acd7e1d7444eef403&q=ust-kut\n",
      "processing ust-kut\n",
      "http://api.openweathermap.org/data/2.5/weather?units=metric&APPID=767db115d62ad68acd7e1d7444eef403&q=dunmore east\n",
      "processing dunmore east\n",
      "http://api.openweathermap.org/data/2.5/weather?units=metric&APPID=767db115d62ad68acd7e1d7444eef403&q=mahibadhoo\n",
      "processing mahibadhoo\n",
      "http://api.openweathermap.org/data/2.5/weather?units=metric&APPID=767db115d62ad68acd7e1d7444eef403&q=kahului\n",
      "processing kahului\n",
      "http://api.openweathermap.org/data/2.5/weather?units=metric&APPID=767db115d62ad68acd7e1d7444eef403&q=banda aceh\n",
      "processing banda aceh\n",
      "http://api.openweathermap.org/data/2.5/weather?units=metric&APPID=767db115d62ad68acd7e1d7444eef403&q=urumqi\n",
      "processing urumqi\n",
      "http://api.openweathermap.org/data/2.5/weather?units=metric&APPID=767db115d62ad68acd7e1d7444eef403&q=cairns\n",
      "processing cairns\n",
      "http://api.openweathermap.org/data/2.5/weather?units=metric&APPID=767db115d62ad68acd7e1d7444eef403&q=tasbuget\n",
      "processing tasbuget\n",
      "City not found.\n",
      "http://api.openweathermap.org/data/2.5/weather?units=metric&APPID=767db115d62ad68acd7e1d7444eef403&q=padang\n",
      "processing padang\n",
      "http://api.openweathermap.org/data/2.5/weather?units=metric&APPID=767db115d62ad68acd7e1d7444eef403&q=oranjemund\n",
      "processing oranjemund\n",
      "http://api.openweathermap.org/data/2.5/weather?units=metric&APPID=767db115d62ad68acd7e1d7444eef403&q=jinchang\n",
      "processing jinchang\n",
      "http://api.openweathermap.org/data/2.5/weather?units=metric&APPID=767db115d62ad68acd7e1d7444eef403&q=betki\n",
      "processing betki\n",
      "City not found.\n",
      "http://api.openweathermap.org/data/2.5/weather?units=metric&APPID=767db115d62ad68acd7e1d7444eef403&q=kenora\n",
      "processing kenora\n",
      "http://api.openweathermap.org/data/2.5/weather?units=metric&APPID=767db115d62ad68acd7e1d7444eef403&q=chilca\n",
      "processing chilca\n",
      "http://api.openweathermap.org/data/2.5/weather?units=metric&APPID=767db115d62ad68acd7e1d7444eef403&q=kamina\n",
      "processing kamina\n",
      "http://api.openweathermap.org/data/2.5/weather?units=metric&APPID=767db115d62ad68acd7e1d7444eef403&q=port-cartier\n",
      "processing port-cartier\n",
      "http://api.openweathermap.org/data/2.5/weather?units=metric&APPID=767db115d62ad68acd7e1d7444eef403&q=capreol\n",
      "processing capreol\n",
      "http://api.openweathermap.org/data/2.5/weather?units=metric&APPID=767db115d62ad68acd7e1d7444eef403&q=samfya\n",
      "processing samfya\n",
      "http://api.openweathermap.org/data/2.5/weather?units=metric&APPID=767db115d62ad68acd7e1d7444eef403&q=cowra\n",
      "processing cowra\n",
      "http://api.openweathermap.org/data/2.5/weather?units=metric&APPID=767db115d62ad68acd7e1d7444eef403&q=colomi\n",
      "processing colomi\n",
      "http://api.openweathermap.org/data/2.5/weather?units=metric&APPID=767db115d62ad68acd7e1d7444eef403&q=nova olimpia\n",
      "processing nova olimpia\n",
      "http://api.openweathermap.org/data/2.5/weather?units=metric&APPID=767db115d62ad68acd7e1d7444eef403&q=faya\n",
      "processing faya\n",
      "http://api.openweathermap.org/data/2.5/weather?units=metric&APPID=767db115d62ad68acd7e1d7444eef403&q=wanning\n",
      "processing wanning\n",
      "http://api.openweathermap.org/data/2.5/weather?units=metric&APPID=767db115d62ad68acd7e1d7444eef403&q=pandan niog\n",
      "processing pandan niog\n",
      "http://api.openweathermap.org/data/2.5/weather?units=metric&APPID=767db115d62ad68acd7e1d7444eef403&q=jeremie\n",
      "processing jeremie\n",
      "http://api.openweathermap.org/data/2.5/weather?units=metric&APPID=767db115d62ad68acd7e1d7444eef403&q=umzimvubu\n",
      "processing umzimvubu\n",
      "City not found.\n",
      "http://api.openweathermap.org/data/2.5/weather?units=metric&APPID=767db115d62ad68acd7e1d7444eef403&q=shoranur\n",
      "processing shoranur\n",
      "http://api.openweathermap.org/data/2.5/weather?units=metric&APPID=767db115d62ad68acd7e1d7444eef403&q=barranca\n",
      "processing barranca\n",
      "http://api.openweathermap.org/data/2.5/weather?units=metric&APPID=767db115d62ad68acd7e1d7444eef403&q=abu dhabi\n",
      "processing abu dhabi\n",
      "http://api.openweathermap.org/data/2.5/weather?units=metric&APPID=767db115d62ad68acd7e1d7444eef403&q=dawson creek\n",
      "processing dawson creek\n",
      "http://api.openweathermap.org/data/2.5/weather?units=metric&APPID=767db115d62ad68acd7e1d7444eef403&q=ancud\n",
      "processing ancud\n",
      "http://api.openweathermap.org/data/2.5/weather?units=metric&APPID=767db115d62ad68acd7e1d7444eef403&q=shache\n",
      "processing shache\n",
      "http://api.openweathermap.org/data/2.5/weather?units=metric&APPID=767db115d62ad68acd7e1d7444eef403&q=seryshevo\n",
      "processing seryshevo\n",
      "http://api.openweathermap.org/data/2.5/weather?units=metric&APPID=767db115d62ad68acd7e1d7444eef403&q=ondangwa\n",
      "processing ondangwa\n",
      "http://api.openweathermap.org/data/2.5/weather?units=metric&APPID=767db115d62ad68acd7e1d7444eef403&q=cabra\n",
      "processing cabra\n",
      "http://api.openweathermap.org/data/2.5/weather?units=metric&APPID=767db115d62ad68acd7e1d7444eef403&q=sao domingos do maranhao\n",
      "processing sao domingos do maranhao\n",
      "http://api.openweathermap.org/data/2.5/weather?units=metric&APPID=767db115d62ad68acd7e1d7444eef403&q=cam ranh\n",
      "processing cam ranh\n"
     ]
    }
   ],
   "source": [
    "#Create a loop to run through length of cities. If Json response is good, then append to appropriate list\n",
    "\n",
    "i = 0\n",
    "for i in cities[0:a]: \n",
    "    # Create search query, make request and store in json\n",
    "    \n",
    "    city_url = url + \"&q=\" + i\n",
    "    print(city_url)\n",
    "#     try:\n",
    "    \n",
    "    weather_response = requests.get(city_url)\n",
    "    weather_json = weather_response.json()\n",
    "#         print(weather_json)\n",
    "    print(\"processing \" + i)\n",
    "    \n",
    "    \n",
    "    if weather_json['cod'] == 200: #check if response was success\n",
    "    # Try to grab the information required if they are available in the OpenWeather API\n",
    "        all_cities.append(weather_json[\"name\"])\n",
    "        latitude.append(weather_json['coord']['lat'])\n",
    "        longitude.append(weather_json['coord']['lon'])\n",
    "        temperature.append(weather_json['main']['temp_max'])\n",
    "        humidity.append(weather_json['main']['humidity'])\n",
    "        cloudiness.append(weather_json['clouds'][\"all\"])\n",
    "        windspeed.append(weather_json['wind'][\"speed\"])\n",
    "        country.append(weather_json['sys'][\"country\"])\n",
    "        date.append(weather_json['dt'])\n",
    "        \n",
    "        \n",
    "        \n",
    "        \n",
    "    \n",
    "    # Handle exceptions for cities that do not have information\n",
    "    else:\n",
    "        print(\"City not found.\")\n",
    "        pass\n",
    "        \n",
    "# print(\"Data retrieval complete!\")"
   ]
  },
  {
   "cell_type": "code",
   "execution_count": 18,
   "metadata": {},
   "outputs": [],
   "source": [
    "#create a dictionary of all lists before converting it to dataframe\n",
    "\n",
    "dict = {\"City\": all_cities, \"Lat\": latitude, \"Lng\":longitude,\n",
    "        \"Max Temp\": temperature, \"Humidity\": humidity,\n",
    "        \"Cloudiness\": cloudiness, \"Wind Speed\": windspeed, \n",
    "        \"Country\": country, \"Date\":date } "
   ]
  },
  {
   "cell_type": "markdown",
   "metadata": {},
   "source": [
    "### Convert Raw Data to DataFrame\n",
    "* Display the DataFrame"
   ]
  },
  {
   "cell_type": "code",
   "execution_count": 19,
   "metadata": {},
   "outputs": [],
   "source": [
    "#create dataframe from the dictionary\n",
    "df = pd.DataFrame(dict)"
   ]
  },
  {
   "cell_type": "code",
   "execution_count": null,
   "metadata": {},
   "outputs": [],
   "source": []
  },
  {
   "cell_type": "code",
   "execution_count": null,
   "metadata": {},
   "outputs": [],
   "source": [
    "### Convert Raw Data to DataFrame\n",
    "* Display the DataFrame"
   ]
  },
  {
   "cell_type": "code",
   "execution_count": 20,
   "metadata": {},
   "outputs": [
    {
     "data": {
      "text/html": [
       "<div>\n",
       "<style scoped>\n",
       "    .dataframe tbody tr th:only-of-type {\n",
       "        vertical-align: middle;\n",
       "    }\n",
       "\n",
       "    .dataframe tbody tr th {\n",
       "        vertical-align: top;\n",
       "    }\n",
       "\n",
       "    .dataframe thead th {\n",
       "        text-align: right;\n",
       "    }\n",
       "</style>\n",
       "<table border=\"1\" class=\"dataframe\">\n",
       "  <thead>\n",
       "    <tr style=\"text-align: right;\">\n",
       "      <th></th>\n",
       "      <th>City</th>\n",
       "      <th>Lat</th>\n",
       "      <th>Lng</th>\n",
       "      <th>Max Temp</th>\n",
       "      <th>Humidity</th>\n",
       "      <th>Cloudiness</th>\n",
       "      <th>Wind Speed</th>\n",
       "      <th>Country</th>\n",
       "      <th>Date</th>\n",
       "    </tr>\n",
       "  </thead>\n",
       "  <tbody>\n",
       "    <tr>\n",
       "      <th>0</th>\n",
       "      <td>Melilla</td>\n",
       "      <td>35.29</td>\n",
       "      <td>-2.94</td>\n",
       "      <td>35.00</td>\n",
       "      <td>43</td>\n",
       "      <td>0</td>\n",
       "      <td>6.70</td>\n",
       "      <td>ES</td>\n",
       "      <td>1598622376</td>\n",
       "    </tr>\n",
       "    <tr>\n",
       "      <th>1</th>\n",
       "      <td>Tivaouane</td>\n",
       "      <td>14.95</td>\n",
       "      <td>-16.81</td>\n",
       "      <td>29.00</td>\n",
       "      <td>74</td>\n",
       "      <td>75</td>\n",
       "      <td>4.10</td>\n",
       "      <td>SN</td>\n",
       "      <td>1598622377</td>\n",
       "    </tr>\n",
       "    <tr>\n",
       "      <th>2</th>\n",
       "      <td>Cascais</td>\n",
       "      <td>38.70</td>\n",
       "      <td>-9.42</td>\n",
       "      <td>25.00</td>\n",
       "      <td>47</td>\n",
       "      <td>20</td>\n",
       "      <td>10.30</td>\n",
       "      <td>PT</td>\n",
       "      <td>1598622108</td>\n",
       "    </tr>\n",
       "    <tr>\n",
       "      <th>3</th>\n",
       "      <td>Arlit</td>\n",
       "      <td>18.74</td>\n",
       "      <td>7.39</td>\n",
       "      <td>36.32</td>\n",
       "      <td>28</td>\n",
       "      <td>100</td>\n",
       "      <td>8.68</td>\n",
       "      <td>NE</td>\n",
       "      <td>1598622378</td>\n",
       "    </tr>\n",
       "    <tr>\n",
       "      <th>4</th>\n",
       "      <td>Angoche</td>\n",
       "      <td>-16.23</td>\n",
       "      <td>39.91</td>\n",
       "      <td>25.82</td>\n",
       "      <td>69</td>\n",
       "      <td>63</td>\n",
       "      <td>5.07</td>\n",
       "      <td>MZ</td>\n",
       "      <td>1598622379</td>\n",
       "    </tr>\n",
       "  </tbody>\n",
       "</table>\n",
       "</div>"
      ],
      "text/plain": [
       "        City    Lat    Lng  Max Temp  Humidity  Cloudiness  Wind Speed  \\\n",
       "0    Melilla  35.29  -2.94     35.00        43           0        6.70   \n",
       "1  Tivaouane  14.95 -16.81     29.00        74          75        4.10   \n",
       "2    Cascais  38.70  -9.42     25.00        47          20       10.30   \n",
       "3      Arlit  18.74   7.39     36.32        28         100        8.68   \n",
       "4    Angoche -16.23  39.91     25.82        69          63        5.07   \n",
       "\n",
       "  Country        Date  \n",
       "0      ES  1598622376  \n",
       "1      SN  1598622377  \n",
       "2      PT  1598622108  \n",
       "3      NE  1598622378  \n",
       "4      MZ  1598622379  "
      ]
     },
     "execution_count": 20,
     "metadata": {},
     "output_type": "execute_result"
    }
   ],
   "source": [
    "df.head()"
   ]
  },
  {
   "cell_type": "code",
   "execution_count": 21,
   "metadata": {},
   "outputs": [
    {
     "data": {
      "text/plain": [
       "City          566\n",
       "Lat           566\n",
       "Lng           566\n",
       "Max Temp      566\n",
       "Humidity      566\n",
       "Cloudiness    566\n",
       "Wind Speed    566\n",
       "Country       566\n",
       "Date          566\n",
       "dtype: int64"
      ]
     },
     "execution_count": 21,
     "metadata": {},
     "output_type": "execute_result"
    }
   ],
   "source": [
    "#verify all columns are of same length in dataframe\n",
    "df.count()"
   ]
  },
  {
   "cell_type": "code",
   "execution_count": 22,
   "metadata": {},
   "outputs": [],
   "source": [
    "#export data to csv\n",
    "df.to_csv(\"output/city_data.csv\")"
   ]
  },
  {
   "cell_type": "markdown",
   "metadata": {},
   "source": [
    "## Inspect the data and remove the cities where the humidity > 100%.\n",
    "----\n",
    "Skip this step if there are no cities that have humidity > 100%. "
   ]
  },
  {
   "cell_type": "code",
   "execution_count": null,
   "metadata": {},
   "outputs": [],
   "source": []
  },
  {
   "cell_type": "code",
   "execution_count": 23,
   "metadata": {},
   "outputs": [
    {
     "data": {
      "text/html": [
       "<div>\n",
       "<style scoped>\n",
       "    .dataframe tbody tr th:only-of-type {\n",
       "        vertical-align: middle;\n",
       "    }\n",
       "\n",
       "    .dataframe tbody tr th {\n",
       "        vertical-align: top;\n",
       "    }\n",
       "\n",
       "    .dataframe thead th {\n",
       "        text-align: right;\n",
       "    }\n",
       "</style>\n",
       "<table border=\"1\" class=\"dataframe\">\n",
       "  <thead>\n",
       "    <tr style=\"text-align: right;\">\n",
       "      <th></th>\n",
       "      <th>Lat</th>\n",
       "      <th>Lng</th>\n",
       "      <th>Max Temp</th>\n",
       "      <th>Humidity</th>\n",
       "      <th>Cloudiness</th>\n",
       "      <th>Wind Speed</th>\n",
       "      <th>Date</th>\n",
       "    </tr>\n",
       "  </thead>\n",
       "  <tbody>\n",
       "    <tr>\n",
       "      <th>count</th>\n",
       "      <td>566.00000</td>\n",
       "      <td>566.000000</td>\n",
       "      <td>566.000000</td>\n",
       "      <td>566.000000</td>\n",
       "      <td>566.000000</td>\n",
       "      <td>566.000000</td>\n",
       "      <td>5.660000e+02</td>\n",
       "    </tr>\n",
       "    <tr>\n",
       "      <th>mean</th>\n",
       "      <td>19.37871</td>\n",
       "      <td>17.538304</td>\n",
       "      <td>21.333693</td>\n",
       "      <td>69.318021</td>\n",
       "      <td>51.379859</td>\n",
       "      <td>3.662756</td>\n",
       "      <td>1.598623e+09</td>\n",
       "    </tr>\n",
       "    <tr>\n",
       "      <th>std</th>\n",
       "      <td>32.95934</td>\n",
       "      <td>90.554065</td>\n",
       "      <td>8.742499</td>\n",
       "      <td>21.937512</td>\n",
       "      <td>39.347855</td>\n",
       "      <td>2.557143</td>\n",
       "      <td>1.172511e+02</td>\n",
       "    </tr>\n",
       "    <tr>\n",
       "      <th>min</th>\n",
       "      <td>-54.80000</td>\n",
       "      <td>-175.200000</td>\n",
       "      <td>-1.000000</td>\n",
       "      <td>3.000000</td>\n",
       "      <td>0.000000</td>\n",
       "      <td>0.170000</td>\n",
       "      <td>1.598622e+09</td>\n",
       "    </tr>\n",
       "    <tr>\n",
       "      <th>25%</th>\n",
       "      <td>-7.76500</td>\n",
       "      <td>-64.945000</td>\n",
       "      <td>14.000000</td>\n",
       "      <td>59.250000</td>\n",
       "      <td>8.250000</td>\n",
       "      <td>1.775000</td>\n",
       "      <td>1.598622e+09</td>\n",
       "    </tr>\n",
       "    <tr>\n",
       "      <th>50%</th>\n",
       "      <td>22.67500</td>\n",
       "      <td>20.630000</td>\n",
       "      <td>23.000000</td>\n",
       "      <td>74.000000</td>\n",
       "      <td>55.500000</td>\n",
       "      <td>3.100000</td>\n",
       "      <td>1.598623e+09</td>\n",
       "    </tr>\n",
       "    <tr>\n",
       "      <th>75%</th>\n",
       "      <td>47.36500</td>\n",
       "      <td>100.340000</td>\n",
       "      <td>27.902500</td>\n",
       "      <td>86.000000</td>\n",
       "      <td>90.000000</td>\n",
       "      <td>4.920000</td>\n",
       "      <td>1.598623e+09</td>\n",
       "    </tr>\n",
       "    <tr>\n",
       "      <th>max</th>\n",
       "      <td>78.22000</td>\n",
       "      <td>178.420000</td>\n",
       "      <td>45.590000</td>\n",
       "      <td>100.000000</td>\n",
       "      <td>100.000000</td>\n",
       "      <td>15.400000</td>\n",
       "      <td>1.598623e+09</td>\n",
       "    </tr>\n",
       "  </tbody>\n",
       "</table>\n",
       "</div>"
      ],
      "text/plain": [
       "             Lat         Lng    Max Temp    Humidity  Cloudiness  Wind Speed  \\\n",
       "count  566.00000  566.000000  566.000000  566.000000  566.000000  566.000000   \n",
       "mean    19.37871   17.538304   21.333693   69.318021   51.379859    3.662756   \n",
       "std     32.95934   90.554065    8.742499   21.937512   39.347855    2.557143   \n",
       "min    -54.80000 -175.200000   -1.000000    3.000000    0.000000    0.170000   \n",
       "25%     -7.76500  -64.945000   14.000000   59.250000    8.250000    1.775000   \n",
       "50%     22.67500   20.630000   23.000000   74.000000   55.500000    3.100000   \n",
       "75%     47.36500  100.340000   27.902500   86.000000   90.000000    4.920000   \n",
       "max     78.22000  178.420000   45.590000  100.000000  100.000000   15.400000   \n",
       "\n",
       "               Date  \n",
       "count  5.660000e+02  \n",
       "mean   1.598623e+09  \n",
       "std    1.172511e+02  \n",
       "min    1.598622e+09  \n",
       "25%    1.598622e+09  \n",
       "50%    1.598623e+09  \n",
       "75%    1.598623e+09  \n",
       "max    1.598623e+09  "
      ]
     },
     "execution_count": 23,
     "metadata": {},
     "output_type": "execute_result"
    }
   ],
   "source": [
    "df.describe()"
   ]
  },
  {
   "cell_type": "markdown",
   "metadata": {},
   "source": [
    "#  Get the indices of cities that have humidity over 100%.\n",
    "No cities have humidity over 100%"
   ]
  },
  {
   "cell_type": "code",
   "execution_count": null,
   "metadata": {},
   "outputs": [],
   "source": [
    "# Make a new DataFrame equal to the city data to drop all humidity outliers by index.\n",
    "# Passing \"inplace=False\" will make a copy of the city_data DataFrame, which we call \"clean_city_data\".\n",
    "#N/A"
   ]
  },
  {
   "cell_type": "code",
   "execution_count": null,
   "metadata": {},
   "outputs": [],
   "source": [
    "# Extract relevant fields from the data frame\n",
    "\n",
    "#N/A\n",
    "# Export the City_Data into a csv\n",
    "#N/A"
   ]
  },
  {
   "cell_type": "markdown",
   "metadata": {},
   "source": [
    "## Plotting the Data\n",
    "* Use proper labeling of the plots using plot titles (including date of analysis) and axes labels.\n",
    "* Save the plotted figures as .pngs."
   ]
  },
  {
   "cell_type": "markdown",
   "metadata": {},
   "source": [
    "## Latitude vs. Temperature Plot"
   ]
  },
  {
   "cell_type": "code",
   "execution_count": 24,
   "metadata": {
    "scrolled": true
   },
   "outputs": [
    {
     "data": {
      "image/png": "[encoded data removed]",
      "text/plain": [
       "<Figure size 432x288 with 1 Axes>"
      ]
     },
     "metadata": {
      "needs_background": "light"
     },
     "output_type": "display_data"
    }
   ],
   "source": [
    "#scatter plot\n",
    "plt.scatter(df[\"Lat\"], df[\"Max Temp\"], facecolors = \"blue\",marker = 'o')\n",
    "\n",
    "#additional graph properties\n",
    "plt.title(\"City Latitude vs Max Temperature (26/08/2020)\")\n",
    "plt.xlabel(\"Latitude\")\n",
    "plt.ylabel(\"Max Temperature(C)\")\n",
    "plt.xlim(-60, 80)\n",
    "plt.grid()\n",
    "plt.savefig(\"output/LatvsTemp.png\")\n",
    "plt.show()"
   ]
  },
  {
   "cell_type": "markdown",
   "metadata": {},
   "source": [
    "The graph shows that as the latitude increases the temperature decreases.\n",
    "In the polar regions with latitudes -60 and +60, the temperatures are\n",
    "much lower than the equatorial region with latitude 0."
   ]
  },
  {
   "cell_type": "markdown",
   "metadata": {},
   "source": [
    "## Latitude vs. Humidity Plot"
   ]
  },
  {
   "cell_type": "code",
   "execution_count": 25,
   "metadata": {},
   "outputs": [
    {
     "data": {
      "image/png": "[encoded data removed]",
      "text/plain": [
       "<Figure size 432x288 with 1 Axes>"
      ]
     },
     "metadata": {
      "needs_background": "light"
     },
     "output_type": "display_data"
    }
   ],
   "source": [
    "#scatter plot\n",
    "plt.scatter(df[\"Lat\"], df[\"Humidity\"], facecolors = \"blue\",marker = 'o')\n",
    "\n",
    "#additional graph properties\n",
    "plt.title(\"City Latitude vs Humidity (26/08/2020)\")\n",
    "plt.xlabel(\"Latitude\")\n",
    "plt.ylabel(\"Humidity(%)\")\n",
    "plt.xlim(-60, 80)\n",
    "plt.grid()\n",
    "plt.savefig(\"output/LatvsHumidity.png\")\n",
    "plt.show()"
   ]
  },
  {
   "cell_type": "markdown",
   "metadata": {},
   "source": [
    "There seems to be no relationship between latitude and humidity based on weather data from 26/08/2020. Data is randomly\n",
    "distributed through the whole range of latitudes."
   ]
  },
  {
   "cell_type": "markdown",
   "metadata": {},
   "source": [
    "## Latitude vs. Cloudiness Plot"
   ]
  },
  {
   "cell_type": "code",
   "execution_count": 26,
   "metadata": {
    "scrolled": true
   },
   "outputs": [
    {
     "data": {
      "image/png": "[encoded data removed]",
      "text/plain": [
       "<Figure size 432x288 with 1 Axes>"
      ]
     },
     "metadata": {
      "needs_background": "light"
     },
     "output_type": "display_data"
    }
   ],
   "source": [
    "#scatter plot\n",
    "plt.scatter(df[\"Lat\"], df[\"Cloudiness\"], facecolors = \"blue\",marker = 'o')\n",
    "\n",
    "#additional graph properties\n",
    "plt.title(\"City Latitude vs Cloudiness (26/08/2020)\")\n",
    "plt.xlabel(\"Latitude\")\n",
    "plt.ylabel(\"Cloudiness(%)\")\n",
    "plt.xlim(-60, 80)\n",
    "plt.grid()\n",
    "plt.savefig(\"output/LatvsCloudiness.png\")\n",
    "plt.show()"
   ]
  },
  {
   "cell_type": "markdown",
   "metadata": {},
   "source": [
    "Cloudiness also does seem to be affected by latitude. There is no potential relationship between the two variables based on\n",
    "our results."
   ]
  },
  {
   "cell_type": "markdown",
   "metadata": {},
   "source": [
    "## Latitude vs. Wind Speed Plot"
   ]
  },
  {
   "cell_type": "code",
   "execution_count": 27,
   "metadata": {},
   "outputs": [
    {
     "data": {
      "image/png": "[encoded data removed]",
      "text/plain": [
       "<Figure size 432x288 with 1 Axes>"
      ]
     },
     "metadata": {
      "needs_background": "light"
     },
     "output_type": "display_data"
    }
   ],
   "source": [
    "#scatter plot\n",
    "plt.scatter(df[\"Lat\"], df[\"Wind Speed\"], facecolors = \"blue\",marker = 'o')\n",
    "\n",
    "#additional graph properties\n",
    "plt.title(\"City Latitude vs Wind Speed (26/08/2020)\")\n",
    "plt.xlabel(\"Latitude\")\n",
    "plt.ylabel(\"Wind Speed (mph)\")\n",
    "plt.xlim(-60, 80)\n",
    "plt.grid()\n",
    "plt.show()"
   ]
  },
  {
   "cell_type": "markdown",
   "metadata": {},
   "source": [
    "Latitude also does not seem to affect wind speed throughout the world. We see no clear relationship between the two based\n",
    "on our data. However, there seems to be an outlier in our data."
   ]
  },
  {
   "cell_type": "markdown",
   "metadata": {},
   "source": [
    "## Linear Regression"
   ]
  },
  {
   "cell_type": "code",
   "execution_count": null,
   "metadata": {},
   "outputs": [],
   "source": [
    "# OPTIONAL: Create a function to create Linear Regression plots"
   ]
  },
  {
   "cell_type": "code",
   "execution_count": 28,
   "metadata": {},
   "outputs": [],
   "source": [
    "# Create Northern and Southern Hemisphere DataFrames\n",
    "northern_hemi = df.loc[df[\"Lat\"] >= 0]\n",
    "southern_hemi = df.loc[df[\"Lat\"] < 0]"
   ]
  },
  {
   "cell_type": "code",
   "execution_count": 29,
   "metadata": {},
   "outputs": [
    {
     "data": {
      "text/plain": [
       "-0.77"
      ]
     },
     "execution_count": 29,
     "metadata": {},
     "output_type": "execute_result"
    }
   ],
   "source": [
    "#correlation cofficient for noethern hemisphere\n",
    "import scipy.stats as st\n",
    "r_squared = round(st.pearsonr(northern_hemi[\"Lat\"], northern_hemi[\"Max Temp\"])[0],2)\n",
    "r_squared"
   ]
  },
  {
   "cell_type": "code",
   "execution_count": 30,
   "metadata": {},
   "outputs": [],
   "source": [
    "xvalue = northern_hemi[\"Lat\"]\n",
    "yvalue = northern_hemi[\"Max Temp\"]\n",
    "(slope, intercept, rvalue, pvalue, stderr) = linregress(xvalue, yvalue)"
   ]
  },
  {
   "cell_type": "code",
   "execution_count": 31,
   "metadata": {},
   "outputs": [
    {
     "data": {
      "text/plain": [
       "'y = -0.34x + 34.47'"
      ]
     },
     "execution_count": 31,
     "metadata": {},
     "output_type": "execute_result"
    }
   ],
   "source": [
    "#generating equation\n",
    "regress_values = xvalue * slope + intercept\n",
    "line_eq = \"y = \" + str(round(slope,2)) + \"x + \" + str(round(intercept,2))\n",
    "line_eq"
   ]
  },
  {
   "cell_type": "markdown",
   "metadata": {},
   "source": [
    "####  Northern Hemisphere - Max Temp vs. Latitude Linear Regression"
   ]
  },
  {
   "cell_type": "code",
   "execution_count": 32,
   "metadata": {},
   "outputs": [
    {
     "data": {
      "image/png": "[encoded data removed]",
      "text/plain": [
       "<Figure size 432x288 with 1 Axes>"
      ]
     },
     "metadata": {
      "needs_background": "light"
     },
     "output_type": "display_data"
    },
    {
     "name": "stdout",
     "output_type": "stream",
     "text": [
      "The r-squared is:-0.77\n"
     ]
    }
   ],
   "source": [
    "#generating plot\n",
    "#create the plot and customize \n",
    "plt.scatter(xvalue, yvalue, facecolors = \"blue\", alpha = 0.75)\n",
    "plt.plot(xvalue, regress_values, color = \"red\")\n",
    "plt.annotate(line_eq,(6,10),fontsize=15,color=\"red\")\n",
    "plt.xlabel('Latitude')\n",
    "plt.ylabel('Max Temp')\n",
    "plt.title(\"Northern Hemisphere - Max Temp vs. Latitude Linear Regression\")\n",
    "plt.grid()\n",
    "plt.show()\n",
    "print(f\"The r-squared is:{r_squared}\")"
   ]
  },
  {
   "cell_type": "markdown",
   "metadata": {},
   "source": [
    "Based on the graph, we can conclude that maximum temperature and latitude are negatively correlated in Northern hemisphere.\n",
    "As the latitude increases, i.e. as one moves to the poles, maximum temperature decreases."
   ]
  },
  {
   "cell_type": "markdown",
   "metadata": {},
   "source": [
    "####  Southern Hemisphere - Max Temp vs. Latitude Linear Regression"
   ]
  },
  {
   "cell_type": "code",
   "execution_count": 33,
   "metadata": {},
   "outputs": [
    {
     "data": {
      "text/plain": [
       "0.77"
      ]
     },
     "execution_count": 33,
     "metadata": {},
     "output_type": "execute_result"
    }
   ],
   "source": [
    "#correlation cofficient for southern hemisphere\n",
    "r_squared = round(st.pearsonr(southern_hemi[\"Lat\"], southern_hemi[\"Max Temp\"])[0],2)\n",
    "r_squared"
   ]
  },
  {
   "cell_type": "code",
   "execution_count": 34,
   "metadata": {},
   "outputs": [],
   "source": [
    "xvalue = southern_hemi[\"Lat\"]\n",
    "yvalue = southern_hemi[\"Max Temp\"]\n",
    "(slope, intercept, rvalue, pvalue, stderr) = linregress(xvalue, yvalue)"
   ]
  },
  {
   "cell_type": "code",
   "execution_count": 35,
   "metadata": {},
   "outputs": [
    {
     "data": {
      "text/plain": [
       "'y = 0.47x + 30.54'"
      ]
     },
     "execution_count": 35,
     "metadata": {},
     "output_type": "execute_result"
    }
   ],
   "source": [
    "#generating equation\n",
    "regress_values = xvalue * slope + intercept\n",
    "line_eq = \"y = \" + str(round(slope,2)) + \"x + \" + str(round(intercept,2))\n",
    "line_eq"
   ]
  },
  {
   "cell_type": "code",
   "execution_count": 36,
   "metadata": {},
   "outputs": [
    {
     "data": {
      "image/png": "[encoded data removed]",
      "text/plain": [
       "<Figure size 432x288 with 1 Axes>"
      ]
     },
     "metadata": {
      "needs_background": "light"
     },
     "output_type": "display_data"
    },
    {
     "name": "stdout",
     "output_type": "stream",
     "text": [
      "The r-squared is:0.77\n"
     ]
    }
   ],
   "source": [
    "#generating plot\n",
    "#create the plot and customize \n",
    "plt.scatter(xvalue,yvalue, facecolors = \"blue\", alpha = 0.75)\n",
    "plt.plot(xvalue, regress_values, color = \"red\")\n",
    "plt.annotate(line_eq,(-50, 35), fontsize=15, color=\"red\")\n",
    "plt.xlabel('Latitude')\n",
    "plt.ylabel('Max Temp')\n",
    "plt.title(\"Southern Hemisphere - Max Temp vs. Latitude Linear Regression\")\n",
    "plt.grid()\n",
    "plt.show()\n",
    "print(f\"The r-squared is:{r_squared}\")\n"
   ]
  },
  {
   "cell_type": "markdown",
   "metadata": {},
   "source": [
    "Based on the graph, we can conclude that maximum temperature and latitude are positively correlated in Southern hemisphere.\n",
    "As the latitude increases, i.e. as one moves to the equator from the poles, maximum temperature increases as well."
   ]
  },
  {
   "cell_type": "markdown",
   "metadata": {},
   "source": [
    "####  Northern Hemisphere - Humidity (%) vs. Latitude Linear Regression"
   ]
  },
  {
   "cell_type": "code",
   "execution_count": 37,
   "metadata": {},
   "outputs": [
    {
     "data": {
      "image/png": "[encoded data removed]",
      "text/plain": [
       "<Figure size 432x288 with 1 Axes>"
      ]
     },
     "metadata": {
      "needs_background": "light"
     },
     "output_type": "display_data"
    },
    {
     "name": "stdout",
     "output_type": "stream",
     "text": [
      "The r-squared is:0.05\n"
     ]
    }
   ],
   "source": [
    "#correlation cofficient for northern hemisphere\n",
    "\n",
    "r_squared = round(st.pearsonr(northern_hemi[\"Lat\"], northern_hemi[\"Humidity\"])[0],2)\n",
    "\n",
    "xvalue = northern_hemi[\"Lat\"]\n",
    "yvalue = northern_hemi[\"Humidity\"]\n",
    "(slope, intercept, rvalue, pvalue, stderr) = linregress(xvalue, yvalue)\n",
    "\n",
    "#generating equation\n",
    "regress_values = xvalue * slope + intercept\n",
    "line_eq = \"y = \" + str(round(slope,2)) + \"x + \" + str(round(intercept,2))\n",
    "\n",
    "#generating plot\n",
    "#create the plot and customize \n",
    "plt.scatter(xvalue,yvalue, facecolors = \"blue\", alpha = 0.75)\n",
    "plt.plot(xvalue, regress_values, color = \"red\")\n",
    "plt.annotate(line_eq,(6,10),fontsize=15,color=\"red\")\n",
    "plt.xlabel('Latitude')\n",
    "plt.ylabel('Humidity')\n",
    "plt.title(\"Northern Hemisphere - Max Temp vs. Latitude Linear Regression\")\n",
    "plt.grid()\n",
    "plt.show()\n",
    "print(f\"The r-squared is:{r_squared}\")\n"
   ]
  },
  {
   "cell_type": "markdown",
   "metadata": {},
   "source": [
    "Based on the graph, we can see that there is no correlation between humidity and latitude in northern hemisphere. There is\n",
    "a slight positive trend on degree of humidity with increase in latitude. So, there is a possibility that humidity might increase as one moves further away from equator to the poles on northern hemisphere."
   ]
  },
  {
   "cell_type": "markdown",
   "metadata": {},
   "source": [
    "####  Southern Hemisphere - Humidity (%) vs. Latitude Linear Regression"
   ]
  },
  {
   "cell_type": "code",
   "execution_count": 38,
   "metadata": {},
   "outputs": [
    {
     "data": {
      "image/png": "[encoded data removed]",
      "text/plain": [
       "<Figure size 432x288 with 1 Axes>"
      ]
     },
     "metadata": {
      "needs_background": "light"
     },
     "output_type": "display_data"
    },
    {
     "name": "stdout",
     "output_type": "stream",
     "text": [
      "The r-squared is:-0.07\n"
     ]
    }
   ],
   "source": [
    "#correlation cofficient for southern hemisphere\n",
    "\n",
    "r_squared = round(st.pearsonr(southern_hemi[\"Lat\"], southern_hemi[\"Humidity\"])[0],2)\n",
    "\n",
    "xvalue = southern_hemi[\"Lat\"]\n",
    "yvalue = southern_hemi[\"Humidity\"]\n",
    "(slope, intercept, rvalue, pvalue, stderr) = linregress(xvalue, yvalue)\n",
    "\n",
    "#generating equation\n",
    "regress_values = xvalue * slope + intercept\n",
    "line_eq = \"y = \" + str(round(slope,2)) + \"x + \" + str(round(intercept,2))\n",
    "\n",
    "#generating plot\n",
    "#create the plot and customize \n",
    "plt.scatter(xvalue,yvalue, facecolors = \"blue\", alpha = 0.75)\n",
    "plt.plot(xvalue, regress_values,color = \"red\")\n",
    "plt.annotate(line_eq,(-50,20),fontsize=15,color=\"red\")\n",
    "plt.xlabel('Latitude')\n",
    "plt.ylabel('Humidity')\n",
    "plt.title(\"Southern Hemisphere - Max Temp vs. Latitude Linear Regression\")\n",
    "plt.grid()\n",
    "plt.show()\n",
    "print(f\"The r-squared is:{r_squared}\")\n"
   ]
  },
  {
   "cell_type": "markdown",
   "metadata": {},
   "source": [
    "Based on the graph, we can see that there is no correlation between humidity and latitude in southern hemisphere. There is\n",
    "a slight negative trend on degree of humidity with increase in latitude. So, there is a possibility that humidity might \n",
    "decrease as one moves further away from  south pole towards the equator on southern hemisphere."
   ]
  },
  {
   "cell_type": "markdown",
   "metadata": {},
   "source": [
    "####  Northern Hemisphere - Cloudiness (%) vs. Latitude Linear Regression"
   ]
  },
  {
   "cell_type": "code",
   "execution_count": 39,
   "metadata": {},
   "outputs": [
    {
     "data": {
      "image/png": "[encoded data removed]",
      "text/plain": [
       "<Figure size 432x288 with 1 Axes>"
      ]
     },
     "metadata": {
      "needs_background": "light"
     },
     "output_type": "display_data"
    },
    {
     "name": "stdout",
     "output_type": "stream",
     "text": [
      "The r-squared is:0.09\n"
     ]
    }
   ],
   "source": [
    "#correlation cofficient for northern hemisphere\n",
    "\n",
    "r_squared = round(st.pearsonr(northern_hemi[\"Lat\"], northern_hemi[\"Cloudiness\"])[0],2)\n",
    "\n",
    "xvalue = northern_hemi[\"Lat\"]\n",
    "yvalue = northern_hemi[\"Cloudiness\"]\n",
    "(slope, intercept, rvalue, pvalue, stderr) = linregress(xvalue, yvalue)\n",
    "\n",
    "#generating equation\n",
    "regress_values = xvalue * slope + intercept\n",
    "line_eq = \"y = \" + str(round(slope,2)) + \"x + \" + str(round(intercept,2))\n",
    "\n",
    "#generating plot\n",
    "#create the plot and customize \n",
    "plt.scatter(xvalue,yvalue, facecolors = \"blue\", alpha = 0.75)\n",
    "plt.plot(xvalue, regress_values, color = \"red\")\n",
    "plt.annotate(line_eq,(6,10),fontsize=15,color=\"red\")\n",
    "plt.xlabel('Latitude')\n",
    "plt.ylabel('Cloudiness')\n",
    "plt.title(\"Northern Hemisphere - Cloudiness vs. Latitude Linear Regression\")\n",
    "plt.grid()\n",
    "plt.show()\n",
    "print(f\"The r-squared is:{r_squared}\")\n"
   ]
  },
  {
   "cell_type": "markdown",
   "metadata": {},
   "source": [
    "There is no correlation between cloudiness and latitude in northern hemisphere. There is a slight positive trend as one \n",
    "moves from the equator to the north pole."
   ]
  },
  {
   "cell_type": "markdown",
   "metadata": {},
   "source": [
    "####  Southern Hemisphere - Cloudiness (%) vs. Latitude Linear Regression"
   ]
  },
  {
   "cell_type": "code",
   "execution_count": 40,
   "metadata": {},
   "outputs": [
    {
     "data": {
      "image/png": "[encoded data removed]",
      "text/plain": [
       "<Figure size 432x288 with 1 Axes>"
      ]
     },
     "metadata": {
      "needs_background": "light"
     },
     "output_type": "display_data"
    },
    {
     "name": "stdout",
     "output_type": "stream",
     "text": [
      "The r-squared is:0.15\n"
     ]
    }
   ],
   "source": [
    "#correlation cofficient for southern hemisphere\n",
    "\n",
    "r_squared = round(st.pearsonr(southern_hemi[\"Lat\"], southern_hemi[\"Cloudiness\"])[0],2)\n",
    "\n",
    "xvalue = southern_hemi[\"Lat\"]\n",
    "yvalue = southern_hemi[\"Cloudiness\"]\n",
    "(slope, intercept, rvalue, pvalue, stderr) = linregress(xvalue, yvalue)\n",
    "\n",
    "#generating equation\n",
    "regress_values = xvalue * slope + intercept\n",
    "line_eq = \"y = \" + str(round(slope,2)) + \"x + \" + str(round(intercept,2))\n",
    "\n",
    "#generating plot\n",
    "#create the plot and customize \n",
    "plt.scatter(xvalue,yvalue, facecolors = \"blue\", alpha = 0.75)\n",
    "plt.plot(xvalue, regress_values, color = \"red\")\n",
    "plt.annotate(line_eq,(-50,20),fontsize=15,color=\"red\")\n",
    "plt.xlabel('Latitude')\n",
    "plt.ylabel('Cloudiness')\n",
    "plt.title(\"Southern Hemisphere - Max Temp vs. Latitude Linear Regression\")\n",
    "plt.grid()\n",
    "plt.show()\n",
    "print(f\"The r-squared is:{r_squared}\")\n"
   ]
  },
  {
   "cell_type": "markdown",
   "metadata": {},
   "source": [
    "####  Northern Hemisphere - Wind Speed (mph) vs. Latitude Linear Regression"
   ]
  },
  {
   "cell_type": "code",
   "execution_count": 41,
   "metadata": {},
   "outputs": [
    {
     "data": {
      "image/png": "[encoded data removed]",
      "text/plain": [
       "<Figure size 432x288 with 1 Axes>"
      ]
     },
     "metadata": {
      "needs_background": "light"
     },
     "output_type": "display_data"
    },
    {
     "name": "stdout",
     "output_type": "stream",
     "text": [
      "The r-squared is:-0.0\n"
     ]
    }
   ],
   "source": [
    "#correlation cofficient for northern hemisphere\n",
    "\n",
    "r_squared = round(st.pearsonr(northern_hemi[\"Lat\"], northern_hemi[\"Wind Speed\"])[0],2)\n",
    "\n",
    "xvalue = northern_hemi[\"Lat\"]\n",
    "yvalue = northern_hemi[\"Wind Speed\"]\n",
    "(slope, intercept, rvalue, pvalue, stderr) = linregress(xvalue, yvalue)\n",
    "\n",
    "#generating equation\n",
    "regress_values = xvalue * slope + intercept\n",
    "line_eq = \"y = \" + str(round(slope,2)) + \"x + \" + str(round(intercept,2))\n",
    "\n",
    "#generating plot\n",
    "#create the plot and customize \n",
    "plt.scatter(xvalue,yvalue, facecolors = \"blue\", alpha = 0.75)\n",
    "plt.plot(xvalue, regress_values, color = \"red\")\n",
    "plt.annotate(line_eq,(6,12),fontsize=15,color=\"red\")\n",
    "plt.xlabel('Latitude')\n",
    "plt.ylabel('Wind Speed')\n",
    "plt.title(\"Northern Hemisphere - Wind Speed vs. Latitude Linear Regression\")\n",
    "plt.grid()\n",
    "plt.show()\n",
    "print(f\"The r-squared is:{r_squared}\")\n"
   ]
  },
  {
   "cell_type": "markdown",
   "metadata": {},
   "source": [
    "There is no correlation between latitude and maximum wind speed in northern hemisphere. There might be at least 1 outlier\n",
    "in our dataset. "
   ]
  },
  {
   "cell_type": "markdown",
   "metadata": {},
   "source": [
    "####  Southern Hemisphere - Wind Speed (mph) vs. Latitude Linear Regression"
   ]
  },
  {
   "cell_type": "code",
   "execution_count": 42,
   "metadata": {
    "scrolled": true
   },
   "outputs": [
    {
     "data": {
      "image/png": "[encoded data removed]",
      "text/plain": [
       "<Figure size 432x288 with 1 Axes>"
      ]
     },
     "metadata": {
      "needs_background": "light"
     },
     "output_type": "display_data"
    },
    {
     "name": "stdout",
     "output_type": "stream",
     "text": [
      "The r-squared is:-0.26\n"
     ]
    }
   ],
   "source": [
    "#correlation cofficient for southern hemisphere\n",
    "\n",
    "r_squared = round(st.pearsonr(southern_hemi[\"Lat\"], southern_hemi[\"Wind Speed\"])[0],2)\n",
    "\n",
    "xvalue = southern_hemi[\"Lat\"]\n",
    "yvalue = southern_hemi[\"Wind Speed\"]\n",
    "(slope, intercept, rvalue, pvalue, stderr) = linregress(xvalue, yvalue)\n",
    "\n",
    "#generating equation\n",
    "regress_values = xvalue * slope + intercept\n",
    "line_eq = \"y = \" + str(round(slope,2)) + \"x + \" + str(round(intercept,2))\n",
    "\n",
    "#generating plot\n",
    "#create the plot and customize \n",
    "plt.scatter(xvalue,yvalue, facecolors = \"blue\", alpha = 0.75)\n",
    "plt.plot(xvalue, regress_values,\"--\")\n",
    "plt.annotate(line_eq,(-50,10),fontsize=15,color=\"red\")\n",
    "plt.xlabel('Latitude')\n",
    "plt.ylabel(\"Wind Speed\")\n",
    "plt.title(\"Southern Hemisphere - Wind Speed vs. Latitude Linear Regression\")\n",
    "plt.grid()\n",
    "plt.show()\n",
    "print(f\"The r-squared is:{r_squared}\")\n"
   ]
  },
  {
   "cell_type": "markdown",
   "metadata": {},
   "source": [
    "There is no correlation between latitude and maximum wind speed in southern hemisphere. "
   ]
  }
 ],
 "metadata": {
  "anaconda-cloud": {},
  "kernel_info": {
   "name": "python3"
  },
  "kernelspec": {
   "display_name": "Python [conda env:PythonData] *",
   "language": "python",
   "name": "conda-env-PythonData-py"
  },
  "language_info": {
   "codemirror_mode": {
    "name": "ipython",
    "version": 3
   },
   "file_extension": ".py",
   "mimetype": "text/x-python",
   "name": "python",
   "nbconvert_exporter": "python",
   "pygments_lexer": "ipython3",
   "version": "3.7.6"
  },
  "latex_envs": {
   "LaTeX_envs_menu_present": true,
   "autoclose": false,
   "autocomplete": true,
   "bibliofile": "biblio.bib",
   "cite_by": "apalike",
   "current_citInitial": 1,
   "eqLabelWithNumbers": true,
   "eqNumInitial": 1,
   "hotkeys": {
    "equation": "Ctrl-E",
    "itemize": "Ctrl-I"
   },
   "labels_anchors": false,
   "latex_user_defs": false,
   "report_style_numbering": false,
   "user_envs_cfg": false
  },
  "nteract": {
   "version": "0.12.3"
  }
 },
 "nbformat": 4,
 "nbformat_minor": 2
}
