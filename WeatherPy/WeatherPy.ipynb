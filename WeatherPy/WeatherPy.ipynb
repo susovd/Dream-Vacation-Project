{
 "cells": [
  {
   "cell_type": "markdown",
   "metadata": {},
   "source": [
    "# WeatherPy\n",
    "----\n",
    "\n",
    "#### Note\n",
    "* Instructions have been included for each segment. You do not have to follow them exactly, but they are included to help you think through the steps."
   ]
  },
  {
   "cell_type": "code",
   "execution_count": 1,
   "metadata": {
    "scrolled": true
   },
   "outputs": [],
   "source": [
    "# Dependencies and Setup\n",
    "import matplotlib.pyplot as plt\n",
    "import pandas as pd\n",
    "import numpy as np\n",
    "import requests\n",
    "import time\n",
    "from scipy.stats import linregress\n",
    "\n",
    "\n",
    "# Import API key\n",
    "from api_keys import weather_api_key\n",
    "\n",
    "# Incorporated citipy to determine city based on latitude and longitude\n",
    "from citipy import citipy\n",
    "\n",
    "# Output File (CSV)\n",
    "output_data_file = \"output_data/cities.csv\"\n",
    "\n",
    "# Range of latitudes and longitudes\n",
    "lat_range = (-90, 90)\n",
    "lng_range = (-180, 180)"
   ]
  },
  {
   "cell_type": "markdown",
   "metadata": {},
   "source": [
    "## Generate Cities List"
   ]
  },
  {
   "cell_type": "code",
   "execution_count": 2,
   "metadata": {},
   "outputs": [
    {
     "data": {
      "text/plain": [
       "610"
      ]
     },
     "execution_count": 2,
     "metadata": {},
     "output_type": "execute_result"
    }
   ],
   "source": [
    "# List for holding lat_lngs and cities\n",
    "lat_lngs = []\n",
    "cities = []\n",
    "\n",
    "# Create a set of random lat and lng combinations\n",
    "lats = np.random.uniform(lat_range[0], lat_range[1], size=1500)\n",
    "lngs = np.random.uniform(lng_range[0], lng_range[1], size=1500)\n",
    "lat_lngs = zip(lats, lngs)\n",
    "\n",
    "# Identify nearest city for each lat, lng combination\n",
    "for lat_lng in lat_lngs:\n",
    "    city = citipy.nearest_city(lat_lng[0], lat_lng[1]).city_name\n",
    "    \n",
    "    # If the city is unique, then add it to a our cities list\n",
    "    if city not in cities:\n",
    "        cities.append(city)\n",
    "\n",
    "# Print the city count to confirm sufficient count\n",
    "len(cities)"
   ]
  },
  {
   "cell_type": "markdown",
   "metadata": {},
   "source": [
    "### Perform API Calls\n",
    "* Perform a weather check on each city using a series of successive API calls.\n",
    "* Include a print log of each city as it'sbeing processed (with the city number and city name).\n"
   ]
  },
  {
   "cell_type": "code",
   "execution_count": 3,
   "metadata": {},
   "outputs": [
    {
     "data": {
      "text/plain": [
       "610"
      ]
     },
     "execution_count": 3,
     "metadata": {},
     "output_type": "execute_result"
    }
   ],
   "source": [
    "a = len(cities)\n",
    "a\n"
   ]
  },
  {
   "cell_type": "code",
   "execution_count": 4,
   "metadata": {},
   "outputs": [],
   "source": [
    "units = \"metric\"\n",
    "url = f\"http://api.openweathermap.org/data/2.5/weather?units={units}&APPID={weather_api_key}\""
   ]
  },
  {
   "cell_type": "code",
   "execution_count": 5,
   "metadata": {},
   "outputs": [],
   "source": [
    "all_cities = []\n",
    "latitude = []\n",
    "longitude = []\n",
    "temperature = []\n",
    "humidity = []\n",
    "cloudiness = []\n",
    "windspeed = []\n",
    "country = []\n",
    "date = []"
   ]
  },
  {
   "cell_type": "code",
   "execution_count": 6,
   "metadata": {},
   "outputs": [
    {
     "name": "stdout",
     "output_type": "stream",
     "text": [
      "http://api.openweathermap.org/data/2.5/weather?units=metric&APPID=767db115d62ad68acd7e1d7444eef403&q=cape town\n",
      "processing cape town\n",
      "http://api.openweathermap.org/data/2.5/weather?units=metric&APPID=767db115d62ad68acd7e1d7444eef403&q=beipiao\n",
      "processing beipiao\n",
      "http://api.openweathermap.org/data/2.5/weather?units=metric&APPID=767db115d62ad68acd7e1d7444eef403&q=fukue\n",
      "processing fukue\n",
      "http://api.openweathermap.org/data/2.5/weather?units=metric&APPID=767db115d62ad68acd7e1d7444eef403&q=tiksi\n",
      "processing tiksi\n",
      "http://api.openweathermap.org/data/2.5/weather?units=metric&APPID=767db115d62ad68acd7e1d7444eef403&q=sao filipe\n",
      "processing sao filipe\n",
      "http://api.openweathermap.org/data/2.5/weather?units=metric&APPID=767db115d62ad68acd7e1d7444eef403&q=lorengau\n",
      "processing lorengau\n",
      "http://api.openweathermap.org/data/2.5/weather?units=metric&APPID=767db115d62ad68acd7e1d7444eef403&q=taolanaro\n",
      "processing taolanaro\n",
      "City not found.\n",
      "http://api.openweathermap.org/data/2.5/weather?units=metric&APPID=767db115d62ad68acd7e1d7444eef403&q=niksar\n",
      "processing niksar\n",
      "http://api.openweathermap.org/data/2.5/weather?units=metric&APPID=767db115d62ad68acd7e1d7444eef403&q=bintulu\n",
      "processing bintulu\n",
      "http://api.openweathermap.org/data/2.5/weather?units=metric&APPID=767db115d62ad68acd7e1d7444eef403&q=lebu\n",
      "processing lebu\n",
      "http://api.openweathermap.org/data/2.5/weather?units=metric&APPID=767db115d62ad68acd7e1d7444eef403&q=green river\n",
      "processing green river\n",
      "http://api.openweathermap.org/data/2.5/weather?units=metric&APPID=767db115d62ad68acd7e1d7444eef403&q=albany\n",
      "processing albany\n",
      "http://api.openweathermap.org/data/2.5/weather?units=metric&APPID=767db115d62ad68acd7e1d7444eef403&q=busselton\n",
      "processing busselton\n",
      "http://api.openweathermap.org/data/2.5/weather?units=metric&APPID=767db115d62ad68acd7e1d7444eef403&q=waycross\n",
      "processing waycross\n",
      "http://api.openweathermap.org/data/2.5/weather?units=metric&APPID=767db115d62ad68acd7e1d7444eef403&q=port alfred\n",
      "processing port alfred\n",
      "http://api.openweathermap.org/data/2.5/weather?units=metric&APPID=767db115d62ad68acd7e1d7444eef403&q=ushuaia\n",
      "processing ushuaia\n",
      "http://api.openweathermap.org/data/2.5/weather?units=metric&APPID=767db115d62ad68acd7e1d7444eef403&q=san ramon\n",
      "processing san ramon\n",
      "http://api.openweathermap.org/data/2.5/weather?units=metric&APPID=767db115d62ad68acd7e1d7444eef403&q=chagda\n",
      "processing chagda\n",
      "City not found.\n",
      "http://api.openweathermap.org/data/2.5/weather?units=metric&APPID=767db115d62ad68acd7e1d7444eef403&q=chuy\n",
      "processing chuy\n",
      "http://api.openweathermap.org/data/2.5/weather?units=metric&APPID=767db115d62ad68acd7e1d7444eef403&q=tasiilaq\n",
      "processing tasiilaq\n",
      "http://api.openweathermap.org/data/2.5/weather?units=metric&APPID=767db115d62ad68acd7e1d7444eef403&q=ibra\n",
      "processing ibra\n",
      "http://api.openweathermap.org/data/2.5/weather?units=metric&APPID=767db115d62ad68acd7e1d7444eef403&q=kapaa\n",
      "processing kapaa\n",
      "http://api.openweathermap.org/data/2.5/weather?units=metric&APPID=767db115d62ad68acd7e1d7444eef403&q=atuona\n",
      "processing atuona\n",
      "http://api.openweathermap.org/data/2.5/weather?units=metric&APPID=767db115d62ad68acd7e1d7444eef403&q=kahama\n",
      "processing kahama\n",
      "http://api.openweathermap.org/data/2.5/weather?units=metric&APPID=767db115d62ad68acd7e1d7444eef403&q=la rioja\n",
      "processing la rioja\n",
      "http://api.openweathermap.org/data/2.5/weather?units=metric&APPID=767db115d62ad68acd7e1d7444eef403&q=touros\n",
      "processing touros\n",
      "http://api.openweathermap.org/data/2.5/weather?units=metric&APPID=767db115d62ad68acd7e1d7444eef403&q=yellowknife\n",
      "processing yellowknife\n",
      "http://api.openweathermap.org/data/2.5/weather?units=metric&APPID=767db115d62ad68acd7e1d7444eef403&q=mys shmidta\n",
      "processing mys shmidta\n",
      "City not found.\n",
      "http://api.openweathermap.org/data/2.5/weather?units=metric&APPID=767db115d62ad68acd7e1d7444eef403&q=nanning\n",
      "processing nanning\n",
      "http://api.openweathermap.org/data/2.5/weather?units=metric&APPID=767db115d62ad68acd7e1d7444eef403&q=hithadhoo\n",
      "processing hithadhoo\n",
      "http://api.openweathermap.org/data/2.5/weather?units=metric&APPID=767db115d62ad68acd7e1d7444eef403&q=new norfolk\n",
      "processing new norfolk\n",
      "http://api.openweathermap.org/data/2.5/weather?units=metric&APPID=767db115d62ad68acd7e1d7444eef403&q=bilibino\n",
      "processing bilibino\n",
      "http://api.openweathermap.org/data/2.5/weather?units=metric&APPID=767db115d62ad68acd7e1d7444eef403&q=san borja\n",
      "processing san borja\n",
      "http://api.openweathermap.org/data/2.5/weather?units=metric&APPID=767db115d62ad68acd7e1d7444eef403&q=duzce\n",
      "processing duzce\n",
      "http://api.openweathermap.org/data/2.5/weather?units=metric&APPID=767db115d62ad68acd7e1d7444eef403&q=vaini\n",
      "processing vaini\n",
      "http://api.openweathermap.org/data/2.5/weather?units=metric&APPID=767db115d62ad68acd7e1d7444eef403&q=salinopolis\n",
      "processing salinopolis\n",
      "http://api.openweathermap.org/data/2.5/weather?units=metric&APPID=767db115d62ad68acd7e1d7444eef403&q=hofn\n",
      "processing hofn\n",
      "http://api.openweathermap.org/data/2.5/weather?units=metric&APPID=767db115d62ad68acd7e1d7444eef403&q=attawapiskat\n",
      "processing attawapiskat\n",
      "City not found.\n",
      "http://api.openweathermap.org/data/2.5/weather?units=metric&APPID=767db115d62ad68acd7e1d7444eef403&q=puerto ayora\n",
      "processing puerto ayora\n",
      "http://api.openweathermap.org/data/2.5/weather?units=metric&APPID=767db115d62ad68acd7e1d7444eef403&q=hobart\n",
      "processing hobart\n",
      "http://api.openweathermap.org/data/2.5/weather?units=metric&APPID=767db115d62ad68acd7e1d7444eef403&q=dunedin\n",
      "processing dunedin\n",
      "http://api.openweathermap.org/data/2.5/weather?units=metric&APPID=767db115d62ad68acd7e1d7444eef403&q=grand river south east\n",
      "processing grand river south east\n",
      "City not found.\n",
      "http://api.openweathermap.org/data/2.5/weather?units=metric&APPID=767db115d62ad68acd7e1d7444eef403&q=bredasdorp\n",
      "processing bredasdorp\n",
      "http://api.openweathermap.org/data/2.5/weather?units=metric&APPID=767db115d62ad68acd7e1d7444eef403&q=eucaliptus\n",
      "processing eucaliptus\n",
      "http://api.openweathermap.org/data/2.5/weather?units=metric&APPID=767db115d62ad68acd7e1d7444eef403&q=hilo\n",
      "processing hilo\n",
      "http://api.openweathermap.org/data/2.5/weather?units=metric&APPID=767db115d62ad68acd7e1d7444eef403&q=ambodifototra\n",
      "processing ambodifototra\n",
      "City not found.\n",
      "http://api.openweathermap.org/data/2.5/weather?units=metric&APPID=767db115d62ad68acd7e1d7444eef403&q=binabalian\n",
      "processing binabalian\n",
      "http://api.openweathermap.org/data/2.5/weather?units=metric&APPID=767db115d62ad68acd7e1d7444eef403&q=vaitupu\n",
      "processing vaitupu\n",
      "City not found.\n",
      "http://api.openweathermap.org/data/2.5/weather?units=metric&APPID=767db115d62ad68acd7e1d7444eef403&q=verkhnevilyuysk\n",
      "processing verkhnevilyuysk\n",
      "http://api.openweathermap.org/data/2.5/weather?units=metric&APPID=767db115d62ad68acd7e1d7444eef403&q=airai\n",
      "processing airai\n",
      "http://api.openweathermap.org/data/2.5/weather?units=metric&APPID=767db115d62ad68acd7e1d7444eef403&q=asau\n",
      "processing asau\n",
      "http://api.openweathermap.org/data/2.5/weather?units=metric&APPID=767db115d62ad68acd7e1d7444eef403&q=narsaq\n",
      "processing narsaq\n",
      "http://api.openweathermap.org/data/2.5/weather?units=metric&APPID=767db115d62ad68acd7e1d7444eef403&q=loandjili\n",
      "processing loandjili\n",
      "http://api.openweathermap.org/data/2.5/weather?units=metric&APPID=767db115d62ad68acd7e1d7444eef403&q=ancud\n",
      "processing ancud\n",
      "http://api.openweathermap.org/data/2.5/weather?units=metric&APPID=767db115d62ad68acd7e1d7444eef403&q=seddon\n",
      "processing seddon\n",
      "http://api.openweathermap.org/data/2.5/weather?units=metric&APPID=767db115d62ad68acd7e1d7444eef403&q=bojaya\n",
      "processing bojaya\n",
      "City not found.\n",
      "http://api.openweathermap.org/data/2.5/weather?units=metric&APPID=767db115d62ad68acd7e1d7444eef403&q=awjilah\n",
      "processing awjilah\n",
      "http://api.openweathermap.org/data/2.5/weather?units=metric&APPID=767db115d62ad68acd7e1d7444eef403&q=khatanga\n",
      "processing khatanga\n",
      "http://api.openweathermap.org/data/2.5/weather?units=metric&APPID=767db115d62ad68acd7e1d7444eef403&q=mataura\n",
      "processing mataura\n",
      "http://api.openweathermap.org/data/2.5/weather?units=metric&APPID=767db115d62ad68acd7e1d7444eef403&q=lanzhou\n",
      "processing lanzhou\n",
      "http://api.openweathermap.org/data/2.5/weather?units=metric&APPID=767db115d62ad68acd7e1d7444eef403&q=quang ngai\n",
      "processing quang ngai\n",
      "http://api.openweathermap.org/data/2.5/weather?units=metric&APPID=767db115d62ad68acd7e1d7444eef403&q=farafangana\n",
      "processing farafangana\n",
      "http://api.openweathermap.org/data/2.5/weather?units=metric&APPID=767db115d62ad68acd7e1d7444eef403&q=pevek\n"
     ]
    },
    {
     "name": "stdout",
     "output_type": "stream",
     "text": [
      "processing pevek\n",
      "http://api.openweathermap.org/data/2.5/weather?units=metric&APPID=767db115d62ad68acd7e1d7444eef403&q=northam\n",
      "processing northam\n",
      "http://api.openweathermap.org/data/2.5/weather?units=metric&APPID=767db115d62ad68acd7e1d7444eef403&q=koumac\n",
      "processing koumac\n",
      "http://api.openweathermap.org/data/2.5/weather?units=metric&APPID=767db115d62ad68acd7e1d7444eef403&q=klaksvik\n",
      "processing klaksvik\n",
      "http://api.openweathermap.org/data/2.5/weather?units=metric&APPID=767db115d62ad68acd7e1d7444eef403&q=asfi\n",
      "processing asfi\n",
      "http://api.openweathermap.org/data/2.5/weather?units=metric&APPID=767db115d62ad68acd7e1d7444eef403&q=belushya guba\n",
      "processing belushya guba\n",
      "City not found.\n",
      "http://api.openweathermap.org/data/2.5/weather?units=metric&APPID=767db115d62ad68acd7e1d7444eef403&q=rikitea\n",
      "processing rikitea\n",
      "http://api.openweathermap.org/data/2.5/weather?units=metric&APPID=767db115d62ad68acd7e1d7444eef403&q=ponta do sol\n",
      "processing ponta do sol\n",
      "http://api.openweathermap.org/data/2.5/weather?units=metric&APPID=767db115d62ad68acd7e1d7444eef403&q=souillac\n",
      "processing souillac\n",
      "http://api.openweathermap.org/data/2.5/weather?units=metric&APPID=767db115d62ad68acd7e1d7444eef403&q=carnarvon\n",
      "processing carnarvon\n",
      "http://api.openweathermap.org/data/2.5/weather?units=metric&APPID=767db115d62ad68acd7e1d7444eef403&q=saskylakh\n",
      "processing saskylakh\n",
      "http://api.openweathermap.org/data/2.5/weather?units=metric&APPID=767db115d62ad68acd7e1d7444eef403&q=cherdakly\n",
      "processing cherdakly\n",
      "http://api.openweathermap.org/data/2.5/weather?units=metric&APPID=767db115d62ad68acd7e1d7444eef403&q=bethel\n",
      "processing bethel\n",
      "http://api.openweathermap.org/data/2.5/weather?units=metric&APPID=767db115d62ad68acd7e1d7444eef403&q=varhaug\n",
      "processing varhaug\n",
      "http://api.openweathermap.org/data/2.5/weather?units=metric&APPID=767db115d62ad68acd7e1d7444eef403&q=jamestown\n",
      "processing jamestown\n",
      "http://api.openweathermap.org/data/2.5/weather?units=metric&APPID=767db115d62ad68acd7e1d7444eef403&q=mahebourg\n",
      "processing mahebourg\n",
      "http://api.openweathermap.org/data/2.5/weather?units=metric&APPID=767db115d62ad68acd7e1d7444eef403&q=dicabisagan\n",
      "processing dicabisagan\n",
      "http://api.openweathermap.org/data/2.5/weather?units=metric&APPID=767db115d62ad68acd7e1d7444eef403&q=port lincoln\n",
      "processing port lincoln\n",
      "http://api.openweathermap.org/data/2.5/weather?units=metric&APPID=767db115d62ad68acd7e1d7444eef403&q=cherskiy\n",
      "processing cherskiy\n",
      "http://api.openweathermap.org/data/2.5/weather?units=metric&APPID=767db115d62ad68acd7e1d7444eef403&q=grindavik\n",
      "processing grindavik\n",
      "http://api.openweathermap.org/data/2.5/weather?units=metric&APPID=767db115d62ad68acd7e1d7444eef403&q=sitka\n",
      "processing sitka\n",
      "http://api.openweathermap.org/data/2.5/weather?units=metric&APPID=767db115d62ad68acd7e1d7444eef403&q=libreville\n",
      "processing libreville\n",
      "http://api.openweathermap.org/data/2.5/weather?units=metric&APPID=767db115d62ad68acd7e1d7444eef403&q=dhekiajuli\n",
      "processing dhekiajuli\n",
      "http://api.openweathermap.org/data/2.5/weather?units=metric&APPID=767db115d62ad68acd7e1d7444eef403&q=hermanus\n",
      "processing hermanus\n",
      "http://api.openweathermap.org/data/2.5/weather?units=metric&APPID=767db115d62ad68acd7e1d7444eef403&q=egvekinot\n",
      "processing egvekinot\n",
      "http://api.openweathermap.org/data/2.5/weather?units=metric&APPID=767db115d62ad68acd7e1d7444eef403&q=shebalino\n",
      "processing shebalino\n",
      "http://api.openweathermap.org/data/2.5/weather?units=metric&APPID=767db115d62ad68acd7e1d7444eef403&q=leningradskiy\n",
      "processing leningradskiy\n",
      "http://api.openweathermap.org/data/2.5/weather?units=metric&APPID=767db115d62ad68acd7e1d7444eef403&q=zhezkazgan\n",
      "processing zhezkazgan\n",
      "http://api.openweathermap.org/data/2.5/weather?units=metric&APPID=767db115d62ad68acd7e1d7444eef403&q=dikson\n",
      "processing dikson\n",
      "http://api.openweathermap.org/data/2.5/weather?units=metric&APPID=767db115d62ad68acd7e1d7444eef403&q=punta arenas\n",
      "processing punta arenas\n",
      "http://api.openweathermap.org/data/2.5/weather?units=metric&APPID=767db115d62ad68acd7e1d7444eef403&q=komsomolskiy\n",
      "processing komsomolskiy\n",
      "http://api.openweathermap.org/data/2.5/weather?units=metric&APPID=767db115d62ad68acd7e1d7444eef403&q=vila franca do campo\n",
      "processing vila franca do campo\n",
      "http://api.openweathermap.org/data/2.5/weather?units=metric&APPID=767db115d62ad68acd7e1d7444eef403&q=dwarka\n",
      "processing dwarka\n",
      "http://api.openweathermap.org/data/2.5/weather?units=metric&APPID=767db115d62ad68acd7e1d7444eef403&q=kodiak\n",
      "processing kodiak\n",
      "http://api.openweathermap.org/data/2.5/weather?units=metric&APPID=767db115d62ad68acd7e1d7444eef403&q=port elizabeth\n",
      "processing port elizabeth\n",
      "http://api.openweathermap.org/data/2.5/weather?units=metric&APPID=767db115d62ad68acd7e1d7444eef403&q=acapulco\n",
      "processing acapulco\n",
      "http://api.openweathermap.org/data/2.5/weather?units=metric&APPID=767db115d62ad68acd7e1d7444eef403&q=krasnoarmeysk\n",
      "processing krasnoarmeysk\n",
      "http://api.openweathermap.org/data/2.5/weather?units=metric&APPID=767db115d62ad68acd7e1d7444eef403&q=rocha\n",
      "processing rocha\n",
      "http://api.openweathermap.org/data/2.5/weather?units=metric&APPID=767db115d62ad68acd7e1d7444eef403&q=castro\n",
      "processing castro\n",
      "http://api.openweathermap.org/data/2.5/weather?units=metric&APPID=767db115d62ad68acd7e1d7444eef403&q=kuytun\n",
      "processing kuytun\n",
      "http://api.openweathermap.org/data/2.5/weather?units=metric&APPID=767db115d62ad68acd7e1d7444eef403&q=bluff\n",
      "processing bluff\n",
      "http://api.openweathermap.org/data/2.5/weather?units=metric&APPID=767db115d62ad68acd7e1d7444eef403&q=ornskoldsvik\n",
      "processing ornskoldsvik\n",
      "http://api.openweathermap.org/data/2.5/weather?units=metric&APPID=767db115d62ad68acd7e1d7444eef403&q=mar del plata\n",
      "processing mar del plata\n",
      "http://api.openweathermap.org/data/2.5/weather?units=metric&APPID=767db115d62ad68acd7e1d7444eef403&q=yunjinghong\n",
      "processing yunjinghong\n",
      "City not found.\n",
      "http://api.openweathermap.org/data/2.5/weather?units=metric&APPID=767db115d62ad68acd7e1d7444eef403&q=otane\n",
      "processing otane\n",
      "http://api.openweathermap.org/data/2.5/weather?units=metric&APPID=767db115d62ad68acd7e1d7444eef403&q=tawkar\n",
      "processing tawkar\n",
      "City not found.\n",
      "http://api.openweathermap.org/data/2.5/weather?units=metric&APPID=767db115d62ad68acd7e1d7444eef403&q=ayios matthaios\n",
      "processing ayios matthaios\n",
      "City not found.\n",
      "http://api.openweathermap.org/data/2.5/weather?units=metric&APPID=767db115d62ad68acd7e1d7444eef403&q=tual\n",
      "processing tual\n",
      "http://api.openweathermap.org/data/2.5/weather?units=metric&APPID=767db115d62ad68acd7e1d7444eef403&q=sioux lookout\n",
      "processing sioux lookout\n",
      "http://api.openweathermap.org/data/2.5/weather?units=metric&APPID=767db115d62ad68acd7e1d7444eef403&q=srednekolymsk\n",
      "processing srednekolymsk\n",
      "http://api.openweathermap.org/data/2.5/weather?units=metric&APPID=767db115d62ad68acd7e1d7444eef403&q=presidente epitacio\n",
      "processing presidente epitacio\n",
      "http://api.openweathermap.org/data/2.5/weather?units=metric&APPID=767db115d62ad68acd7e1d7444eef403&q=hami\n",
      "processing hami\n",
      "http://api.openweathermap.org/data/2.5/weather?units=metric&APPID=767db115d62ad68acd7e1d7444eef403&q=saint george\n",
      "processing saint george\n",
      "http://api.openweathermap.org/data/2.5/weather?units=metric&APPID=767db115d62ad68acd7e1d7444eef403&q=cayenne\n",
      "processing cayenne\n",
      "http://api.openweathermap.org/data/2.5/weather?units=metric&APPID=767db115d62ad68acd7e1d7444eef403&q=geraldton\n",
      "processing geraldton\n",
      "http://api.openweathermap.org/data/2.5/weather?units=metric&APPID=767db115d62ad68acd7e1d7444eef403&q=esperance\n",
      "processing esperance\n",
      "http://api.openweathermap.org/data/2.5/weather?units=metric&APPID=767db115d62ad68acd7e1d7444eef403&q=aswan\n",
      "processing aswan\n",
      "http://api.openweathermap.org/data/2.5/weather?units=metric&APPID=767db115d62ad68acd7e1d7444eef403&q=barrow\n",
      "processing barrow\n",
      "http://api.openweathermap.org/data/2.5/weather?units=metric&APPID=767db115d62ad68acd7e1d7444eef403&q=butaritari\n",
      "processing butaritari\n",
      "http://api.openweathermap.org/data/2.5/weather?units=metric&APPID=767db115d62ad68acd7e1d7444eef403&q=ladispoli\n",
      "processing ladispoli\n",
      "http://api.openweathermap.org/data/2.5/weather?units=metric&APPID=767db115d62ad68acd7e1d7444eef403&q=kruisfontein\n",
      "processing kruisfontein\n",
      "http://api.openweathermap.org/data/2.5/weather?units=metric&APPID=767db115d62ad68acd7e1d7444eef403&q=siwana\n",
      "processing siwana\n",
      "http://api.openweathermap.org/data/2.5/weather?units=metric&APPID=767db115d62ad68acd7e1d7444eef403&q=upernavik\n"
     ]
    },
    {
     "name": "stdout",
     "output_type": "stream",
     "text": [
      "processing upernavik\n",
      "http://api.openweathermap.org/data/2.5/weather?units=metric&APPID=767db115d62ad68acd7e1d7444eef403&q=safaga\n",
      "processing safaga\n",
      "http://api.openweathermap.org/data/2.5/weather?units=metric&APPID=767db115d62ad68acd7e1d7444eef403&q=jalu\n",
      "processing jalu\n",
      "http://api.openweathermap.org/data/2.5/weather?units=metric&APPID=767db115d62ad68acd7e1d7444eef403&q=eydhafushi\n",
      "processing eydhafushi\n",
      "http://api.openweathermap.org/data/2.5/weather?units=metric&APPID=767db115d62ad68acd7e1d7444eef403&q=gizo\n",
      "processing gizo\n",
      "http://api.openweathermap.org/data/2.5/weather?units=metric&APPID=767db115d62ad68acd7e1d7444eef403&q=ambon\n",
      "processing ambon\n",
      "http://api.openweathermap.org/data/2.5/weather?units=metric&APPID=767db115d62ad68acd7e1d7444eef403&q=vostok\n",
      "processing vostok\n",
      "http://api.openweathermap.org/data/2.5/weather?units=metric&APPID=767db115d62ad68acd7e1d7444eef403&q=yerbogachen\n",
      "processing yerbogachen\n",
      "http://api.openweathermap.org/data/2.5/weather?units=metric&APPID=767db115d62ad68acd7e1d7444eef403&q=springfield\n",
      "processing springfield\n",
      "http://api.openweathermap.org/data/2.5/weather?units=metric&APPID=767db115d62ad68acd7e1d7444eef403&q=laurel\n",
      "processing laurel\n",
      "http://api.openweathermap.org/data/2.5/weather?units=metric&APPID=767db115d62ad68acd7e1d7444eef403&q=san quintin\n",
      "processing san quintin\n",
      "http://api.openweathermap.org/data/2.5/weather?units=metric&APPID=767db115d62ad68acd7e1d7444eef403&q=thompson\n",
      "processing thompson\n",
      "http://api.openweathermap.org/data/2.5/weather?units=metric&APPID=767db115d62ad68acd7e1d7444eef403&q=batemans bay\n",
      "processing batemans bay\n",
      "http://api.openweathermap.org/data/2.5/weather?units=metric&APPID=767db115d62ad68acd7e1d7444eef403&q=miri\n",
      "processing miri\n",
      "http://api.openweathermap.org/data/2.5/weather?units=metric&APPID=767db115d62ad68acd7e1d7444eef403&q=victor harbor\n",
      "processing victor harbor\n",
      "http://api.openweathermap.org/data/2.5/weather?units=metric&APPID=767db115d62ad68acd7e1d7444eef403&q=vwawa\n",
      "processing vwawa\n",
      "http://api.openweathermap.org/data/2.5/weather?units=metric&APPID=767db115d62ad68acd7e1d7444eef403&q=faya\n",
      "processing faya\n",
      "http://api.openweathermap.org/data/2.5/weather?units=metric&APPID=767db115d62ad68acd7e1d7444eef403&q=codrington\n",
      "processing codrington\n",
      "http://api.openweathermap.org/data/2.5/weather?units=metric&APPID=767db115d62ad68acd7e1d7444eef403&q=illoqqortoormiut\n",
      "processing illoqqortoormiut\n",
      "City not found.\n",
      "http://api.openweathermap.org/data/2.5/weather?units=metric&APPID=767db115d62ad68acd7e1d7444eef403&q=marcona\n",
      "processing marcona\n",
      "City not found.\n",
      "http://api.openweathermap.org/data/2.5/weather?units=metric&APPID=767db115d62ad68acd7e1d7444eef403&q=inirida\n",
      "processing inirida\n",
      "http://api.openweathermap.org/data/2.5/weather?units=metric&APPID=767db115d62ad68acd7e1d7444eef403&q=humberto de campos\n",
      "processing humberto de campos\n",
      "http://api.openweathermap.org/data/2.5/weather?units=metric&APPID=767db115d62ad68acd7e1d7444eef403&q=santa cruz\n",
      "processing santa cruz\n",
      "http://api.openweathermap.org/data/2.5/weather?units=metric&APPID=767db115d62ad68acd7e1d7444eef403&q=plouzane\n",
      "processing plouzane\n",
      "http://api.openweathermap.org/data/2.5/weather?units=metric&APPID=767db115d62ad68acd7e1d7444eef403&q=loningen\n",
      "processing loningen\n",
      "http://api.openweathermap.org/data/2.5/weather?units=metric&APPID=767db115d62ad68acd7e1d7444eef403&q=megion\n",
      "processing megion\n",
      "http://api.openweathermap.org/data/2.5/weather?units=metric&APPID=767db115d62ad68acd7e1d7444eef403&q=oriximina\n",
      "processing oriximina\n",
      "http://api.openweathermap.org/data/2.5/weather?units=metric&APPID=767db115d62ad68acd7e1d7444eef403&q=mount gambier\n",
      "processing mount gambier\n",
      "http://api.openweathermap.org/data/2.5/weather?units=metric&APPID=767db115d62ad68acd7e1d7444eef403&q=auki\n",
      "processing auki\n",
      "http://api.openweathermap.org/data/2.5/weather?units=metric&APPID=767db115d62ad68acd7e1d7444eef403&q=faanui\n",
      "processing faanui\n",
      "http://api.openweathermap.org/data/2.5/weather?units=metric&APPID=767db115d62ad68acd7e1d7444eef403&q=kibondo\n",
      "processing kibondo\n",
      "http://api.openweathermap.org/data/2.5/weather?units=metric&APPID=767db115d62ad68acd7e1d7444eef403&q=iranshahr\n",
      "processing iranshahr\n",
      "http://api.openweathermap.org/data/2.5/weather?units=metric&APPID=767db115d62ad68acd7e1d7444eef403&q=sentyabrskiy\n",
      "processing sentyabrskiy\n",
      "City not found.\n",
      "http://api.openweathermap.org/data/2.5/weather?units=metric&APPID=767db115d62ad68acd7e1d7444eef403&q=kadykchan\n",
      "processing kadykchan\n",
      "City not found.\n",
      "http://api.openweathermap.org/data/2.5/weather?units=metric&APPID=767db115d62ad68acd7e1d7444eef403&q=belaya\n",
      "processing belaya\n",
      "http://api.openweathermap.org/data/2.5/weather?units=metric&APPID=767db115d62ad68acd7e1d7444eef403&q=manzhouli\n",
      "processing manzhouli\n",
      "http://api.openweathermap.org/data/2.5/weather?units=metric&APPID=767db115d62ad68acd7e1d7444eef403&q=kurakh\n",
      "processing kurakh\n",
      "http://api.openweathermap.org/data/2.5/weather?units=metric&APPID=767db115d62ad68acd7e1d7444eef403&q=matara\n",
      "processing matara\n",
      "http://api.openweathermap.org/data/2.5/weather?units=metric&APPID=767db115d62ad68acd7e1d7444eef403&q=doische\n",
      "processing doische\n",
      "http://api.openweathermap.org/data/2.5/weather?units=metric&APPID=767db115d62ad68acd7e1d7444eef403&q=yulara\n",
      "processing yulara\n",
      "http://api.openweathermap.org/data/2.5/weather?units=metric&APPID=767db115d62ad68acd7e1d7444eef403&q=severo-kurilsk\n",
      "processing severo-kurilsk\n",
      "http://api.openweathermap.org/data/2.5/weather?units=metric&APPID=767db115d62ad68acd7e1d7444eef403&q=rajshahi\n",
      "processing rajshahi\n",
      "http://api.openweathermap.org/data/2.5/weather?units=metric&APPID=767db115d62ad68acd7e1d7444eef403&q=kintinku\n",
      "processing kintinku\n",
      "http://api.openweathermap.org/data/2.5/weather?units=metric&APPID=767db115d62ad68acd7e1d7444eef403&q=hay river\n",
      "processing hay river\n",
      "http://api.openweathermap.org/data/2.5/weather?units=metric&APPID=767db115d62ad68acd7e1d7444eef403&q=nikolskoye\n",
      "processing nikolskoye\n",
      "http://api.openweathermap.org/data/2.5/weather?units=metric&APPID=767db115d62ad68acd7e1d7444eef403&q=igrim\n",
      "processing igrim\n",
      "http://api.openweathermap.org/data/2.5/weather?units=metric&APPID=767db115d62ad68acd7e1d7444eef403&q=ryotsu\n",
      "processing ryotsu\n",
      "http://api.openweathermap.org/data/2.5/weather?units=metric&APPID=767db115d62ad68acd7e1d7444eef403&q=coahuayana\n",
      "processing coahuayana\n",
      "http://api.openweathermap.org/data/2.5/weather?units=metric&APPID=767db115d62ad68acd7e1d7444eef403&q=marawi\n",
      "processing marawi\n",
      "http://api.openweathermap.org/data/2.5/weather?units=metric&APPID=767db115d62ad68acd7e1d7444eef403&q=talnakh\n",
      "processing talnakh\n",
      "http://api.openweathermap.org/data/2.5/weather?units=metric&APPID=767db115d62ad68acd7e1d7444eef403&q=kosya\n",
      "processing kosya\n",
      "City not found.\n",
      "http://api.openweathermap.org/data/2.5/weather?units=metric&APPID=767db115d62ad68acd7e1d7444eef403&q=quatre cocos\n",
      "processing quatre cocos\n",
      "http://api.openweathermap.org/data/2.5/weather?units=metric&APPID=767db115d62ad68acd7e1d7444eef403&q=saldanha\n",
      "processing saldanha\n",
      "http://api.openweathermap.org/data/2.5/weather?units=metric&APPID=767db115d62ad68acd7e1d7444eef403&q=nizhneyansk\n",
      "processing nizhneyansk\n",
      "City not found.\n",
      "http://api.openweathermap.org/data/2.5/weather?units=metric&APPID=767db115d62ad68acd7e1d7444eef403&q=tiznit\n",
      "processing tiznit\n",
      "http://api.openweathermap.org/data/2.5/weather?units=metric&APPID=767db115d62ad68acd7e1d7444eef403&q=qaanaaq\n",
      "processing qaanaaq\n",
      "http://api.openweathermap.org/data/2.5/weather?units=metric&APPID=767db115d62ad68acd7e1d7444eef403&q=yiyang\n",
      "processing yiyang\n",
      "http://api.openweathermap.org/data/2.5/weather?units=metric&APPID=767db115d62ad68acd7e1d7444eef403&q=zwedru\n",
      "processing zwedru\n",
      "http://api.openweathermap.org/data/2.5/weather?units=metric&APPID=767db115d62ad68acd7e1d7444eef403&q=yar-sale\n",
      "processing yar-sale\n",
      "http://api.openweathermap.org/data/2.5/weather?units=metric&APPID=767db115d62ad68acd7e1d7444eef403&q=hobyo\n",
      "processing hobyo\n",
      "http://api.openweathermap.org/data/2.5/weather?units=metric&APPID=767db115d62ad68acd7e1d7444eef403&q=berlevag\n",
      "processing berlevag\n",
      "http://api.openweathermap.org/data/2.5/weather?units=metric&APPID=767db115d62ad68acd7e1d7444eef403&q=nanortalik\n",
      "processing nanortalik\n",
      "http://api.openweathermap.org/data/2.5/weather?units=metric&APPID=767db115d62ad68acd7e1d7444eef403&q=williston\n",
      "processing williston\n",
      "http://api.openweathermap.org/data/2.5/weather?units=metric&APPID=767db115d62ad68acd7e1d7444eef403&q=clyde river\n"
     ]
    },
    {
     "name": "stdout",
     "output_type": "stream",
     "text": [
      "processing clyde river\n",
      "http://api.openweathermap.org/data/2.5/weather?units=metric&APPID=767db115d62ad68acd7e1d7444eef403&q=beloha\n",
      "processing beloha\n",
      "http://api.openweathermap.org/data/2.5/weather?units=metric&APPID=767db115d62ad68acd7e1d7444eef403&q=avarua\n",
      "processing avarua\n",
      "http://api.openweathermap.org/data/2.5/weather?units=metric&APPID=767db115d62ad68acd7e1d7444eef403&q=moscow\n",
      "processing moscow\n",
      "http://api.openweathermap.org/data/2.5/weather?units=metric&APPID=767db115d62ad68acd7e1d7444eef403&q=lagoa\n",
      "processing lagoa\n",
      "http://api.openweathermap.org/data/2.5/weather?units=metric&APPID=767db115d62ad68acd7e1d7444eef403&q=salalah\n",
      "processing salalah\n",
      "http://api.openweathermap.org/data/2.5/weather?units=metric&APPID=767db115d62ad68acd7e1d7444eef403&q=port augusta\n",
      "processing port augusta\n",
      "http://api.openweathermap.org/data/2.5/weather?units=metric&APPID=767db115d62ad68acd7e1d7444eef403&q=buala\n",
      "processing buala\n",
      "http://api.openweathermap.org/data/2.5/weather?units=metric&APPID=767db115d62ad68acd7e1d7444eef403&q=rawah\n",
      "processing rawah\n",
      "http://api.openweathermap.org/data/2.5/weather?units=metric&APPID=767db115d62ad68acd7e1d7444eef403&q=wewak\n",
      "processing wewak\n",
      "http://api.openweathermap.org/data/2.5/weather?units=metric&APPID=767db115d62ad68acd7e1d7444eef403&q=bukachacha\n",
      "processing bukachacha\n",
      "http://api.openweathermap.org/data/2.5/weather?units=metric&APPID=767db115d62ad68acd7e1d7444eef403&q=east london\n",
      "processing east london\n",
      "http://api.openweathermap.org/data/2.5/weather?units=metric&APPID=767db115d62ad68acd7e1d7444eef403&q=sechura\n",
      "processing sechura\n",
      "http://api.openweathermap.org/data/2.5/weather?units=metric&APPID=767db115d62ad68acd7e1d7444eef403&q=ribeira grande\n",
      "processing ribeira grande\n",
      "http://api.openweathermap.org/data/2.5/weather?units=metric&APPID=767db115d62ad68acd7e1d7444eef403&q=trzebiatow\n",
      "processing trzebiatow\n",
      "http://api.openweathermap.org/data/2.5/weather?units=metric&APPID=767db115d62ad68acd7e1d7444eef403&q=neiafu\n",
      "processing neiafu\n",
      "http://api.openweathermap.org/data/2.5/weather?units=metric&APPID=767db115d62ad68acd7e1d7444eef403&q=pryazha\n",
      "processing pryazha\n",
      "http://api.openweathermap.org/data/2.5/weather?units=metric&APPID=767db115d62ad68acd7e1d7444eef403&q=georgetown\n",
      "processing georgetown\n",
      "http://api.openweathermap.org/data/2.5/weather?units=metric&APPID=767db115d62ad68acd7e1d7444eef403&q=hualmay\n",
      "processing hualmay\n",
      "http://api.openweathermap.org/data/2.5/weather?units=metric&APPID=767db115d62ad68acd7e1d7444eef403&q=birao\n",
      "processing birao\n",
      "http://api.openweathermap.org/data/2.5/weather?units=metric&APPID=767db115d62ad68acd7e1d7444eef403&q=araouane\n",
      "processing araouane\n",
      "http://api.openweathermap.org/data/2.5/weather?units=metric&APPID=767db115d62ad68acd7e1d7444eef403&q=longyearbyen\n",
      "processing longyearbyen\n",
      "http://api.openweathermap.org/data/2.5/weather?units=metric&APPID=767db115d62ad68acd7e1d7444eef403&q=parana\n",
      "processing parana\n",
      "http://api.openweathermap.org/data/2.5/weather?units=metric&APPID=767db115d62ad68acd7e1d7444eef403&q=vezirkopru\n",
      "processing vezirkopru\n",
      "http://api.openweathermap.org/data/2.5/weather?units=metric&APPID=767db115d62ad68acd7e1d7444eef403&q=ourossogui\n",
      "processing ourossogui\n",
      "http://api.openweathermap.org/data/2.5/weather?units=metric&APPID=767db115d62ad68acd7e1d7444eef403&q=azimur\n",
      "processing azimur\n",
      "City not found.\n",
      "http://api.openweathermap.org/data/2.5/weather?units=metric&APPID=767db115d62ad68acd7e1d7444eef403&q=los llanos de aridane\n",
      "processing los llanos de aridane\n",
      "http://api.openweathermap.org/data/2.5/weather?units=metric&APPID=767db115d62ad68acd7e1d7444eef403&q=saint-philippe\n",
      "processing saint-philippe\n",
      "http://api.openweathermap.org/data/2.5/weather?units=metric&APPID=767db115d62ad68acd7e1d7444eef403&q=utete\n",
      "processing utete\n",
      "http://api.openweathermap.org/data/2.5/weather?units=metric&APPID=767db115d62ad68acd7e1d7444eef403&q=vanimo\n",
      "processing vanimo\n",
      "http://api.openweathermap.org/data/2.5/weather?units=metric&APPID=767db115d62ad68acd7e1d7444eef403&q=biak\n",
      "processing biak\n",
      "http://api.openweathermap.org/data/2.5/weather?units=metric&APPID=767db115d62ad68acd7e1d7444eef403&q=arlit\n",
      "processing arlit\n",
      "http://api.openweathermap.org/data/2.5/weather?units=metric&APPID=767db115d62ad68acd7e1d7444eef403&q=drabiv\n",
      "processing drabiv\n",
      "http://api.openweathermap.org/data/2.5/weather?units=metric&APPID=767db115d62ad68acd7e1d7444eef403&q=mabaruma\n",
      "processing mabaruma\n",
      "http://api.openweathermap.org/data/2.5/weather?units=metric&APPID=767db115d62ad68acd7e1d7444eef403&q=saint-pierre\n",
      "processing saint-pierre\n",
      "http://api.openweathermap.org/data/2.5/weather?units=metric&APPID=767db115d62ad68acd7e1d7444eef403&q=kuche\n",
      "processing kuche\n",
      "City not found.\n",
      "http://api.openweathermap.org/data/2.5/weather?units=metric&APPID=767db115d62ad68acd7e1d7444eef403&q=preobrazheniye\n",
      "processing preobrazheniye\n",
      "http://api.openweathermap.org/data/2.5/weather?units=metric&APPID=767db115d62ad68acd7e1d7444eef403&q=ahuimanu\n",
      "processing ahuimanu\n",
      "http://api.openweathermap.org/data/2.5/weather?units=metric&APPID=767db115d62ad68acd7e1d7444eef403&q=taree\n",
      "processing taree\n",
      "http://api.openweathermap.org/data/2.5/weather?units=metric&APPID=767db115d62ad68acd7e1d7444eef403&q=cabo san lucas\n",
      "processing cabo san lucas\n",
      "http://api.openweathermap.org/data/2.5/weather?units=metric&APPID=767db115d62ad68acd7e1d7444eef403&q=henties bay\n",
      "processing henties bay\n",
      "http://api.openweathermap.org/data/2.5/weather?units=metric&APPID=767db115d62ad68acd7e1d7444eef403&q=antas\n",
      "processing antas\n",
      "http://api.openweathermap.org/data/2.5/weather?units=metric&APPID=767db115d62ad68acd7e1d7444eef403&q=bulungu\n",
      "processing bulungu\n",
      "http://api.openweathermap.org/data/2.5/weather?units=metric&APPID=767db115d62ad68acd7e1d7444eef403&q=goundam\n",
      "processing goundam\n",
      "http://api.openweathermap.org/data/2.5/weather?units=metric&APPID=767db115d62ad68acd7e1d7444eef403&q=barentsburg\n",
      "processing barentsburg\n",
      "City not found.\n",
      "http://api.openweathermap.org/data/2.5/weather?units=metric&APPID=767db115d62ad68acd7e1d7444eef403&q=goderich\n",
      "processing goderich\n",
      "http://api.openweathermap.org/data/2.5/weather?units=metric&APPID=767db115d62ad68acd7e1d7444eef403&q=molteno\n",
      "processing molteno\n",
      "http://api.openweathermap.org/data/2.5/weather?units=metric&APPID=767db115d62ad68acd7e1d7444eef403&q=sinnamary\n",
      "processing sinnamary\n",
      "http://api.openweathermap.org/data/2.5/weather?units=metric&APPID=767db115d62ad68acd7e1d7444eef403&q=isangel\n",
      "processing isangel\n",
      "http://api.openweathermap.org/data/2.5/weather?units=metric&APPID=767db115d62ad68acd7e1d7444eef403&q=caravelas\n",
      "processing caravelas\n",
      "http://api.openweathermap.org/data/2.5/weather?units=metric&APPID=767db115d62ad68acd7e1d7444eef403&q=abbeville\n",
      "processing abbeville\n",
      "http://api.openweathermap.org/data/2.5/weather?units=metric&APPID=767db115d62ad68acd7e1d7444eef403&q=naze\n",
      "processing naze\n",
      "http://api.openweathermap.org/data/2.5/weather?units=metric&APPID=767db115d62ad68acd7e1d7444eef403&q=kargasok\n",
      "processing kargasok\n",
      "http://api.openweathermap.org/data/2.5/weather?units=metric&APPID=767db115d62ad68acd7e1d7444eef403&q=sapele\n",
      "processing sapele\n",
      "http://api.openweathermap.org/data/2.5/weather?units=metric&APPID=767db115d62ad68acd7e1d7444eef403&q=makung\n",
      "processing makung\n",
      "City not found.\n",
      "http://api.openweathermap.org/data/2.5/weather?units=metric&APPID=767db115d62ad68acd7e1d7444eef403&q=neryungri\n",
      "processing neryungri\n",
      "http://api.openweathermap.org/data/2.5/weather?units=metric&APPID=767db115d62ad68acd7e1d7444eef403&q=alta floresta\n",
      "processing alta floresta\n",
      "http://api.openweathermap.org/data/2.5/weather?units=metric&APPID=767db115d62ad68acd7e1d7444eef403&q=maldonado\n",
      "processing maldonado\n",
      "http://api.openweathermap.org/data/2.5/weather?units=metric&APPID=767db115d62ad68acd7e1d7444eef403&q=sao joao da barra\n",
      "processing sao joao da barra\n",
      "http://api.openweathermap.org/data/2.5/weather?units=metric&APPID=767db115d62ad68acd7e1d7444eef403&q=vestmannaeyjar\n",
      "processing vestmannaeyjar\n",
      "http://api.openweathermap.org/data/2.5/weather?units=metric&APPID=767db115d62ad68acd7e1d7444eef403&q=victoria\n",
      "processing victoria\n",
      "http://api.openweathermap.org/data/2.5/weather?units=metric&APPID=767db115d62ad68acd7e1d7444eef403&q=beverley\n",
      "processing beverley\n",
      "http://api.openweathermap.org/data/2.5/weather?units=metric&APPID=767db115d62ad68acd7e1d7444eef403&q=qui nhon\n",
      "processing qui nhon\n",
      "http://api.openweathermap.org/data/2.5/weather?units=metric&APPID=767db115d62ad68acd7e1d7444eef403&q=oiso\n"
     ]
    },
    {
     "name": "stdout",
     "output_type": "stream",
     "text": [
      "processing oiso\n",
      "http://api.openweathermap.org/data/2.5/weather?units=metric&APPID=767db115d62ad68acd7e1d7444eef403&q=kropotkin\n",
      "processing kropotkin\n",
      "http://api.openweathermap.org/data/2.5/weather?units=metric&APPID=767db115d62ad68acd7e1d7444eef403&q=yining\n",
      "processing yining\n",
      "http://api.openweathermap.org/data/2.5/weather?units=metric&APPID=767db115d62ad68acd7e1d7444eef403&q=tura\n",
      "processing tura\n",
      "http://api.openweathermap.org/data/2.5/weather?units=metric&APPID=767db115d62ad68acd7e1d7444eef403&q=santa fe\n",
      "processing santa fe\n",
      "http://api.openweathermap.org/data/2.5/weather?units=metric&APPID=767db115d62ad68acd7e1d7444eef403&q=tsihombe\n",
      "processing tsihombe\n",
      "City not found.\n",
      "http://api.openweathermap.org/data/2.5/weather?units=metric&APPID=767db115d62ad68acd7e1d7444eef403&q=saleaula\n",
      "processing saleaula\n",
      "City not found.\n",
      "http://api.openweathermap.org/data/2.5/weather?units=metric&APPID=767db115d62ad68acd7e1d7444eef403&q=salta\n",
      "processing salta\n",
      "http://api.openweathermap.org/data/2.5/weather?units=metric&APPID=767db115d62ad68acd7e1d7444eef403&q=pangnirtung\n",
      "processing pangnirtung\n",
      "http://api.openweathermap.org/data/2.5/weather?units=metric&APPID=767db115d62ad68acd7e1d7444eef403&q=mountain home\n",
      "processing mountain home\n",
      "http://api.openweathermap.org/data/2.5/weather?units=metric&APPID=767db115d62ad68acd7e1d7444eef403&q=port blair\n",
      "processing port blair\n",
      "http://api.openweathermap.org/data/2.5/weather?units=metric&APPID=767db115d62ad68acd7e1d7444eef403&q=port hedland\n",
      "processing port hedland\n",
      "http://api.openweathermap.org/data/2.5/weather?units=metric&APPID=767db115d62ad68acd7e1d7444eef403&q=south valley\n",
      "processing south valley\n",
      "http://api.openweathermap.org/data/2.5/weather?units=metric&APPID=767db115d62ad68acd7e1d7444eef403&q=tuatapere\n",
      "processing tuatapere\n",
      "http://api.openweathermap.org/data/2.5/weather?units=metric&APPID=767db115d62ad68acd7e1d7444eef403&q=oxbow\n",
      "processing oxbow\n",
      "http://api.openweathermap.org/data/2.5/weather?units=metric&APPID=767db115d62ad68acd7e1d7444eef403&q=bambous virieux\n",
      "processing bambous virieux\n",
      "http://api.openweathermap.org/data/2.5/weather?units=metric&APPID=767db115d62ad68acd7e1d7444eef403&q=norman wells\n",
      "processing norman wells\n",
      "http://api.openweathermap.org/data/2.5/weather?units=metric&APPID=767db115d62ad68acd7e1d7444eef403&q=richards bay\n",
      "processing richards bay\n",
      "http://api.openweathermap.org/data/2.5/weather?units=metric&APPID=767db115d62ad68acd7e1d7444eef403&q=ulladulla\n",
      "processing ulladulla\n",
      "http://api.openweathermap.org/data/2.5/weather?units=metric&APPID=767db115d62ad68acd7e1d7444eef403&q=omboue\n",
      "processing omboue\n",
      "http://api.openweathermap.org/data/2.5/weather?units=metric&APPID=767db115d62ad68acd7e1d7444eef403&q=emba\n",
      "processing emba\n",
      "http://api.openweathermap.org/data/2.5/weather?units=metric&APPID=767db115d62ad68acd7e1d7444eef403&q=pimentel\n",
      "processing pimentel\n",
      "http://api.openweathermap.org/data/2.5/weather?units=metric&APPID=767db115d62ad68acd7e1d7444eef403&q=hvammstangi\n",
      "processing hvammstangi\n",
      "City not found.\n",
      "http://api.openweathermap.org/data/2.5/weather?units=metric&APPID=767db115d62ad68acd7e1d7444eef403&q=jumla\n",
      "processing jumla\n",
      "http://api.openweathermap.org/data/2.5/weather?units=metric&APPID=767db115d62ad68acd7e1d7444eef403&q=hebi\n",
      "processing hebi\n",
      "http://api.openweathermap.org/data/2.5/weather?units=metric&APPID=767db115d62ad68acd7e1d7444eef403&q=xghajra\n",
      "processing xghajra\n",
      "City not found.\n",
      "http://api.openweathermap.org/data/2.5/weather?units=metric&APPID=767db115d62ad68acd7e1d7444eef403&q=amderma\n",
      "processing amderma\n",
      "City not found.\n",
      "http://api.openweathermap.org/data/2.5/weather?units=metric&APPID=767db115d62ad68acd7e1d7444eef403&q=san jeronimo\n",
      "processing san jeronimo\n",
      "http://api.openweathermap.org/data/2.5/weather?units=metric&APPID=767db115d62ad68acd7e1d7444eef403&q=sale\n",
      "processing sale\n",
      "http://api.openweathermap.org/data/2.5/weather?units=metric&APPID=767db115d62ad68acd7e1d7444eef403&q=tuktoyaktuk\n",
      "processing tuktoyaktuk\n",
      "http://api.openweathermap.org/data/2.5/weather?units=metric&APPID=767db115d62ad68acd7e1d7444eef403&q=kijang\n",
      "processing kijang\n",
      "http://api.openweathermap.org/data/2.5/weather?units=metric&APPID=767db115d62ad68acd7e1d7444eef403&q=rio brilhante\n",
      "processing rio brilhante\n",
      "http://api.openweathermap.org/data/2.5/weather?units=metric&APPID=767db115d62ad68acd7e1d7444eef403&q=nanakuli\n",
      "processing nanakuli\n",
      "http://api.openweathermap.org/data/2.5/weather?units=metric&APPID=767db115d62ad68acd7e1d7444eef403&q=vilhena\n",
      "processing vilhena\n",
      "http://api.openweathermap.org/data/2.5/weather?units=metric&APPID=767db115d62ad68acd7e1d7444eef403&q=constitucion\n",
      "processing constitucion\n",
      "http://api.openweathermap.org/data/2.5/weather?units=metric&APPID=767db115d62ad68acd7e1d7444eef403&q=provideniya\n",
      "processing provideniya\n",
      "http://api.openweathermap.org/data/2.5/weather?units=metric&APPID=767db115d62ad68acd7e1d7444eef403&q=pacific grove\n",
      "processing pacific grove\n",
      "http://api.openweathermap.org/data/2.5/weather?units=metric&APPID=767db115d62ad68acd7e1d7444eef403&q=lavrentiya\n",
      "processing lavrentiya\n",
      "http://api.openweathermap.org/data/2.5/weather?units=metric&APPID=767db115d62ad68acd7e1d7444eef403&q=kununurra\n",
      "processing kununurra\n",
      "http://api.openweathermap.org/data/2.5/weather?units=metric&APPID=767db115d62ad68acd7e1d7444eef403&q=udachnyy\n",
      "processing udachnyy\n",
      "http://api.openweathermap.org/data/2.5/weather?units=metric&APPID=767db115d62ad68acd7e1d7444eef403&q=tevaitoa\n",
      "processing tevaitoa\n",
      "http://api.openweathermap.org/data/2.5/weather?units=metric&APPID=767db115d62ad68acd7e1d7444eef403&q=imbituba\n",
      "processing imbituba\n",
      "http://api.openweathermap.org/data/2.5/weather?units=metric&APPID=767db115d62ad68acd7e1d7444eef403&q=bilma\n",
      "processing bilma\n",
      "http://api.openweathermap.org/data/2.5/weather?units=metric&APPID=767db115d62ad68acd7e1d7444eef403&q=faridan\n",
      "processing faridan\n",
      "City not found.\n",
      "http://api.openweathermap.org/data/2.5/weather?units=metric&APPID=767db115d62ad68acd7e1d7444eef403&q=fairbanks\n",
      "processing fairbanks\n",
      "http://api.openweathermap.org/data/2.5/weather?units=metric&APPID=767db115d62ad68acd7e1d7444eef403&q=nalut\n",
      "processing nalut\n",
      "http://api.openweathermap.org/data/2.5/weather?units=metric&APPID=767db115d62ad68acd7e1d7444eef403&q=luderitz\n",
      "processing luderitz\n",
      "http://api.openweathermap.org/data/2.5/weather?units=metric&APPID=767db115d62ad68acd7e1d7444eef403&q=samarai\n",
      "processing samarai\n",
      "http://api.openweathermap.org/data/2.5/weather?units=metric&APPID=767db115d62ad68acd7e1d7444eef403&q=lompoc\n",
      "processing lompoc\n",
      "http://api.openweathermap.org/data/2.5/weather?units=metric&APPID=767db115d62ad68acd7e1d7444eef403&q=bone\n",
      "processing bone\n",
      "http://api.openweathermap.org/data/2.5/weather?units=metric&APPID=767db115d62ad68acd7e1d7444eef403&q=auburn\n",
      "processing auburn\n",
      "http://api.openweathermap.org/data/2.5/weather?units=metric&APPID=767db115d62ad68acd7e1d7444eef403&q=waingapu\n",
      "processing waingapu\n",
      "http://api.openweathermap.org/data/2.5/weather?units=metric&APPID=767db115d62ad68acd7e1d7444eef403&q=san patricio\n",
      "processing san patricio\n",
      "http://api.openweathermap.org/data/2.5/weather?units=metric&APPID=767db115d62ad68acd7e1d7444eef403&q=acajutla\n",
      "processing acajutla\n",
      "http://api.openweathermap.org/data/2.5/weather?units=metric&APPID=767db115d62ad68acd7e1d7444eef403&q=bafq\n",
      "processing bafq\n",
      "http://api.openweathermap.org/data/2.5/weather?units=metric&APPID=767db115d62ad68acd7e1d7444eef403&q=tromso\n",
      "processing tromso\n",
      "http://api.openweathermap.org/data/2.5/weather?units=metric&APPID=767db115d62ad68acd7e1d7444eef403&q=pangody\n",
      "processing pangody\n",
      "http://api.openweathermap.org/data/2.5/weather?units=metric&APPID=767db115d62ad68acd7e1d7444eef403&q=kerman\n",
      "processing kerman\n",
      "http://api.openweathermap.org/data/2.5/weather?units=metric&APPID=767db115d62ad68acd7e1d7444eef403&q=sabha\n",
      "processing sabha\n",
      "http://api.openweathermap.org/data/2.5/weather?units=metric&APPID=767db115d62ad68acd7e1d7444eef403&q=fortuna\n",
      "processing fortuna\n",
      "http://api.openweathermap.org/data/2.5/weather?units=metric&APPID=767db115d62ad68acd7e1d7444eef403&q=almaznyy\n",
      "processing almaznyy\n",
      "http://api.openweathermap.org/data/2.5/weather?units=metric&APPID=767db115d62ad68acd7e1d7444eef403&q=kupang\n",
      "processing kupang\n",
      "http://api.openweathermap.org/data/2.5/weather?units=metric&APPID=767db115d62ad68acd7e1d7444eef403&q=repatriacion\n",
      "processing repatriacion\n",
      "http://api.openweathermap.org/data/2.5/weather?units=metric&APPID=767db115d62ad68acd7e1d7444eef403&q=baykit\n"
     ]
    },
    {
     "name": "stdout",
     "output_type": "stream",
     "text": [
      "processing baykit\n",
      "http://api.openweathermap.org/data/2.5/weather?units=metric&APPID=767db115d62ad68acd7e1d7444eef403&q=banda aceh\n",
      "processing banda aceh\n",
      "http://api.openweathermap.org/data/2.5/weather?units=metric&APPID=767db115d62ad68acd7e1d7444eef403&q=odweyne\n",
      "processing odweyne\n",
      "http://api.openweathermap.org/data/2.5/weather?units=metric&APPID=767db115d62ad68acd7e1d7444eef403&q=bengkulu\n",
      "processing bengkulu\n",
      "http://api.openweathermap.org/data/2.5/weather?units=metric&APPID=767db115d62ad68acd7e1d7444eef403&q=aqtobe\n",
      "processing aqtobe\n",
      "http://api.openweathermap.org/data/2.5/weather?units=metric&APPID=767db115d62ad68acd7e1d7444eef403&q=moerai\n",
      "processing moerai\n",
      "http://api.openweathermap.org/data/2.5/weather?units=metric&APPID=767db115d62ad68acd7e1d7444eef403&q=talas\n",
      "processing talas\n",
      "http://api.openweathermap.org/data/2.5/weather?units=metric&APPID=767db115d62ad68acd7e1d7444eef403&q=stoyba\n",
      "processing stoyba\n",
      "City not found.\n",
      "http://api.openweathermap.org/data/2.5/weather?units=metric&APPID=767db115d62ad68acd7e1d7444eef403&q=meshchovsk\n",
      "processing meshchovsk\n",
      "http://api.openweathermap.org/data/2.5/weather?units=metric&APPID=767db115d62ad68acd7e1d7444eef403&q=palmer\n",
      "processing palmer\n",
      "http://api.openweathermap.org/data/2.5/weather?units=metric&APPID=767db115d62ad68acd7e1d7444eef403&q=yuzhno-kurilsk\n",
      "processing yuzhno-kurilsk\n",
      "http://api.openweathermap.org/data/2.5/weather?units=metric&APPID=767db115d62ad68acd7e1d7444eef403&q=borovskoy\n",
      "processing borovskoy\n",
      "http://api.openweathermap.org/data/2.5/weather?units=metric&APPID=767db115d62ad68acd7e1d7444eef403&q=qingdao\n",
      "processing qingdao\n",
      "http://api.openweathermap.org/data/2.5/weather?units=metric&APPID=767db115d62ad68acd7e1d7444eef403&q=iqaluit\n",
      "processing iqaluit\n",
      "http://api.openweathermap.org/data/2.5/weather?units=metric&APPID=767db115d62ad68acd7e1d7444eef403&q=ulaanbaatar\n",
      "processing ulaanbaatar\n",
      "http://api.openweathermap.org/data/2.5/weather?units=metric&APPID=767db115d62ad68acd7e1d7444eef403&q=lebowakgomo\n",
      "processing lebowakgomo\n",
      "http://api.openweathermap.org/data/2.5/weather?units=metric&APPID=767db115d62ad68acd7e1d7444eef403&q=itarema\n",
      "processing itarema\n",
      "http://api.openweathermap.org/data/2.5/weather?units=metric&APPID=767db115d62ad68acd7e1d7444eef403&q=madang\n",
      "processing madang\n",
      "http://api.openweathermap.org/data/2.5/weather?units=metric&APPID=767db115d62ad68acd7e1d7444eef403&q=sept-iles\n",
      "processing sept-iles\n",
      "http://api.openweathermap.org/data/2.5/weather?units=metric&APPID=767db115d62ad68acd7e1d7444eef403&q=maua\n",
      "processing maua\n",
      "http://api.openweathermap.org/data/2.5/weather?units=metric&APPID=767db115d62ad68acd7e1d7444eef403&q=grafton\n",
      "processing grafton\n",
      "http://api.openweathermap.org/data/2.5/weather?units=metric&APPID=767db115d62ad68acd7e1d7444eef403&q=kolokani\n",
      "processing kolokani\n",
      "http://api.openweathermap.org/data/2.5/weather?units=metric&APPID=767db115d62ad68acd7e1d7444eef403&q=kaitangata\n",
      "processing kaitangata\n",
      "http://api.openweathermap.org/data/2.5/weather?units=metric&APPID=767db115d62ad68acd7e1d7444eef403&q=lunglei\n",
      "processing lunglei\n",
      "http://api.openweathermap.org/data/2.5/weather?units=metric&APPID=767db115d62ad68acd7e1d7444eef403&q=pathalgaon\n",
      "processing pathalgaon\n",
      "http://api.openweathermap.org/data/2.5/weather?units=metric&APPID=767db115d62ad68acd7e1d7444eef403&q=mirabad\n",
      "processing mirabad\n",
      "http://api.openweathermap.org/data/2.5/weather?units=metric&APPID=767db115d62ad68acd7e1d7444eef403&q=dudinka\n",
      "processing dudinka\n",
      "http://api.openweathermap.org/data/2.5/weather?units=metric&APPID=767db115d62ad68acd7e1d7444eef403&q=ilulissat\n",
      "processing ilulissat\n",
      "http://api.openweathermap.org/data/2.5/weather?units=metric&APPID=767db115d62ad68acd7e1d7444eef403&q=san andres\n",
      "processing san andres\n",
      "http://api.openweathermap.org/data/2.5/weather?units=metric&APPID=767db115d62ad68acd7e1d7444eef403&q=flinders\n",
      "processing flinders\n",
      "http://api.openweathermap.org/data/2.5/weather?units=metric&APPID=767db115d62ad68acd7e1d7444eef403&q=half moon bay\n",
      "processing half moon bay\n",
      "http://api.openweathermap.org/data/2.5/weather?units=metric&APPID=767db115d62ad68acd7e1d7444eef403&q=panzhihua\n",
      "processing panzhihua\n",
      "http://api.openweathermap.org/data/2.5/weather?units=metric&APPID=767db115d62ad68acd7e1d7444eef403&q=tautira\n",
      "processing tautira\n",
      "http://api.openweathermap.org/data/2.5/weather?units=metric&APPID=767db115d62ad68acd7e1d7444eef403&q=amot\n",
      "processing amot\n",
      "http://api.openweathermap.org/data/2.5/weather?units=metric&APPID=767db115d62ad68acd7e1d7444eef403&q=fallon\n",
      "processing fallon\n",
      "http://api.openweathermap.org/data/2.5/weather?units=metric&APPID=767db115d62ad68acd7e1d7444eef403&q=mangan\n",
      "processing mangan\n",
      "http://api.openweathermap.org/data/2.5/weather?units=metric&APPID=767db115d62ad68acd7e1d7444eef403&q=ternate\n",
      "processing ternate\n",
      "http://api.openweathermap.org/data/2.5/weather?units=metric&APPID=767db115d62ad68acd7e1d7444eef403&q=bathsheba\n",
      "processing bathsheba\n",
      "http://api.openweathermap.org/data/2.5/weather?units=metric&APPID=767db115d62ad68acd7e1d7444eef403&q=malmesbury\n",
      "processing malmesbury\n",
      "http://api.openweathermap.org/data/2.5/weather?units=metric&APPID=767db115d62ad68acd7e1d7444eef403&q=la macarena\n",
      "processing la macarena\n",
      "http://api.openweathermap.org/data/2.5/weather?units=metric&APPID=767db115d62ad68acd7e1d7444eef403&q=koungheul\n",
      "processing koungheul\n",
      "http://api.openweathermap.org/data/2.5/weather?units=metric&APPID=767db115d62ad68acd7e1d7444eef403&q=kardla\n",
      "processing kardla\n",
      "http://api.openweathermap.org/data/2.5/weather?units=metric&APPID=767db115d62ad68acd7e1d7444eef403&q=bahir dar\n",
      "processing bahir dar\n",
      "http://api.openweathermap.org/data/2.5/weather?units=metric&APPID=767db115d62ad68acd7e1d7444eef403&q=arraial do cabo\n",
      "processing arraial do cabo\n",
      "http://api.openweathermap.org/data/2.5/weather?units=metric&APPID=767db115d62ad68acd7e1d7444eef403&q=praya\n",
      "processing praya\n",
      "http://api.openweathermap.org/data/2.5/weather?units=metric&APPID=767db115d62ad68acd7e1d7444eef403&q=tandil\n",
      "processing tandil\n",
      "http://api.openweathermap.org/data/2.5/weather?units=metric&APPID=767db115d62ad68acd7e1d7444eef403&q=yasnyy\n",
      "processing yasnyy\n",
      "http://api.openweathermap.org/data/2.5/weather?units=metric&APPID=767db115d62ad68acd7e1d7444eef403&q=funadhoo\n",
      "processing funadhoo\n",
      "http://api.openweathermap.org/data/2.5/weather?units=metric&APPID=767db115d62ad68acd7e1d7444eef403&q=bodrum\n",
      "processing bodrum\n",
      "http://api.openweathermap.org/data/2.5/weather?units=metric&APPID=767db115d62ad68acd7e1d7444eef403&q=coquimbo\n",
      "processing coquimbo\n",
      "http://api.openweathermap.org/data/2.5/weather?units=metric&APPID=767db115d62ad68acd7e1d7444eef403&q=estreito\n",
      "processing estreito\n",
      "http://api.openweathermap.org/data/2.5/weather?units=metric&APPID=767db115d62ad68acd7e1d7444eef403&q=hornepayne\n",
      "processing hornepayne\n",
      "http://api.openweathermap.org/data/2.5/weather?units=metric&APPID=767db115d62ad68acd7e1d7444eef403&q=chaiya\n",
      "processing chaiya\n",
      "http://api.openweathermap.org/data/2.5/weather?units=metric&APPID=767db115d62ad68acd7e1d7444eef403&q=alexandria\n",
      "processing alexandria\n",
      "http://api.openweathermap.org/data/2.5/weather?units=metric&APPID=767db115d62ad68acd7e1d7444eef403&q=seoul\n",
      "processing seoul\n",
      "http://api.openweathermap.org/data/2.5/weather?units=metric&APPID=767db115d62ad68acd7e1d7444eef403&q=ust-kulom\n",
      "processing ust-kulom\n",
      "http://api.openweathermap.org/data/2.5/weather?units=metric&APPID=767db115d62ad68acd7e1d7444eef403&q=port moresby\n",
      "processing port moresby\n",
      "http://api.openweathermap.org/data/2.5/weather?units=metric&APPID=767db115d62ad68acd7e1d7444eef403&q=monze\n",
      "processing monze\n",
      "http://api.openweathermap.org/data/2.5/weather?units=metric&APPID=767db115d62ad68acd7e1d7444eef403&q=ruston\n",
      "processing ruston\n",
      "http://api.openweathermap.org/data/2.5/weather?units=metric&APPID=767db115d62ad68acd7e1d7444eef403&q=tumannyy\n",
      "processing tumannyy\n",
      "City not found.\n",
      "http://api.openweathermap.org/data/2.5/weather?units=metric&APPID=767db115d62ad68acd7e1d7444eef403&q=nguiu\n",
      "processing nguiu\n",
      "City not found.\n",
      "http://api.openweathermap.org/data/2.5/weather?units=metric&APPID=767db115d62ad68acd7e1d7444eef403&q=kwinana\n",
      "processing kwinana\n",
      "http://api.openweathermap.org/data/2.5/weather?units=metric&APPID=767db115d62ad68acd7e1d7444eef403&q=broome\n",
      "processing broome\n",
      "http://api.openweathermap.org/data/2.5/weather?units=metric&APPID=767db115d62ad68acd7e1d7444eef403&q=filingue\n"
     ]
    },
    {
     "name": "stdout",
     "output_type": "stream",
     "text": [
      "processing filingue\n",
      "http://api.openweathermap.org/data/2.5/weather?units=metric&APPID=767db115d62ad68acd7e1d7444eef403&q=matinhos\n",
      "processing matinhos\n",
      "http://api.openweathermap.org/data/2.5/weather?units=metric&APPID=767db115d62ad68acd7e1d7444eef403&q=husavik\n",
      "processing husavik\n",
      "http://api.openweathermap.org/data/2.5/weather?units=metric&APPID=767db115d62ad68acd7e1d7444eef403&q=lata\n",
      "processing lata\n",
      "http://api.openweathermap.org/data/2.5/weather?units=metric&APPID=767db115d62ad68acd7e1d7444eef403&q=cidreira\n",
      "processing cidreira\n",
      "http://api.openweathermap.org/data/2.5/weather?units=metric&APPID=767db115d62ad68acd7e1d7444eef403&q=pointe michel\n",
      "processing pointe michel\n",
      "http://api.openweathermap.org/data/2.5/weather?units=metric&APPID=767db115d62ad68acd7e1d7444eef403&q=maragogi\n",
      "processing maragogi\n",
      "http://api.openweathermap.org/data/2.5/weather?units=metric&APPID=767db115d62ad68acd7e1d7444eef403&q=salina\n",
      "processing salina\n",
      "http://api.openweathermap.org/data/2.5/weather?units=metric&APPID=767db115d62ad68acd7e1d7444eef403&q=oshakati\n",
      "processing oshakati\n",
      "http://api.openweathermap.org/data/2.5/weather?units=metric&APPID=767db115d62ad68acd7e1d7444eef403&q=san ignacio\n",
      "processing san ignacio\n",
      "http://api.openweathermap.org/data/2.5/weather?units=metric&APPID=767db115d62ad68acd7e1d7444eef403&q=siteki\n",
      "processing siteki\n",
      "http://api.openweathermap.org/data/2.5/weather?units=metric&APPID=767db115d62ad68acd7e1d7444eef403&q=katsuura\n",
      "processing katsuura\n",
      "http://api.openweathermap.org/data/2.5/weather?units=metric&APPID=767db115d62ad68acd7e1d7444eef403&q=kamenka\n",
      "processing kamenka\n",
      "http://api.openweathermap.org/data/2.5/weather?units=metric&APPID=767db115d62ad68acd7e1d7444eef403&q=pochutla\n",
      "processing pochutla\n",
      "http://api.openweathermap.org/data/2.5/weather?units=metric&APPID=767db115d62ad68acd7e1d7444eef403&q=haverhill\n",
      "processing haverhill\n",
      "http://api.openweathermap.org/data/2.5/weather?units=metric&APPID=767db115d62ad68acd7e1d7444eef403&q=paucartambo\n",
      "processing paucartambo\n",
      "City not found.\n",
      "http://api.openweathermap.org/data/2.5/weather?units=metric&APPID=767db115d62ad68acd7e1d7444eef403&q=tigil\n",
      "processing tigil\n",
      "http://api.openweathermap.org/data/2.5/weather?units=metric&APPID=767db115d62ad68acd7e1d7444eef403&q=tabou\n",
      "processing tabou\n",
      "http://api.openweathermap.org/data/2.5/weather?units=metric&APPID=767db115d62ad68acd7e1d7444eef403&q=rio bravo\n",
      "processing rio bravo\n",
      "http://api.openweathermap.org/data/2.5/weather?units=metric&APPID=767db115d62ad68acd7e1d7444eef403&q=saint andrews\n",
      "processing saint andrews\n",
      "http://api.openweathermap.org/data/2.5/weather?units=metric&APPID=767db115d62ad68acd7e1d7444eef403&q=caluquembe\n",
      "processing caluquembe\n",
      "http://api.openweathermap.org/data/2.5/weather?units=metric&APPID=767db115d62ad68acd7e1d7444eef403&q=montargis\n",
      "processing montargis\n",
      "http://api.openweathermap.org/data/2.5/weather?units=metric&APPID=767db115d62ad68acd7e1d7444eef403&q=palmerston\n",
      "processing palmerston\n",
      "http://api.openweathermap.org/data/2.5/weather?units=metric&APPID=767db115d62ad68acd7e1d7444eef403&q=lewiston\n",
      "processing lewiston\n",
      "http://api.openweathermap.org/data/2.5/weather?units=metric&APPID=767db115d62ad68acd7e1d7444eef403&q=leh\n",
      "processing leh\n",
      "http://api.openweathermap.org/data/2.5/weather?units=metric&APPID=767db115d62ad68acd7e1d7444eef403&q=nemuro\n",
      "processing nemuro\n",
      "http://api.openweathermap.org/data/2.5/weather?units=metric&APPID=767db115d62ad68acd7e1d7444eef403&q=vao\n",
      "processing vao\n",
      "http://api.openweathermap.org/data/2.5/weather?units=metric&APPID=767db115d62ad68acd7e1d7444eef403&q=lichinga\n",
      "processing lichinga\n",
      "http://api.openweathermap.org/data/2.5/weather?units=metric&APPID=767db115d62ad68acd7e1d7444eef403&q=kushima\n",
      "processing kushima\n",
      "http://api.openweathermap.org/data/2.5/weather?units=metric&APPID=767db115d62ad68acd7e1d7444eef403&q=merritt island\n",
      "processing merritt island\n",
      "http://api.openweathermap.org/data/2.5/weather?units=metric&APPID=767db115d62ad68acd7e1d7444eef403&q=jibuti\n",
      "processing jibuti\n",
      "http://api.openweathermap.org/data/2.5/weather?units=metric&APPID=767db115d62ad68acd7e1d7444eef403&q=erdenet\n",
      "processing erdenet\n",
      "http://api.openweathermap.org/data/2.5/weather?units=metric&APPID=767db115d62ad68acd7e1d7444eef403&q=xining\n",
      "processing xining\n",
      "http://api.openweathermap.org/data/2.5/weather?units=metric&APPID=767db115d62ad68acd7e1d7444eef403&q=boke\n",
      "processing boke\n",
      "http://api.openweathermap.org/data/2.5/weather?units=metric&APPID=767db115d62ad68acd7e1d7444eef403&q=weyburn\n",
      "processing weyburn\n",
      "http://api.openweathermap.org/data/2.5/weather?units=metric&APPID=767db115d62ad68acd7e1d7444eef403&q=mogadishu\n",
      "processing mogadishu\n",
      "http://api.openweathermap.org/data/2.5/weather?units=metric&APPID=767db115d62ad68acd7e1d7444eef403&q=la grande\n",
      "processing la grande\n",
      "http://api.openweathermap.org/data/2.5/weather?units=metric&APPID=767db115d62ad68acd7e1d7444eef403&q=pak phanang\n",
      "processing pak phanang\n",
      "http://api.openweathermap.org/data/2.5/weather?units=metric&APPID=767db115d62ad68acd7e1d7444eef403&q=danville\n",
      "processing danville\n",
      "http://api.openweathermap.org/data/2.5/weather?units=metric&APPID=767db115d62ad68acd7e1d7444eef403&q=kem\n",
      "processing kem\n",
      "http://api.openweathermap.org/data/2.5/weather?units=metric&APPID=767db115d62ad68acd7e1d7444eef403&q=gigmoto\n",
      "processing gigmoto\n",
      "http://api.openweathermap.org/data/2.5/weather?units=metric&APPID=767db115d62ad68acd7e1d7444eef403&q=evanston\n",
      "processing evanston\n",
      "http://api.openweathermap.org/data/2.5/weather?units=metric&APPID=767db115d62ad68acd7e1d7444eef403&q=sinjah\n",
      "processing sinjah\n",
      "City not found.\n",
      "http://api.openweathermap.org/data/2.5/weather?units=metric&APPID=767db115d62ad68acd7e1d7444eef403&q=ostrovnoy\n",
      "processing ostrovnoy\n",
      "http://api.openweathermap.org/data/2.5/weather?units=metric&APPID=767db115d62ad68acd7e1d7444eef403&q=ruatoria\n",
      "processing ruatoria\n",
      "City not found.\n",
      "http://api.openweathermap.org/data/2.5/weather?units=metric&APPID=767db115d62ad68acd7e1d7444eef403&q=quelimane\n",
      "processing quelimane\n",
      "http://api.openweathermap.org/data/2.5/weather?units=metric&APPID=767db115d62ad68acd7e1d7444eef403&q=aykhal\n",
      "processing aykhal\n",
      "http://api.openweathermap.org/data/2.5/weather?units=metric&APPID=767db115d62ad68acd7e1d7444eef403&q=torbay\n",
      "processing torbay\n",
      "http://api.openweathermap.org/data/2.5/weather?units=metric&APPID=767db115d62ad68acd7e1d7444eef403&q=hasaki\n",
      "processing hasaki\n",
      "http://api.openweathermap.org/data/2.5/weather?units=metric&APPID=767db115d62ad68acd7e1d7444eef403&q=sovetskiy\n",
      "processing sovetskiy\n",
      "http://api.openweathermap.org/data/2.5/weather?units=metric&APPID=767db115d62ad68acd7e1d7444eef403&q=ust-ordynskiy\n",
      "processing ust-ordynskiy\n",
      "http://api.openweathermap.org/data/2.5/weather?units=metric&APPID=767db115d62ad68acd7e1d7444eef403&q=dossor\n",
      "processing dossor\n",
      "http://api.openweathermap.org/data/2.5/weather?units=metric&APPID=767db115d62ad68acd7e1d7444eef403&q=custoias\n",
      "processing custoias\n",
      "http://api.openweathermap.org/data/2.5/weather?units=metric&APPID=767db115d62ad68acd7e1d7444eef403&q=shingu\n",
      "processing shingu\n",
      "http://api.openweathermap.org/data/2.5/weather?units=metric&APPID=767db115d62ad68acd7e1d7444eef403&q=denpasar\n",
      "processing denpasar\n",
      "http://api.openweathermap.org/data/2.5/weather?units=metric&APPID=767db115d62ad68acd7e1d7444eef403&q=jardim\n",
      "processing jardim\n",
      "http://api.openweathermap.org/data/2.5/weather?units=metric&APPID=767db115d62ad68acd7e1d7444eef403&q=dzaoudzi\n",
      "processing dzaoudzi\n",
      "http://api.openweathermap.org/data/2.5/weather?units=metric&APPID=767db115d62ad68acd7e1d7444eef403&q=chunhuhub\n",
      "processing chunhuhub\n",
      "http://api.openweathermap.org/data/2.5/weather?units=metric&APPID=767db115d62ad68acd7e1d7444eef403&q=shieli\n",
      "processing shieli\n",
      "http://api.openweathermap.org/data/2.5/weather?units=metric&APPID=767db115d62ad68acd7e1d7444eef403&q=petropavlovsk-kamchatskiy\n",
      "processing petropavlovsk-kamchatskiy\n",
      "http://api.openweathermap.org/data/2.5/weather?units=metric&APPID=767db115d62ad68acd7e1d7444eef403&q=chokurdakh\n",
      "processing chokurdakh\n",
      "http://api.openweathermap.org/data/2.5/weather?units=metric&APPID=767db115d62ad68acd7e1d7444eef403&q=la ronge\n",
      "processing la ronge\n",
      "http://api.openweathermap.org/data/2.5/weather?units=metric&APPID=767db115d62ad68acd7e1d7444eef403&q=pimenta bueno\n",
      "processing pimenta bueno\n",
      "http://api.openweathermap.org/data/2.5/weather?units=metric&APPID=767db115d62ad68acd7e1d7444eef403&q=keflavik\n"
     ]
    },
    {
     "name": "stdout",
     "output_type": "stream",
     "text": [
      "processing keflavik\n",
      "http://api.openweathermap.org/data/2.5/weather?units=metric&APPID=767db115d62ad68acd7e1d7444eef403&q=arequipa\n",
      "processing arequipa\n",
      "http://api.openweathermap.org/data/2.5/weather?units=metric&APPID=767db115d62ad68acd7e1d7444eef403&q=kavieng\n",
      "processing kavieng\n",
      "http://api.openweathermap.org/data/2.5/weather?units=metric&APPID=767db115d62ad68acd7e1d7444eef403&q=itapirapua\n",
      "processing itapirapua\n",
      "http://api.openweathermap.org/data/2.5/weather?units=metric&APPID=767db115d62ad68acd7e1d7444eef403&q=nishihara\n",
      "processing nishihara\n",
      "http://api.openweathermap.org/data/2.5/weather?units=metric&APPID=767db115d62ad68acd7e1d7444eef403&q=bougouni\n",
      "processing bougouni\n",
      "http://api.openweathermap.org/data/2.5/weather?units=metric&APPID=767db115d62ad68acd7e1d7444eef403&q=labytnangi\n",
      "processing labytnangi\n",
      "http://api.openweathermap.org/data/2.5/weather?units=metric&APPID=767db115d62ad68acd7e1d7444eef403&q=bubaque\n",
      "processing bubaque\n",
      "http://api.openweathermap.org/data/2.5/weather?units=metric&APPID=767db115d62ad68acd7e1d7444eef403&q=ust-koksa\n",
      "processing ust-koksa\n",
      "http://api.openweathermap.org/data/2.5/weather?units=metric&APPID=767db115d62ad68acd7e1d7444eef403&q=liberal\n",
      "processing liberal\n",
      "http://api.openweathermap.org/data/2.5/weather?units=metric&APPID=767db115d62ad68acd7e1d7444eef403&q=finschhafen\n",
      "processing finschhafen\n",
      "http://api.openweathermap.org/data/2.5/weather?units=metric&APPID=767db115d62ad68acd7e1d7444eef403&q=manaia\n",
      "processing manaia\n",
      "http://api.openweathermap.org/data/2.5/weather?units=metric&APPID=767db115d62ad68acd7e1d7444eef403&q=samdrup jongkhar\n",
      "processing samdrup jongkhar\n",
      "http://api.openweathermap.org/data/2.5/weather?units=metric&APPID=767db115d62ad68acd7e1d7444eef403&q=bekhtery\n",
      "processing bekhtery\n",
      "http://api.openweathermap.org/data/2.5/weather?units=metric&APPID=767db115d62ad68acd7e1d7444eef403&q=alofi\n",
      "processing alofi\n",
      "http://api.openweathermap.org/data/2.5/weather?units=metric&APPID=767db115d62ad68acd7e1d7444eef403&q=bardiyah\n",
      "processing bardiyah\n",
      "http://api.openweathermap.org/data/2.5/weather?units=metric&APPID=767db115d62ad68acd7e1d7444eef403&q=katobu\n",
      "processing katobu\n",
      "http://api.openweathermap.org/data/2.5/weather?units=metric&APPID=767db115d62ad68acd7e1d7444eef403&q=mahon\n",
      "processing mahon\n",
      "http://api.openweathermap.org/data/2.5/weather?units=metric&APPID=767db115d62ad68acd7e1d7444eef403&q=durban\n",
      "processing durban\n",
      "http://api.openweathermap.org/data/2.5/weather?units=metric&APPID=767db115d62ad68acd7e1d7444eef403&q=thanh hoa\n",
      "processing thanh hoa\n",
      "http://api.openweathermap.org/data/2.5/weather?units=metric&APPID=767db115d62ad68acd7e1d7444eef403&q=noumea\n",
      "processing noumea\n",
      "http://api.openweathermap.org/data/2.5/weather?units=metric&APPID=767db115d62ad68acd7e1d7444eef403&q=hoogeveen\n",
      "processing hoogeveen\n",
      "http://api.openweathermap.org/data/2.5/weather?units=metric&APPID=767db115d62ad68acd7e1d7444eef403&q=nyurba\n",
      "processing nyurba\n",
      "http://api.openweathermap.org/data/2.5/weather?units=metric&APPID=767db115d62ad68acd7e1d7444eef403&q=samusu\n",
      "processing samusu\n",
      "City not found.\n",
      "http://api.openweathermap.org/data/2.5/weather?units=metric&APPID=767db115d62ad68acd7e1d7444eef403&q=payson\n",
      "processing payson\n",
      "http://api.openweathermap.org/data/2.5/weather?units=metric&APPID=767db115d62ad68acd7e1d7444eef403&q=pemberton\n",
      "processing pemberton\n",
      "http://api.openweathermap.org/data/2.5/weather?units=metric&APPID=767db115d62ad68acd7e1d7444eef403&q=deh rawud\n",
      "processing deh rawud\n",
      "City not found.\n",
      "http://api.openweathermap.org/data/2.5/weather?units=metric&APPID=767db115d62ad68acd7e1d7444eef403&q=bulri\n",
      "processing bulri\n",
      "http://api.openweathermap.org/data/2.5/weather?units=metric&APPID=767db115d62ad68acd7e1d7444eef403&q=satitoa\n",
      "processing satitoa\n",
      "City not found.\n",
      "http://api.openweathermap.org/data/2.5/weather?units=metric&APPID=767db115d62ad68acd7e1d7444eef403&q=habiganj\n",
      "processing habiganj\n",
      "http://api.openweathermap.org/data/2.5/weather?units=metric&APPID=767db115d62ad68acd7e1d7444eef403&q=fulton\n",
      "processing fulton\n",
      "http://api.openweathermap.org/data/2.5/weather?units=metric&APPID=767db115d62ad68acd7e1d7444eef403&q=krasnoselkup\n",
      "processing krasnoselkup\n",
      "http://api.openweathermap.org/data/2.5/weather?units=metric&APPID=767db115d62ad68acd7e1d7444eef403&q=nizhniy baskunchak\n",
      "processing nizhniy baskunchak\n",
      "http://api.openweathermap.org/data/2.5/weather?units=metric&APPID=767db115d62ad68acd7e1d7444eef403&q=nowy dwor mazowiecki\n",
      "processing nowy dwor mazowiecki\n",
      "http://api.openweathermap.org/data/2.5/weather?units=metric&APPID=767db115d62ad68acd7e1d7444eef403&q=thaba-tseka\n",
      "processing thaba-tseka\n",
      "http://api.openweathermap.org/data/2.5/weather?units=metric&APPID=767db115d62ad68acd7e1d7444eef403&q=tamsweg\n",
      "processing tamsweg\n",
      "http://api.openweathermap.org/data/2.5/weather?units=metric&APPID=767db115d62ad68acd7e1d7444eef403&q=pochinki\n",
      "processing pochinki\n",
      "http://api.openweathermap.org/data/2.5/weather?units=metric&APPID=767db115d62ad68acd7e1d7444eef403&q=gashua\n",
      "processing gashua\n",
      "http://api.openweathermap.org/data/2.5/weather?units=metric&APPID=767db115d62ad68acd7e1d7444eef403&q=helong\n",
      "processing helong\n",
      "http://api.openweathermap.org/data/2.5/weather?units=metric&APPID=767db115d62ad68acd7e1d7444eef403&q=linxia\n",
      "processing linxia\n",
      "http://api.openweathermap.org/data/2.5/weather?units=metric&APPID=767db115d62ad68acd7e1d7444eef403&q=ambanja\n",
      "processing ambanja\n",
      "http://api.openweathermap.org/data/2.5/weather?units=metric&APPID=767db115d62ad68acd7e1d7444eef403&q=cam pha\n",
      "processing cam pha\n",
      "City not found.\n",
      "http://api.openweathermap.org/data/2.5/weather?units=metric&APPID=767db115d62ad68acd7e1d7444eef403&q=cabinda\n",
      "processing cabinda\n",
      "http://api.openweathermap.org/data/2.5/weather?units=metric&APPID=767db115d62ad68acd7e1d7444eef403&q=langsa\n",
      "processing langsa\n",
      "http://api.openweathermap.org/data/2.5/weather?units=metric&APPID=767db115d62ad68acd7e1d7444eef403&q=amahai\n",
      "processing amahai\n",
      "http://api.openweathermap.org/data/2.5/weather?units=metric&APPID=767db115d62ad68acd7e1d7444eef403&q=mount isa\n",
      "processing mount isa\n",
      "http://api.openweathermap.org/data/2.5/weather?units=metric&APPID=767db115d62ad68acd7e1d7444eef403&q=guerrero negro\n",
      "processing guerrero negro\n",
      "http://api.openweathermap.org/data/2.5/weather?units=metric&APPID=767db115d62ad68acd7e1d7444eef403&q=westport\n",
      "processing westport\n",
      "http://api.openweathermap.org/data/2.5/weather?units=metric&APPID=767db115d62ad68acd7e1d7444eef403&q=sorland\n",
      "processing sorland\n",
      "http://api.openweathermap.org/data/2.5/weather?units=metric&APPID=767db115d62ad68acd7e1d7444eef403&q=padang\n",
      "processing padang\n",
      "http://api.openweathermap.org/data/2.5/weather?units=metric&APPID=767db115d62ad68acd7e1d7444eef403&q=rio grande\n",
      "processing rio grande\n",
      "http://api.openweathermap.org/data/2.5/weather?units=metric&APPID=767db115d62ad68acd7e1d7444eef403&q=temirtau\n",
      "processing temirtau\n",
      "http://api.openweathermap.org/data/2.5/weather?units=metric&APPID=767db115d62ad68acd7e1d7444eef403&q=diffa\n",
      "processing diffa\n",
      "http://api.openweathermap.org/data/2.5/weather?units=metric&APPID=767db115d62ad68acd7e1d7444eef403&q=kabompo\n",
      "processing kabompo\n",
      "http://api.openweathermap.org/data/2.5/weather?units=metric&APPID=767db115d62ad68acd7e1d7444eef403&q=petauke\n",
      "processing petauke\n",
      "http://api.openweathermap.org/data/2.5/weather?units=metric&APPID=767db115d62ad68acd7e1d7444eef403&q=namatanai\n",
      "processing namatanai\n",
      "http://api.openweathermap.org/data/2.5/weather?units=metric&APPID=767db115d62ad68acd7e1d7444eef403&q=longlac\n",
      "processing longlac\n",
      "City not found.\n",
      "http://api.openweathermap.org/data/2.5/weather?units=metric&APPID=767db115d62ad68acd7e1d7444eef403&q=margate\n",
      "processing margate\n",
      "http://api.openweathermap.org/data/2.5/weather?units=metric&APPID=767db115d62ad68acd7e1d7444eef403&q=chara\n",
      "processing chara\n",
      "http://api.openweathermap.org/data/2.5/weather?units=metric&APPID=767db115d62ad68acd7e1d7444eef403&q=san matias\n",
      "processing san matias\n",
      "http://api.openweathermap.org/data/2.5/weather?units=metric&APPID=767db115d62ad68acd7e1d7444eef403&q=ushibuka\n",
      "processing ushibuka\n",
      "http://api.openweathermap.org/data/2.5/weather?units=metric&APPID=767db115d62ad68acd7e1d7444eef403&q=mizdah\n",
      "processing mizdah\n",
      "http://api.openweathermap.org/data/2.5/weather?units=metric&APPID=767db115d62ad68acd7e1d7444eef403&q=puerto quijarro\n",
      "processing puerto quijarro\n",
      "http://api.openweathermap.org/data/2.5/weather?units=metric&APPID=767db115d62ad68acd7e1d7444eef403&q=ustka\n"
     ]
    },
    {
     "name": "stdout",
     "output_type": "stream",
     "text": [
      "processing ustka\n",
      "http://api.openweathermap.org/data/2.5/weather?units=metric&APPID=767db115d62ad68acd7e1d7444eef403&q=abnub\n",
      "processing abnub\n",
      "http://api.openweathermap.org/data/2.5/weather?units=metric&APPID=767db115d62ad68acd7e1d7444eef403&q=valparaiso\n",
      "processing valparaiso\n",
      "http://api.openweathermap.org/data/2.5/weather?units=metric&APPID=767db115d62ad68acd7e1d7444eef403&q=anakapalle\n",
      "processing anakapalle\n",
      "http://api.openweathermap.org/data/2.5/weather?units=metric&APPID=767db115d62ad68acd7e1d7444eef403&q=valdivia\n",
      "processing valdivia\n",
      "http://api.openweathermap.org/data/2.5/weather?units=metric&APPID=767db115d62ad68acd7e1d7444eef403&q=khromtau\n",
      "processing khromtau\n",
      "http://api.openweathermap.org/data/2.5/weather?units=metric&APPID=767db115d62ad68acd7e1d7444eef403&q=gallatin\n",
      "processing gallatin\n",
      "http://api.openweathermap.org/data/2.5/weather?units=metric&APPID=767db115d62ad68acd7e1d7444eef403&q=avera\n",
      "processing avera\n",
      "http://api.openweathermap.org/data/2.5/weather?units=metric&APPID=767db115d62ad68acd7e1d7444eef403&q=hindupur\n",
      "processing hindupur\n",
      "http://api.openweathermap.org/data/2.5/weather?units=metric&APPID=767db115d62ad68acd7e1d7444eef403&q=kulu\n",
      "processing kulu\n",
      "http://api.openweathermap.org/data/2.5/weather?units=metric&APPID=767db115d62ad68acd7e1d7444eef403&q=thunder bay\n",
      "processing thunder bay\n",
      "http://api.openweathermap.org/data/2.5/weather?units=metric&APPID=767db115d62ad68acd7e1d7444eef403&q=kushmurun\n",
      "processing kushmurun\n",
      "http://api.openweathermap.org/data/2.5/weather?units=metric&APPID=767db115d62ad68acd7e1d7444eef403&q=maningrida\n",
      "processing maningrida\n",
      "http://api.openweathermap.org/data/2.5/weather?units=metric&APPID=767db115d62ad68acd7e1d7444eef403&q=soavinandriana\n",
      "processing soavinandriana\n",
      "http://api.openweathermap.org/data/2.5/weather?units=metric&APPID=767db115d62ad68acd7e1d7444eef403&q=bang saphan\n",
      "processing bang saphan\n",
      "http://api.openweathermap.org/data/2.5/weather?units=metric&APPID=767db115d62ad68acd7e1d7444eef403&q=podor\n",
      "processing podor\n",
      "http://api.openweathermap.org/data/2.5/weather?units=metric&APPID=767db115d62ad68acd7e1d7444eef403&q=touho\n",
      "processing touho\n",
      "http://api.openweathermap.org/data/2.5/weather?units=metric&APPID=767db115d62ad68acd7e1d7444eef403&q=sao felix do xingu\n",
      "processing sao felix do xingu\n",
      "http://api.openweathermap.org/data/2.5/weather?units=metric&APPID=767db115d62ad68acd7e1d7444eef403&q=dhidhdhoo\n",
      "processing dhidhdhoo\n",
      "http://api.openweathermap.org/data/2.5/weather?units=metric&APPID=767db115d62ad68acd7e1d7444eef403&q=barahona\n",
      "processing barahona\n",
      "http://api.openweathermap.org/data/2.5/weather?units=metric&APPID=767db115d62ad68acd7e1d7444eef403&q=crotone\n",
      "processing crotone\n",
      "http://api.openweathermap.org/data/2.5/weather?units=metric&APPID=767db115d62ad68acd7e1d7444eef403&q=ostersund\n",
      "processing ostersund\n",
      "http://api.openweathermap.org/data/2.5/weather?units=metric&APPID=767db115d62ad68acd7e1d7444eef403&q=lazaro cardenas\n",
      "processing lazaro cardenas\n",
      "http://api.openweathermap.org/data/2.5/weather?units=metric&APPID=767db115d62ad68acd7e1d7444eef403&q=leshukonskoye\n",
      "processing leshukonskoye\n",
      "http://api.openweathermap.org/data/2.5/weather?units=metric&APPID=767db115d62ad68acd7e1d7444eef403&q=neftcala\n",
      "processing neftcala\n",
      "http://api.openweathermap.org/data/2.5/weather?units=metric&APPID=767db115d62ad68acd7e1d7444eef403&q=morondava\n",
      "processing morondava\n",
      "http://api.openweathermap.org/data/2.5/weather?units=metric&APPID=767db115d62ad68acd7e1d7444eef403&q=derzhavinsk\n",
      "processing derzhavinsk\n",
      "http://api.openweathermap.org/data/2.5/weather?units=metric&APPID=767db115d62ad68acd7e1d7444eef403&q=jacareacanga\n",
      "processing jacareacanga\n",
      "http://api.openweathermap.org/data/2.5/weather?units=metric&APPID=767db115d62ad68acd7e1d7444eef403&q=ambulu\n",
      "processing ambulu\n",
      "http://api.openweathermap.org/data/2.5/weather?units=metric&APPID=767db115d62ad68acd7e1d7444eef403&q=arman\n",
      "processing arman\n",
      "http://api.openweathermap.org/data/2.5/weather?units=metric&APPID=767db115d62ad68acd7e1d7444eef403&q=tabat\n",
      "processing tabat\n",
      "http://api.openweathermap.org/data/2.5/weather?units=metric&APPID=767db115d62ad68acd7e1d7444eef403&q=chifeng\n",
      "processing chifeng\n",
      "http://api.openweathermap.org/data/2.5/weather?units=metric&APPID=767db115d62ad68acd7e1d7444eef403&q=iberia\n",
      "processing iberia\n",
      "http://api.openweathermap.org/data/2.5/weather?units=metric&APPID=767db115d62ad68acd7e1d7444eef403&q=salinas\n",
      "processing salinas\n",
      "http://api.openweathermap.org/data/2.5/weather?units=metric&APPID=767db115d62ad68acd7e1d7444eef403&q=coihaique\n",
      "processing coihaique\n",
      "http://api.openweathermap.org/data/2.5/weather?units=metric&APPID=767db115d62ad68acd7e1d7444eef403&q=shimoda\n",
      "processing shimoda\n",
      "http://api.openweathermap.org/data/2.5/weather?units=metric&APPID=767db115d62ad68acd7e1d7444eef403&q=aflu\n",
      "processing aflu\n",
      "City not found.\n",
      "http://api.openweathermap.org/data/2.5/weather?units=metric&APPID=767db115d62ad68acd7e1d7444eef403&q=kinshasa\n",
      "processing kinshasa\n",
      "http://api.openweathermap.org/data/2.5/weather?units=metric&APPID=767db115d62ad68acd7e1d7444eef403&q=jutai\n",
      "processing jutai\n",
      "http://api.openweathermap.org/data/2.5/weather?units=metric&APPID=767db115d62ad68acd7e1d7444eef403&q=shubarshi\n",
      "processing shubarshi\n",
      "http://api.openweathermap.org/data/2.5/weather?units=metric&APPID=767db115d62ad68acd7e1d7444eef403&q=uribia\n",
      "processing uribia\n",
      "http://api.openweathermap.org/data/2.5/weather?units=metric&APPID=767db115d62ad68acd7e1d7444eef403&q=vardo\n",
      "processing vardo\n",
      "http://api.openweathermap.org/data/2.5/weather?units=metric&APPID=767db115d62ad68acd7e1d7444eef403&q=amga\n",
      "processing amga\n",
      "http://api.openweathermap.org/data/2.5/weather?units=metric&APPID=767db115d62ad68acd7e1d7444eef403&q=tazovskiy\n",
      "processing tazovskiy\n",
      "http://api.openweathermap.org/data/2.5/weather?units=metric&APPID=767db115d62ad68acd7e1d7444eef403&q=tres arroyos\n",
      "processing tres arroyos\n",
      "http://api.openweathermap.org/data/2.5/weather?units=metric&APPID=767db115d62ad68acd7e1d7444eef403&q=colares\n",
      "processing colares\n",
      "http://api.openweathermap.org/data/2.5/weather?units=metric&APPID=767db115d62ad68acd7e1d7444eef403&q=olga\n",
      "processing olga\n",
      "http://api.openweathermap.org/data/2.5/weather?units=metric&APPID=767db115d62ad68acd7e1d7444eef403&q=nuevo progreso\n",
      "processing nuevo progreso\n",
      "http://api.openweathermap.org/data/2.5/weather?units=metric&APPID=767db115d62ad68acd7e1d7444eef403&q=tucuma\n",
      "processing tucuma\n",
      "http://api.openweathermap.org/data/2.5/weather?units=metric&APPID=767db115d62ad68acd7e1d7444eef403&q=atasu\n",
      "processing atasu\n",
      "http://api.openweathermap.org/data/2.5/weather?units=metric&APPID=767db115d62ad68acd7e1d7444eef403&q=manoel urbano\n",
      "processing manoel urbano\n",
      "http://api.openweathermap.org/data/2.5/weather?units=metric&APPID=767db115d62ad68acd7e1d7444eef403&q=cockburn town\n",
      "processing cockburn town\n",
      "http://api.openweathermap.org/data/2.5/weather?units=metric&APPID=767db115d62ad68acd7e1d7444eef403&q=toftir\n",
      "processing toftir\n",
      "City not found.\n",
      "http://api.openweathermap.org/data/2.5/weather?units=metric&APPID=767db115d62ad68acd7e1d7444eef403&q=turtas\n",
      "processing turtas\n",
      "http://api.openweathermap.org/data/2.5/weather?units=metric&APPID=767db115d62ad68acd7e1d7444eef403&q=makungu\n",
      "processing makungu\n",
      "http://api.openweathermap.org/data/2.5/weather?units=metric&APPID=767db115d62ad68acd7e1d7444eef403&q=cocula\n",
      "processing cocula\n",
      "http://api.openweathermap.org/data/2.5/weather?units=metric&APPID=767db115d62ad68acd7e1d7444eef403&q=chaman\n",
      "processing chaman\n",
      "http://api.openweathermap.org/data/2.5/weather?units=metric&APPID=767db115d62ad68acd7e1d7444eef403&q=felidhoo\n",
      "processing felidhoo\n",
      "City not found.\n",
      "http://api.openweathermap.org/data/2.5/weather?units=metric&APPID=767db115d62ad68acd7e1d7444eef403&q=pokhara\n",
      "processing pokhara\n",
      "http://api.openweathermap.org/data/2.5/weather?units=metric&APPID=767db115d62ad68acd7e1d7444eef403&q=rawson\n",
      "processing rawson\n",
      "http://api.openweathermap.org/data/2.5/weather?units=metric&APPID=767db115d62ad68acd7e1d7444eef403&q=bend\n",
      "processing bend\n",
      "http://api.openweathermap.org/data/2.5/weather?units=metric&APPID=767db115d62ad68acd7e1d7444eef403&q=daru\n",
      "processing daru\n",
      "http://api.openweathermap.org/data/2.5/weather?units=metric&APPID=767db115d62ad68acd7e1d7444eef403&q=kudahuvadhoo\n",
      "processing kudahuvadhoo\n",
      "http://api.openweathermap.org/data/2.5/weather?units=metric&APPID=767db115d62ad68acd7e1d7444eef403&q=muzhi\n"
     ]
    },
    {
     "name": "stdout",
     "output_type": "stream",
     "text": [
      "processing muzhi\n",
      "http://api.openweathermap.org/data/2.5/weather?units=metric&APPID=767db115d62ad68acd7e1d7444eef403&q=horsham\n",
      "processing horsham\n",
      "http://api.openweathermap.org/data/2.5/weather?units=metric&APPID=767db115d62ad68acd7e1d7444eef403&q=zaqatala\n",
      "processing zaqatala\n",
      "http://api.openweathermap.org/data/2.5/weather?units=metric&APPID=767db115d62ad68acd7e1d7444eef403&q=vila velha\n",
      "processing vila velha\n",
      "http://api.openweathermap.org/data/2.5/weather?units=metric&APPID=767db115d62ad68acd7e1d7444eef403&q=sola\n",
      "processing sola\n",
      "http://api.openweathermap.org/data/2.5/weather?units=metric&APPID=767db115d62ad68acd7e1d7444eef403&q=bolshoy tsaryn\n",
      "processing bolshoy tsaryn\n",
      "City not found.\n",
      "http://api.openweathermap.org/data/2.5/weather?units=metric&APPID=767db115d62ad68acd7e1d7444eef403&q=bairiki\n",
      "processing bairiki\n",
      "http://api.openweathermap.org/data/2.5/weather?units=metric&APPID=767db115d62ad68acd7e1d7444eef403&q=amapa\n",
      "processing amapa\n",
      "http://api.openweathermap.org/data/2.5/weather?units=metric&APPID=767db115d62ad68acd7e1d7444eef403&q=raudeberg\n",
      "processing raudeberg\n",
      "http://api.openweathermap.org/data/2.5/weather?units=metric&APPID=767db115d62ad68acd7e1d7444eef403&q=laguna\n",
      "processing laguna\n",
      "http://api.openweathermap.org/data/2.5/weather?units=metric&APPID=767db115d62ad68acd7e1d7444eef403&q=korla\n",
      "processing korla\n",
      "http://api.openweathermap.org/data/2.5/weather?units=metric&APPID=767db115d62ad68acd7e1d7444eef403&q=umzimvubu\n",
      "processing umzimvubu\n",
      "City not found.\n",
      "http://api.openweathermap.org/data/2.5/weather?units=metric&APPID=767db115d62ad68acd7e1d7444eef403&q=asyut\n",
      "processing asyut\n",
      "http://api.openweathermap.org/data/2.5/weather?units=metric&APPID=767db115d62ad68acd7e1d7444eef403&q=russkiy\n",
      "processing russkiy\n",
      "http://api.openweathermap.org/data/2.5/weather?units=metric&APPID=767db115d62ad68acd7e1d7444eef403&q=kahului\n",
      "processing kahului\n",
      "http://api.openweathermap.org/data/2.5/weather?units=metric&APPID=767db115d62ad68acd7e1d7444eef403&q=viedma\n",
      "processing viedma\n",
      "http://api.openweathermap.org/data/2.5/weather?units=metric&APPID=767db115d62ad68acd7e1d7444eef403&q=maputo\n",
      "processing maputo\n",
      "http://api.openweathermap.org/data/2.5/weather?units=metric&APPID=767db115d62ad68acd7e1d7444eef403&q=codajas\n",
      "processing codajas\n",
      "http://api.openweathermap.org/data/2.5/weather?units=metric&APPID=767db115d62ad68acd7e1d7444eef403&q=chimbote\n",
      "processing chimbote\n",
      "http://api.openweathermap.org/data/2.5/weather?units=metric&APPID=767db115d62ad68acd7e1d7444eef403&q=doctor pedro p. pena\n",
      "processing doctor pedro p. pena\n",
      "City not found.\n",
      "http://api.openweathermap.org/data/2.5/weather?units=metric&APPID=767db115d62ad68acd7e1d7444eef403&q=kegayli\n",
      "processing kegayli\n",
      "City not found.\n",
      "http://api.openweathermap.org/data/2.5/weather?units=metric&APPID=767db115d62ad68acd7e1d7444eef403&q=ampanihy\n",
      "processing ampanihy\n",
      "http://api.openweathermap.org/data/2.5/weather?units=metric&APPID=767db115d62ad68acd7e1d7444eef403&q=macon\n",
      "processing macon\n",
      "http://api.openweathermap.org/data/2.5/weather?units=metric&APPID=767db115d62ad68acd7e1d7444eef403&q=nueva guinea\n",
      "processing nueva guinea\n",
      "http://api.openweathermap.org/data/2.5/weather?units=metric&APPID=767db115d62ad68acd7e1d7444eef403&q=gobabis\n",
      "processing gobabis\n",
      "http://api.openweathermap.org/data/2.5/weather?units=metric&APPID=767db115d62ad68acd7e1d7444eef403&q=pitsunda\n",
      "processing pitsunda\n",
      "http://api.openweathermap.org/data/2.5/weather?units=metric&APPID=767db115d62ad68acd7e1d7444eef403&q=syracuse\n",
      "processing syracuse\n",
      "http://api.openweathermap.org/data/2.5/weather?units=metric&APPID=767db115d62ad68acd7e1d7444eef403&q=aksay\n",
      "processing aksay\n",
      "http://api.openweathermap.org/data/2.5/weather?units=metric&APPID=767db115d62ad68acd7e1d7444eef403&q=hue\n",
      "processing hue\n",
      "http://api.openweathermap.org/data/2.5/weather?units=metric&APPID=767db115d62ad68acd7e1d7444eef403&q=vaitape\n",
      "processing vaitape\n",
      "http://api.openweathermap.org/data/2.5/weather?units=metric&APPID=767db115d62ad68acd7e1d7444eef403&q=abha\n",
      "processing abha\n",
      "http://api.openweathermap.org/data/2.5/weather?units=metric&APPID=767db115d62ad68acd7e1d7444eef403&q=tatsinskaya\n",
      "processing tatsinskaya\n",
      "City not found.\n",
      "http://api.openweathermap.org/data/2.5/weather?units=metric&APPID=767db115d62ad68acd7e1d7444eef403&q=barstow\n",
      "processing barstow\n",
      "http://api.openweathermap.org/data/2.5/weather?units=metric&APPID=767db115d62ad68acd7e1d7444eef403&q=pisco\n",
      "processing pisco\n",
      "http://api.openweathermap.org/data/2.5/weather?units=metric&APPID=767db115d62ad68acd7e1d7444eef403&q=mason city\n",
      "processing mason city\n",
      "http://api.openweathermap.org/data/2.5/weather?units=metric&APPID=767db115d62ad68acd7e1d7444eef403&q=balakhninskiy\n",
      "processing balakhninskiy\n",
      "http://api.openweathermap.org/data/2.5/weather?units=metric&APPID=767db115d62ad68acd7e1d7444eef403&q=brunico\n",
      "processing brunico\n",
      "http://api.openweathermap.org/data/2.5/weather?units=metric&APPID=767db115d62ad68acd7e1d7444eef403&q=andenes\n",
      "processing andenes\n",
      "http://api.openweathermap.org/data/2.5/weather?units=metric&APPID=767db115d62ad68acd7e1d7444eef403&q=angra\n",
      "processing angra\n",
      "City not found.\n",
      "http://api.openweathermap.org/data/2.5/weather?units=metric&APPID=767db115d62ad68acd7e1d7444eef403&q=hervey bay\n",
      "processing hervey bay\n",
      "http://api.openweathermap.org/data/2.5/weather?units=metric&APPID=767db115d62ad68acd7e1d7444eef403&q=saint-georges\n",
      "processing saint-georges\n",
      "http://api.openweathermap.org/data/2.5/weather?units=metric&APPID=767db115d62ad68acd7e1d7444eef403&q=waspan\n",
      "processing waspan\n",
      "http://api.openweathermap.org/data/2.5/weather?units=metric&APPID=767db115d62ad68acd7e1d7444eef403&q=linjiang\n",
      "processing linjiang\n",
      "http://api.openweathermap.org/data/2.5/weather?units=metric&APPID=767db115d62ad68acd7e1d7444eef403&q=kaeo\n",
      "processing kaeo\n",
      "http://api.openweathermap.org/data/2.5/weather?units=metric&APPID=767db115d62ad68acd7e1d7444eef403&q=iaciara\n",
      "processing iaciara\n"
     ]
    }
   ],
   "source": [
    "#Create a loop to run through length of cities. If Json response is good, then append to appropriate list\n",
    "\n",
    "i = 0\n",
    "for i in cities[0:a]: \n",
    "    # Create search query, make request and store in json\n",
    "    \n",
    "    city_url = url + \"&q=\" + i\n",
    "    print(city_url)\n",
    "#     try:\n",
    "    \n",
    "    weather_response = requests.get(city_url)\n",
    "    weather_json = weather_response.json()\n",
    "#         print(weather_json)\n",
    "    print(\"processing \" + i)\n",
    "    \n",
    "    \n",
    "    if weather_json['cod'] == 200: #check if response was success\n",
    "    # Try to grab the information required if they are available in the OpenWeather API\n",
    "        all_cities.append(weather_json[\"name\"])\n",
    "        latitude.append(weather_json['coord']['lat'])\n",
    "        longitude.append(weather_json['coord']['lon'])\n",
    "        temperature.append(weather_json['main']['temp_max'])\n",
    "        humidity.append(weather_json['main']['humidity'])\n",
    "        cloudiness.append(weather_json['clouds'][\"all\"])\n",
    "        windspeed.append(weather_json['wind'][\"speed\"])\n",
    "        country.append(weather_json['sys'][\"country\"])\n",
    "        date.append(weather_json['dt'])\n",
    "        \n",
    "        \n",
    "        \n",
    "        \n",
    "    \n",
    "    # Handle exceptions for cities that do not have information\n",
    "    else:\n",
    "        print(\"City not found.\")\n",
    "        pass\n",
    "        \n",
    "# print(\"Data retrieval complete!\")"
   ]
  },
  {
   "cell_type": "code",
   "execution_count": 7,
   "metadata": {},
   "outputs": [],
   "source": [
    "#create a dictionary of all lists before converting it to dataframe\n",
    "\n",
    "dict = {\"City\": all_cities, \"Lat\": latitude, \"Lng\":longitude,\n",
    "        \"Max Temp\": temperature, \"Humidity\": humidity,\n",
    "        \"Cloudiness\": cloudiness, \"Wind Speed\": windspeed, \n",
    "        \"Country\": country, \"Date\":date } "
   ]
  },
  {
   "cell_type": "markdown",
   "metadata": {},
   "source": [
    "### Convert Raw Data to DataFrame\n",
    "* Display the DataFrame"
   ]
  },
  {
   "cell_type": "code",
   "execution_count": 8,
   "metadata": {},
   "outputs": [],
   "source": [
    "#create dataframe from the dictionary\n",
    "df = pd.DataFrame(dict)"
   ]
  },
  {
   "cell_type": "code",
   "execution_count": null,
   "metadata": {},
   "outputs": [],
   "source": []
  },
  {
   "cell_type": "markdown",
   "metadata": {},
   "source": [
    "Convert Raw Data to DataFrame\n",
    "Display the DataFrame"
   ]
  },
  {
   "cell_type": "code",
   "execution_count": 11,
   "metadata": {},
   "outputs": [
    {
     "data": {
      "text/html": [
       "<div>\n",
       "<style scoped>\n",
       "    .dataframe tbody tr th:only-of-type {\n",
       "        vertical-align: middle;\n",
       "    }\n",
       "\n",
       "    .dataframe tbody tr th {\n",
       "        vertical-align: top;\n",
       "    }\n",
       "\n",
       "    .dataframe thead th {\n",
       "        text-align: right;\n",
       "    }\n",
       "</style>\n",
       "<table border=\"1\" class=\"dataframe\">\n",
       "  <thead>\n",
       "    <tr style=\"text-align: right;\">\n",
       "      <th></th>\n",
       "      <th>City</th>\n",
       "      <th>Lat</th>\n",
       "      <th>Lng</th>\n",
       "      <th>Max Temp</th>\n",
       "      <th>Humidity</th>\n",
       "      <th>Cloudiness</th>\n",
       "      <th>Wind Speed</th>\n",
       "      <th>Country</th>\n",
       "      <th>Date</th>\n",
       "    </tr>\n",
       "  </thead>\n",
       "  <tbody>\n",
       "    <tr>\n",
       "      <th>0</th>\n",
       "      <td>Cape Town</td>\n",
       "      <td>-33.93</td>\n",
       "      <td>18.42</td>\n",
       "      <td>14.00</td>\n",
       "      <td>76</td>\n",
       "      <td>75</td>\n",
       "      <td>8.20</td>\n",
       "      <td>ZA</td>\n",
       "      <td>1598623732</td>\n",
       "    </tr>\n",
       "    <tr>\n",
       "      <th>1</th>\n",
       "      <td>Beipiao</td>\n",
       "      <td>41.79</td>\n",
       "      <td>120.78</td>\n",
       "      <td>16.84</td>\n",
       "      <td>88</td>\n",
       "      <td>23</td>\n",
       "      <td>3.37</td>\n",
       "      <td>CN</td>\n",
       "      <td>1598623853</td>\n",
       "    </tr>\n",
       "    <tr>\n",
       "      <th>2</th>\n",
       "      <td>Fukuechō</td>\n",
       "      <td>32.69</td>\n",
       "      <td>128.84</td>\n",
       "      <td>27.84</td>\n",
       "      <td>85</td>\n",
       "      <td>1</td>\n",
       "      <td>6.17</td>\n",
       "      <td>JP</td>\n",
       "      <td>1598623853</td>\n",
       "    </tr>\n",
       "    <tr>\n",
       "      <th>3</th>\n",
       "      <td>Tiksi</td>\n",
       "      <td>71.69</td>\n",
       "      <td>128.87</td>\n",
       "      <td>6.16</td>\n",
       "      <td>78</td>\n",
       "      <td>48</td>\n",
       "      <td>2.45</td>\n",
       "      <td>RU</td>\n",
       "      <td>1598623854</td>\n",
       "    </tr>\n",
       "    <tr>\n",
       "      <th>4</th>\n",
       "      <td>São Filipe</td>\n",
       "      <td>14.90</td>\n",
       "      <td>-24.50</td>\n",
       "      <td>26.11</td>\n",
       "      <td>82</td>\n",
       "      <td>91</td>\n",
       "      <td>2.55</td>\n",
       "      <td>CV</td>\n",
       "      <td>1598623854</td>\n",
       "    </tr>\n",
       "  </tbody>\n",
       "</table>\n",
       "</div>"
      ],
      "text/plain": [
       "         City    Lat     Lng  Max Temp  Humidity  Cloudiness  Wind Speed  \\\n",
       "0   Cape Town -33.93   18.42     14.00        76          75        8.20   \n",
       "1     Beipiao  41.79  120.78     16.84        88          23        3.37   \n",
       "2    Fukuechō  32.69  128.84     27.84        85           1        6.17   \n",
       "3       Tiksi  71.69  128.87      6.16        78          48        2.45   \n",
       "4  São Filipe  14.90  -24.50     26.11        82          91        2.55   \n",
       "\n",
       "  Country        Date  \n",
       "0      ZA  1598623732  \n",
       "1      CN  1598623853  \n",
       "2      JP  1598623853  \n",
       "3      RU  1598623854  \n",
       "4      CV  1598623854  "
      ]
     },
     "execution_count": 11,
     "metadata": {},
     "output_type": "execute_result"
    }
   ],
   "source": [
    "df.head()"
   ]
  },
  {
   "cell_type": "code",
   "execution_count": 12,
   "metadata": {},
   "outputs": [
    {
     "data": {
      "text/plain": [
       "City          562\n",
       "Lat           562\n",
       "Lng           562\n",
       "Max Temp      562\n",
       "Humidity      562\n",
       "Cloudiness    562\n",
       "Wind Speed    562\n",
       "Country       562\n",
       "Date          562\n",
       "dtype: int64"
      ]
     },
     "execution_count": 12,
     "metadata": {},
     "output_type": "execute_result"
    }
   ],
   "source": [
    "#verify all columns are of same length in dataframe\n",
    "df.count()"
   ]
  },
  {
   "cell_type": "code",
   "execution_count": 13,
   "metadata": {},
   "outputs": [],
   "source": [
    "#export data to csv\n",
    "df.to_csv(\"output/city_data.csv\")"
   ]
  },
  {
   "cell_type": "markdown",
   "metadata": {},
   "source": [
    "## Inspect the data and remove the cities where the humidity > 100%.\n",
    "----\n",
    "Skip this step if there are no cities that have humidity > 100%. "
   ]
  },
  {
   "cell_type": "code",
   "execution_count": null,
   "metadata": {},
   "outputs": [],
   "source": []
  },
  {
   "cell_type": "code",
   "execution_count": 14,
   "metadata": {},
   "outputs": [
    {
     "data": {
      "text/html": [
       "<div>\n",
       "<style scoped>\n",
       "    .dataframe tbody tr th:only-of-type {\n",
       "        vertical-align: middle;\n",
       "    }\n",
       "\n",
       "    .dataframe tbody tr th {\n",
       "        vertical-align: top;\n",
       "    }\n",
       "\n",
       "    .dataframe thead th {\n",
       "        text-align: right;\n",
       "    }\n",
       "</style>\n",
       "<table border=\"1\" class=\"dataframe\">\n",
       "  <thead>\n",
       "    <tr style=\"text-align: right;\">\n",
       "      <th></th>\n",
       "      <th>Lat</th>\n",
       "      <th>Lng</th>\n",
       "      <th>Max Temp</th>\n",
       "      <th>Humidity</th>\n",
       "      <th>Cloudiness</th>\n",
       "      <th>Wind Speed</th>\n",
       "      <th>Date</th>\n",
       "    </tr>\n",
       "  </thead>\n",
       "  <tbody>\n",
       "    <tr>\n",
       "      <th>count</th>\n",
       "      <td>562.000000</td>\n",
       "      <td>562.000000</td>\n",
       "      <td>562.000000</td>\n",
       "      <td>562.00000</td>\n",
       "      <td>562.000000</td>\n",
       "      <td>562.000000</td>\n",
       "      <td>5.620000e+02</td>\n",
       "    </tr>\n",
       "    <tr>\n",
       "      <th>mean</th>\n",
       "      <td>18.695587</td>\n",
       "      <td>19.730089</td>\n",
       "      <td>21.777633</td>\n",
       "      <td>67.22242</td>\n",
       "      <td>50.090747</td>\n",
       "      <td>3.661886</td>\n",
       "      <td>1.598624e+09</td>\n",
       "    </tr>\n",
       "    <tr>\n",
       "      <th>std</th>\n",
       "      <td>33.124352</td>\n",
       "      <td>89.825108</td>\n",
       "      <td>8.372770</td>\n",
       "      <td>23.23434</td>\n",
       "      <td>39.331046</td>\n",
       "      <td>2.449114</td>\n",
       "      <td>1.083534e+02</td>\n",
       "    </tr>\n",
       "    <tr>\n",
       "      <th>min</th>\n",
       "      <td>-54.800000</td>\n",
       "      <td>-179.170000</td>\n",
       "      <td>0.000000</td>\n",
       "      <td>3.00000</td>\n",
       "      <td>0.000000</td>\n",
       "      <td>0.190000</td>\n",
       "      <td>1.598624e+09</td>\n",
       "    </tr>\n",
       "    <tr>\n",
       "      <th>25%</th>\n",
       "      <td>-9.112500</td>\n",
       "      <td>-59.422500</td>\n",
       "      <td>15.077500</td>\n",
       "      <td>55.00000</td>\n",
       "      <td>6.000000</td>\n",
       "      <td>1.822500</td>\n",
       "      <td>1.598624e+09</td>\n",
       "    </tr>\n",
       "    <tr>\n",
       "      <th>50%</th>\n",
       "      <td>22.850000</td>\n",
       "      <td>26.645000</td>\n",
       "      <td>23.435000</td>\n",
       "      <td>73.00000</td>\n",
       "      <td>50.500000</td>\n",
       "      <td>3.100000</td>\n",
       "      <td>1.598624e+09</td>\n",
       "    </tr>\n",
       "    <tr>\n",
       "      <th>75%</th>\n",
       "      <td>46.475000</td>\n",
       "      <td>99.432500</td>\n",
       "      <td>27.930000</td>\n",
       "      <td>83.00000</td>\n",
       "      <td>90.000000</td>\n",
       "      <td>4.920000</td>\n",
       "      <td>1.598624e+09</td>\n",
       "    </tr>\n",
       "    <tr>\n",
       "      <th>max</th>\n",
       "      <td>78.220000</td>\n",
       "      <td>178.420000</td>\n",
       "      <td>42.000000</td>\n",
       "      <td>100.00000</td>\n",
       "      <td>100.000000</td>\n",
       "      <td>13.520000</td>\n",
       "      <td>1.598624e+09</td>\n",
       "    </tr>\n",
       "  </tbody>\n",
       "</table>\n",
       "</div>"
      ],
      "text/plain": [
       "              Lat         Lng    Max Temp   Humidity  Cloudiness  Wind Speed  \\\n",
       "count  562.000000  562.000000  562.000000  562.00000  562.000000  562.000000   \n",
       "mean    18.695587   19.730089   21.777633   67.22242   50.090747    3.661886   \n",
       "std     33.124352   89.825108    8.372770   23.23434   39.331046    2.449114   \n",
       "min    -54.800000 -179.170000    0.000000    3.00000    0.000000    0.190000   \n",
       "25%     -9.112500  -59.422500   15.077500   55.00000    6.000000    1.822500   \n",
       "50%     22.850000   26.645000   23.435000   73.00000   50.500000    3.100000   \n",
       "75%     46.475000   99.432500   27.930000   83.00000   90.000000    4.920000   \n",
       "max     78.220000  178.420000   42.000000  100.00000  100.000000   13.520000   \n",
       "\n",
       "               Date  \n",
       "count  5.620000e+02  \n",
       "mean   1.598624e+09  \n",
       "std    1.083534e+02  \n",
       "min    1.598624e+09  \n",
       "25%    1.598624e+09  \n",
       "50%    1.598624e+09  \n",
       "75%    1.598624e+09  \n",
       "max    1.598624e+09  "
      ]
     },
     "execution_count": 14,
     "metadata": {},
     "output_type": "execute_result"
    }
   ],
   "source": [
    "df.describe()"
   ]
  },
  {
   "cell_type": "markdown",
   "metadata": {},
   "source": [
    "#  Get the indices of cities that have humidity over 100%.\n",
    "No cities have humidity over 100%"
   ]
  },
  {
   "cell_type": "code",
   "execution_count": null,
   "metadata": {},
   "outputs": [],
   "source": [
    "# Make a new DataFrame equal to the city data to drop all humidity outliers by index.\n",
    "# Passing \"inplace=False\" will make a copy of the city_data DataFrame, which we call \"clean_city_data\".\n",
    "#N/A"
   ]
  },
  {
   "cell_type": "code",
   "execution_count": null,
   "metadata": {},
   "outputs": [],
   "source": [
    "# Extract relevant fields from the data frame\n",
    "\n",
    "#N/A\n",
    "# Export the City_Data into a csv\n",
    "#N/A"
   ]
  },
  {
   "cell_type": "markdown",
   "metadata": {},
   "source": [
    "## Plotting the Data\n",
    "* Use proper labeling of the plots using plot titles (including date of analysis) and axes labels.\n",
    "* Save the plotted figures as .pngs."
   ]
  },
  {
   "cell_type": "markdown",
   "metadata": {},
   "source": [
    "## Latitude vs. Temperature Plot"
   ]
  },
  {
   "cell_type": "code",
   "execution_count": 15,
   "metadata": {
    "scrolled": true
   },
   "outputs": [
    {
     "data": {
      "image/png": "[encoded data removed]",
      "text/plain": [
       "<Figure size 432x288 with 1 Axes>"
      ]
     },
     "metadata": {
      "needs_background": "light"
     },
     "output_type": "display_data"
    }
   ],
   "source": [
    "#scatter plot\n",
    "plt.scatter(df[\"Lat\"], df[\"Max Temp\"], facecolors = \"blue\",marker = 'o')\n",
    "\n",
    "#additional graph properties\n",
    "plt.title(\"City Latitude vs Max Temperature (26/08/2020)\")\n",
    "plt.xlabel(\"Latitude\")\n",
    "plt.ylabel(\"Max Temperature(C)\")\n",
    "plt.xlim(-60, 80)\n",
    "plt.grid()\n",
    "plt.savefig(\"output/LatvsTemp.png\")\n",
    "plt.show()"
   ]
  },
  {
   "cell_type": "markdown",
   "metadata": {},
   "source": [
    "The graph shows that as the latitude increases the temperature decreases.\n",
    "In the polar regions with latitudes -60 and +60, the temperatures are\n",
    "much lower than the equatorial region with latitude 0."
   ]
  },
  {
   "cell_type": "markdown",
   "metadata": {},
   "source": [
    "## Latitude vs. Humidity Plot"
   ]
  },
  {
   "cell_type": "code",
   "execution_count": 16,
   "metadata": {},
   "outputs": [
    {
     "data": {
      "image/png": "[encoded data removed]",
      "text/plain": [
       "<Figure size 432x288 with 1 Axes>"
      ]
     },
     "metadata": {
      "needs_background": "light"
     },
     "output_type": "display_data"
    }
   ],
   "source": [
    "#scatter plot\n",
    "plt.scatter(df[\"Lat\"], df[\"Humidity\"], facecolors = \"blue\",marker = 'o')\n",
    "\n",
    "#additional graph properties\n",
    "plt.title(\"City Latitude vs Humidity (26/08/2020)\")\n",
    "plt.xlabel(\"Latitude\")\n",
    "plt.ylabel(\"Humidity(%)\")\n",
    "plt.xlim(-60, 80)\n",
    "plt.grid()\n",
    "plt.savefig(\"output/LatvsHumidity.png\")\n",
    "plt.show()"
   ]
  },
  {
   "cell_type": "markdown",
   "metadata": {},
   "source": [
    "There seems to be no relationship between latitude and humidity based on weather data from 26/08/2020. Data is randomly\n",
    "distributed through the whole range of latitudes."
   ]
  },
  {
   "cell_type": "markdown",
   "metadata": {},
   "source": [
    "## Latitude vs. Cloudiness Plot"
   ]
  },
  {
   "cell_type": "code",
   "execution_count": 17,
   "metadata": {
    "scrolled": true
   },
   "outputs": [
    {
     "data": {
      "image/png": "[encoded data removed]",
      "text/plain": [
       "<Figure size 432x288 with 1 Axes>"
      ]
     },
     "metadata": {
      "needs_background": "light"
     },
     "output_type": "display_data"
    }
   ],
   "source": [
    "#scatter plot\n",
    "plt.scatter(df[\"Lat\"], df[\"Cloudiness\"], facecolors = \"blue\",marker = 'o')\n",
    "\n",
    "#additional graph properties\n",
    "plt.title(\"City Latitude vs Cloudiness (26/08/2020)\")\n",
    "plt.xlabel(\"Latitude\")\n",
    "plt.ylabel(\"Cloudiness(%)\")\n",
    "plt.xlim(-60, 80)\n",
    "plt.grid()\n",
    "plt.savefig(\"output/LatvsCloudiness.png\")\n",
    "plt.show()"
   ]
  },
  {
   "cell_type": "markdown",
   "metadata": {},
   "source": [
    "Cloudiness also does seem to be affected by latitude. There is no potential relationship between the two variables based on\n",
    "our results."
   ]
  },
  {
   "cell_type": "markdown",
   "metadata": {},
   "source": [
    "## Latitude vs. Wind Speed Plot"
   ]
  },
  {
   "cell_type": "code",
   "execution_count": 18,
   "metadata": {},
   "outputs": [
    {
     "data": {
      "image/png": "[encoded data removed]",
      "text/plain": [
       "<Figure size 432x288 with 1 Axes>"
      ]
     },
     "metadata": {
      "needs_background": "light"
     },
     "output_type": "display_data"
    }
   ],
   "source": [
    "#scatter plot\n",
    "plt.scatter(df[\"Lat\"], df[\"Wind Speed\"], facecolors = \"blue\",marker = 'o')\n",
    "\n",
    "#additional graph properties\n",
    "plt.title(\"City Latitude vs Wind Speed (26/08/2020)\")\n",
    "plt.xlabel(\"Latitude\")\n",
    "plt.ylabel(\"Wind Speed (mph)\")\n",
    "plt.xlim(-60, 80)\n",
    "plt.grid()\n",
    "plt.savefig(\"output/LatvsWindSpeed.png\")\n",
    "plt.show()"
   ]
  },
  {
   "cell_type": "markdown",
   "metadata": {},
   "source": [
    "Latitude also does not seem to affect wind speed throughout the world. We see no clear relationship between the two based\n",
    "on our data. However, there seems to be an outlier in our data."
   ]
  },
  {
   "cell_type": "markdown",
   "metadata": {},
   "source": [
    "## Linear Regression"
   ]
  },
  {
   "cell_type": "code",
   "execution_count": null,
   "metadata": {},
   "outputs": [],
   "source": [
    "# OPTIONAL: Create a function to create Linear Regression plots"
   ]
  },
  {
   "cell_type": "code",
   "execution_count": 19,
   "metadata": {},
   "outputs": [],
   "source": [
    "# Create Northern and Southern Hemisphere DataFrames\n",
    "northern_hemi = df.loc[df[\"Lat\"] >= 0]\n",
    "southern_hemi = df.loc[df[\"Lat\"] < 0]"
   ]
  },
  {
   "cell_type": "code",
   "execution_count": 20,
   "metadata": {},
   "outputs": [
    {
     "data": {
      "text/plain": [
       "-0.74"
      ]
     },
     "execution_count": 20,
     "metadata": {},
     "output_type": "execute_result"
    }
   ],
   "source": [
    "#correlation cofficient for noethern hemisphere\n",
    "import scipy.stats as st\n",
    "r_squared = round(st.pearsonr(northern_hemi[\"Lat\"], northern_hemi[\"Max Temp\"])[0],2)\n",
    "r_squared"
   ]
  },
  {
   "cell_type": "code",
   "execution_count": 21,
   "metadata": {},
   "outputs": [],
   "source": [
    "xvalue = northern_hemi[\"Lat\"]\n",
    "yvalue = northern_hemi[\"Max Temp\"]\n",
    "(slope, intercept, rvalue, pvalue, stderr) = linregress(xvalue, yvalue)"
   ]
  },
  {
   "cell_type": "code",
   "execution_count": 22,
   "metadata": {},
   "outputs": [
    {
     "data": {
      "text/plain": [
       "'y = -0.32x + 34.44'"
      ]
     },
     "execution_count": 22,
     "metadata": {},
     "output_type": "execute_result"
    }
   ],
   "source": [
    "#generating equation\n",
    "regress_values = xvalue * slope + intercept\n",
    "line_eq = \"y = \" + str(round(slope,2)) + \"x + \" + str(round(intercept,2))\n",
    "line_eq"
   ]
  },
  {
   "cell_type": "markdown",
   "metadata": {},
   "source": [
    "####  Northern Hemisphere - Max Temp vs. Latitude Linear Regression"
   ]
  },
  {
   "cell_type": "code",
   "execution_count": 23,
   "metadata": {},
   "outputs": [
    {
     "data": {
      "image/png": "[encoded data removed]",
      "text/plain": [
       "<Figure size 432x288 with 1 Axes>"
      ]
     },
     "metadata": {
      "needs_background": "light"
     },
     "output_type": "display_data"
    },
    {
     "name": "stdout",
     "output_type": "stream",
     "text": [
      "The r-squared is:-0.74\n"
     ]
    }
   ],
   "source": [
    "#generating plot\n",
    "#create the plot and customize \n",
    "plt.scatter(xvalue, yvalue, facecolors = \"blue\", alpha = 0.75)\n",
    "plt.plot(xvalue, regress_values, color = \"red\")\n",
    "plt.annotate(line_eq,(6,10),fontsize=15,color=\"red\")\n",
    "plt.xlabel('Latitude')\n",
    "plt.ylabel('Max Temp')\n",
    "plt.title(\"Northern Hemisphere - Max Temp vs. Latitude Linear Regression\")\n",
    "plt.grid()\n",
    "plt.savefig(\"output/LatvsTemp_northernhemi.png\")\n",
    "plt.show()\n",
    "print(f\"The r-squared is:{r_squared}\")"
   ]
  },
  {
   "cell_type": "markdown",
   "metadata": {},
   "source": [
    "Based on the graph, we can conclude that maximum temperature and latitude are negatively correlated in Northern hemisphere.\n",
    "As the latitude increases, i.e. as one moves to the poles, maximum temperature decreases."
   ]
  },
  {
   "cell_type": "markdown",
   "metadata": {},
   "source": [
    "####  Southern Hemisphere - Max Temp vs. Latitude Linear Regression"
   ]
  },
  {
   "cell_type": "code",
   "execution_count": 24,
   "metadata": {},
   "outputs": [
    {
     "data": {
      "text/plain": [
       "0.76"
      ]
     },
     "execution_count": 24,
     "metadata": {},
     "output_type": "execute_result"
    }
   ],
   "source": [
    "#correlation cofficient for southern hemisphere\n",
    "r_squared = round(st.pearsonr(southern_hemi[\"Lat\"], southern_hemi[\"Max Temp\"])[0],2)\n",
    "r_squared"
   ]
  },
  {
   "cell_type": "code",
   "execution_count": 25,
   "metadata": {},
   "outputs": [],
   "source": [
    "xvalue = southern_hemi[\"Lat\"]\n",
    "yvalue = southern_hemi[\"Max Temp\"]\n",
    "(slope, intercept, rvalue, pvalue, stderr) = linregress(xvalue, yvalue)"
   ]
  },
  {
   "cell_type": "code",
   "execution_count": 26,
   "metadata": {},
   "outputs": [
    {
     "data": {
      "text/plain": [
       "'y = 0.49x + 31.5'"
      ]
     },
     "execution_count": 26,
     "metadata": {},
     "output_type": "execute_result"
    }
   ],
   "source": [
    "#generating equation\n",
    "regress_values = xvalue * slope + intercept\n",
    "line_eq = \"y = \" + str(round(slope,2)) + \"x + \" + str(round(intercept,2))\n",
    "line_eq"
   ]
  },
  {
   "cell_type": "code",
   "execution_count": 27,
   "metadata": {},
   "outputs": [
    {
     "data": {
      "image/png": "[encoded data removed]",
      "text/plain": [
       "<Figure size 432x288 with 1 Axes>"
      ]
     },
     "metadata": {
      "needs_background": "light"
     },
     "output_type": "display_data"
    },
    {
     "name": "stdout",
     "output_type": "stream",
     "text": [
      "The r-squared is:0.76\n"
     ]
    }
   ],
   "source": [
    "#generating plot\n",
    "#create the plot and customize \n",
    "plt.scatter(xvalue,yvalue, facecolors = \"blue\", alpha = 0.75)\n",
    "plt.plot(xvalue, regress_values, color = \"red\")\n",
    "plt.annotate(line_eq,(-50, 35), fontsize=15, color=\"red\")\n",
    "plt.xlabel('Latitude')\n",
    "plt.ylabel('Max Temp')\n",
    "plt.title(\"Southern Hemisphere - Max Temp vs. Latitude Linear Regression\")\n",
    "plt.grid()\n",
    "plt.savefig(\"output/LatvsTemp_southernhemi.png\")\n",
    "plt.show()\n",
    "print(f\"The r-squared is:{r_squared}\")\n"
   ]
  },
  {
   "cell_type": "markdown",
   "metadata": {},
   "source": [
    "Based on the graph, we can conclude that maximum temperature and latitude are positively correlated in Southern hemisphere.\n",
    "As the latitude increases, i.e. as one moves to the equator from the poles, maximum temperature increases as well."
   ]
  },
  {
   "cell_type": "markdown",
   "metadata": {},
   "source": [
    "####  Northern Hemisphere - Humidity (%) vs. Latitude Linear Regression"
   ]
  },
  {
   "cell_type": "code",
   "execution_count": 28,
   "metadata": {},
   "outputs": [
    {
     "data": {
      "image/png": "[encoded data removed]",
      "text/plain": [
       "<Figure size 432x288 with 1 Axes>"
      ]
     },
     "metadata": {
      "needs_background": "light"
     },
     "output_type": "display_data"
    },
    {
     "name": "stdout",
     "output_type": "stream",
     "text": [
      "The r-squared is:-0.01\n"
     ]
    }
   ],
   "source": [
    "#correlation cofficient for northern hemisphere\n",
    "\n",
    "r_squared = round(st.pearsonr(northern_hemi[\"Lat\"], northern_hemi[\"Humidity\"])[0],2)\n",
    "\n",
    "xvalue = northern_hemi[\"Lat\"]\n",
    "yvalue = northern_hemi[\"Humidity\"]\n",
    "(slope, intercept, rvalue, pvalue, stderr) = linregress(xvalue, yvalue)\n",
    "\n",
    "#generating equation\n",
    "regress_values = xvalue * slope + intercept\n",
    "line_eq = \"y = \" + str(round(slope,2)) + \"x + \" + str(round(intercept,2))\n",
    "\n",
    "#generating plot\n",
    "#create the plot and customize \n",
    "plt.scatter(xvalue,yvalue, facecolors = \"blue\", alpha = 0.75)\n",
    "plt.plot(xvalue, regress_values, color = \"red\")\n",
    "plt.annotate(line_eq,(6,10),fontsize=15,color=\"red\")\n",
    "plt.xlabel('Latitude')\n",
    "plt.ylabel('Humidity')\n",
    "plt.title(\"Northern Hemisphere - Humidity vs. Latitude Linear Regression\")\n",
    "plt.grid()\n",
    "plt.savefig(\"output/Latvshumidity_northernhemisphere.png\")\n",
    "plt.show()\n",
    "print(f\"The r-squared is:{r_squared}\")\n"
   ]
  },
  {
   "cell_type": "markdown",
   "metadata": {},
   "source": [
    "Based on the graph, we can see that there is no correlation between humidity and latitude in northern hemisphere. There is\n",
    "a slight positive trend on degree of humidity with increase in latitude. So, there is a possibility that humidity might increase as one moves further away from equator to the poles on northern hemisphere."
   ]
  },
  {
   "cell_type": "markdown",
   "metadata": {},
   "source": [
    "####  Southern Hemisphere - Humidity (%) vs. Latitude Linear Regression"
   ]
  },
  {
   "cell_type": "code",
   "execution_count": 29,
   "metadata": {},
   "outputs": [
    {
     "data": {
      "image/png": "[encoded data removed]",
      "text/plain": [
       "<Figure size 432x288 with 1 Axes>"
      ]
     },
     "metadata": {
      "needs_background": "light"
     },
     "output_type": "display_data"
    },
    {
     "name": "stdout",
     "output_type": "stream",
     "text": [
      "The r-squared is:-0.11\n"
     ]
    }
   ],
   "source": [
    "#correlation cofficient for southern hemisphere\n",
    "\n",
    "r_squared = round(st.pearsonr(southern_hemi[\"Lat\"], southern_hemi[\"Humidity\"])[0],2)\n",
    "\n",
    "xvalue = southern_hemi[\"Lat\"]\n",
    "yvalue = southern_hemi[\"Humidity\"]\n",
    "(slope, intercept, rvalue, pvalue, stderr) = linregress(xvalue, yvalue)\n",
    "\n",
    "#generating equation\n",
    "regress_values = xvalue * slope + intercept\n",
    "line_eq = \"y = \" + str(round(slope,2)) + \"x + \" + str(round(intercept,2))\n",
    "\n",
    "#generating plot\n",
    "#create the plot and customize \n",
    "plt.scatter(xvalue,yvalue, facecolors = \"blue\", alpha = 0.75)\n",
    "plt.plot(xvalue, regress_values,color = \"red\")\n",
    "plt.annotate(line_eq,(-50,20),fontsize=15,color=\"red\")\n",
    "plt.xlabel('Latitude')\n",
    "plt.ylabel('Humidity')\n",
    "plt.title(\"Southern Hemisphere - Humidity vs. Latitude Linear Regression\")\n",
    "plt.grid()\n",
    "plt.savefig(\"output/LatvsHumidity_southernhemisphere.png\")\n",
    "plt.show()\n",
    "print(f\"The r-squared is:{r_squared}\")\n"
   ]
  },
  {
   "cell_type": "markdown",
   "metadata": {},
   "source": [
    "Based on the graph, we can see that there is no correlation between humidity and latitude in southern hemisphere. There is\n",
    "a slight negative trend on degree of humidity with increase in latitude. So, there is a possibility that humidity might \n",
    "decrease as one moves further away from  south pole towards the equator on southern hemisphere."
   ]
  },
  {
   "cell_type": "markdown",
   "metadata": {},
   "source": [
    "####  Northern Hemisphere - Cloudiness (%) vs. Latitude Linear Regression"
   ]
  },
  {
   "cell_type": "code",
   "execution_count": 30,
   "metadata": {},
   "outputs": [
    {
     "data": {
      "image/png": "[encoded data removed]",
      "text/plain": [
       "<Figure size 432x288 with 1 Axes>"
      ]
     },
     "metadata": {
      "needs_background": "light"
     },
     "output_type": "display_data"
    },
    {
     "name": "stdout",
     "output_type": "stream",
     "text": [
      "The r-squared is:0.1\n"
     ]
    }
   ],
   "source": [
    "#correlation cofficient for northern hemisphere\n",
    "\n",
    "r_squared = round(st.pearsonr(northern_hemi[\"Lat\"], northern_hemi[\"Cloudiness\"])[0],2)\n",
    "\n",
    "xvalue = northern_hemi[\"Lat\"]\n",
    "yvalue = northern_hemi[\"Cloudiness\"]\n",
    "(slope, intercept, rvalue, pvalue, stderr) = linregress(xvalue, yvalue)\n",
    "\n",
    "#generating equation\n",
    "regress_values = xvalue * slope + intercept\n",
    "line_eq = \"y = \" + str(round(slope,2)) + \"x + \" + str(round(intercept,2))\n",
    "\n",
    "#generating plot\n",
    "#create the plot and customize \n",
    "plt.scatter(xvalue,yvalue, facecolors = \"blue\", alpha = 0.75)\n",
    "plt.plot(xvalue, regress_values, color = \"red\")\n",
    "plt.annotate(line_eq,(6,10),fontsize=15,color=\"red\")\n",
    "plt.xlabel('Latitude')\n",
    "plt.ylabel('Cloudiness')\n",
    "plt.title(\"Northern Hemisphere - Cloudiness vs. Latitude Linear Regression\")\n",
    "plt.grid()\n",
    "plt.savefig(\"output/Latvscloudiness_northernhemisphere.png\")\n",
    "plt.show()\n",
    "print(f\"The r-squared is:{r_squared}\")\n"
   ]
  },
  {
   "cell_type": "markdown",
   "metadata": {},
   "source": [
    "There is no correlation between cloudiness and latitude in northern hemisphere. There is a slight positive trend as one \n",
    "moves from the equator to the north pole."
   ]
  },
  {
   "cell_type": "markdown",
   "metadata": {},
   "source": [
    "####  Southern Hemisphere - Cloudiness (%) vs. Latitude Linear Regression"
   ]
  },
  {
   "cell_type": "code",
   "execution_count": 31,
   "metadata": {},
   "outputs": [
    {
     "data": {
      "image/png": "[encoded data removed]",
      "text/plain": [
       "<Figure size 432x288 with 1 Axes>"
      ]
     },
     "metadata": {
      "needs_background": "light"
     },
     "output_type": "display_data"
    },
    {
     "name": "stdout",
     "output_type": "stream",
     "text": [
      "The r-squared is:0.15\n"
     ]
    }
   ],
   "source": [
    "#correlation cofficient for southern hemisphere\n",
    "\n",
    "r_squared = round(st.pearsonr(southern_hemi[\"Lat\"], southern_hemi[\"Cloudiness\"])[0],2)\n",
    "\n",
    "xvalue = southern_hemi[\"Lat\"]\n",
    "yvalue = southern_hemi[\"Cloudiness\"]\n",
    "(slope, intercept, rvalue, pvalue, stderr) = linregress(xvalue, yvalue)\n",
    "\n",
    "#generating equation\n",
    "regress_values = xvalue * slope + intercept\n",
    "line_eq = \"y = \" + str(round(slope,2)) + \"x + \" + str(round(intercept,2))\n",
    "\n",
    "#generating plot\n",
    "#create the plot and customize \n",
    "plt.scatter(xvalue,yvalue, facecolors = \"blue\", alpha = 0.75)\n",
    "plt.plot(xvalue, regress_values, color = \"red\")\n",
    "plt.annotate(line_eq,(-50,20),fontsize=15,color=\"red\")\n",
    "plt.xlabel('Latitude')\n",
    "plt.ylabel('Cloudiness')\n",
    "plt.title(\"Southern Hemisphere - Cloudiness vs. Latitude Linear Regression\")\n",
    "plt.grid()\n",
    "plt.savefig(\"output/Latvscloudiness_southernhemisphere.png\")\n",
    "plt.show()\n",
    "print(f\"The r-squared is:{r_squared}\")\n"
   ]
  },
  {
   "cell_type": "markdown",
   "metadata": {},
   "source": [
    "####  Northern Hemisphere - Wind Speed (mph) vs. Latitude Linear Regression"
   ]
  },
  {
   "cell_type": "code",
   "execution_count": 32,
   "metadata": {},
   "outputs": [
    {
     "data": {
      "image/png": "[encoded data removed]",
      "text/plain": [
       "<Figure size 432x288 with 1 Axes>"
      ]
     },
     "metadata": {
      "needs_background": "light"
     },
     "output_type": "display_data"
    },
    {
     "name": "stdout",
     "output_type": "stream",
     "text": [
      "The r-squared is:0.0\n"
     ]
    }
   ],
   "source": [
    "#correlation cofficient for northern hemisphere\n",
    "\n",
    "r_squared = round(st.pearsonr(northern_hemi[\"Lat\"], northern_hemi[\"Wind Speed\"])[0],2)\n",
    "\n",
    "xvalue = northern_hemi[\"Lat\"]\n",
    "yvalue = northern_hemi[\"Wind Speed\"]\n",
    "(slope, intercept, rvalue, pvalue, stderr) = linregress(xvalue, yvalue)\n",
    "\n",
    "#generating equation\n",
    "regress_values = xvalue * slope + intercept\n",
    "line_eq = \"y = \" + str(round(slope,2)) + \"x + \" + str(round(intercept,2))\n",
    "\n",
    "#generating plot\n",
    "#create the plot and customize \n",
    "plt.scatter(xvalue,yvalue, facecolors = \"blue\", alpha = 0.75)\n",
    "plt.plot(xvalue, regress_values, color = \"red\")\n",
    "plt.annotate(line_eq,(6,12),fontsize=15,color=\"red\")\n",
    "plt.xlabel('Latitude')\n",
    "plt.ylabel('Wind Speed')\n",
    "plt.title(\"Northern Hemisphere - Wind Speed vs. Latitude Linear Regression\")\n",
    "plt.grid()\n",
    "plt.savefig(\"output/Latvswindspeed_northernhemisphere.png\")\n",
    "plt.show()\n",
    "print(f\"The r-squared is:{r_squared}\")\n"
   ]
  },
  {
   "cell_type": "markdown",
   "metadata": {},
   "source": [
    "There is no correlation between latitude and maximum wind speed in northern hemisphere. There might be at least 1 outlier\n",
    "in our dataset. "
   ]
  },
  {
   "cell_type": "markdown",
   "metadata": {},
   "source": [
    "####  Southern Hemisphere - Wind Speed (mph) vs. Latitude Linear Regression"
   ]
  },
  {
   "cell_type": "code",
   "execution_count": 33,
   "metadata": {
    "scrolled": true
   },
   "outputs": [
    {
     "data": {
      "image/png": "[encoded data removed]",
      "text/plain": [
       "<Figure size 432x288 with 1 Axes>"
      ]
     },
     "metadata": {
      "needs_background": "light"
     },
     "output_type": "display_data"
    },
    {
     "name": "stdout",
     "output_type": "stream",
     "text": [
      "The r-squared is:-0.15\n"
     ]
    }
   ],
   "source": [
    "#correlation cofficient for southern hemisphere\n",
    "\n",
    "r_squared = round(st.pearsonr(southern_hemi[\"Lat\"], southern_hemi[\"Wind Speed\"])[0],2)\n",
    "\n",
    "xvalue = southern_hemi[\"Lat\"]\n",
    "yvalue = southern_hemi[\"Wind Speed\"]\n",
    "(slope, intercept, rvalue, pvalue, stderr) = linregress(xvalue, yvalue)\n",
    "\n",
    "#generating equation\n",
    "regress_values = xvalue * slope + intercept\n",
    "line_eq = \"y = \" + str(round(slope,2)) + \"x + \" + str(round(intercept,2))\n",
    "\n",
    "#generating plot\n",
    "#create the plot and customize \n",
    "plt.scatter(xvalue,yvalue, facecolors = \"blue\", alpha = 0.75)\n",
    "plt.plot(xvalue, regress_values,\"--\")\n",
    "plt.annotate(line_eq,(-50,10),fontsize=15,color=\"red\")\n",
    "plt.xlabel('Latitude')\n",
    "plt.ylabel(\"Wind Speed\")\n",
    "plt.title(\"Southern Hemisphere - Wind Speed vs. Latitude Linear Regression\")\n",
    "plt.grid()\n",
    "plt.savefig(\"output/Latvswindspeed_southernhemisphere.png\")\n",
    "plt.show()\n",
    "print(f\"The r-squared is:{r_squared}\")\n"
   ]
  },
  {
   "cell_type": "markdown",
   "metadata": {},
   "source": [
    "There is no correlation between latitude and maximum wind speed in southern hemisphere. "
   ]
  }
 ],
 "metadata": {
  "anaconda-cloud": {},
  "kernel_info": {
   "name": "python3"
  },
  "kernelspec": {
   "display_name": "Python [conda env:PythonData] *",
   "language": "python",
   "name": "conda-env-PythonData-py"
  },
  "language_info": {
   "codemirror_mode": {
    "name": "ipython",
    "version": 3
   },
   "file_extension": ".py",
   "mimetype": "text/x-python",
   "name": "python",
   "nbconvert_exporter": "python",
   "pygments_lexer": "ipython3",
   "version": "3.7.6"
  },
  "latex_envs": {
   "LaTeX_envs_menu_present": true,
   "autoclose": false,
   "autocomplete": true,
   "bibliofile": "biblio.bib",
   "cite_by": "apalike",
   "current_citInitial": 1,
   "eqLabelWithNumbers": true,
   "eqNumInitial": 1,
   "hotkeys": {
    "equation": "Ctrl-E",
    "itemize": "Ctrl-I"
   },
   "labels_anchors": false,
   "latex_user_defs": false,
   "report_style_numbering": false,
   "user_envs_cfg": false
  },
  "nteract": {
   "version": "0.12.3"
  }
 },
 "nbformat": 4,
 "nbformat_minor": 2
}
