{
 "cells": [
  {
   "cell_type": "markdown",
   "metadata": {},
   "source": [
    "# VacationPy\n",
    "----\n",
    "\n",
    "#### Note\n",
    "* Instructions have been included for each segment. You do not have to follow them exactly, but they are included to help you think through the steps."
   ]
  },
  {
   "cell_type": "code",
   "execution_count": 15,
   "metadata": {},
   "outputs": [],
   "source": [
    "# Dependencies and Setup\n",
    "import matplotlib.pyplot as plt\n",
    "import pandas as pd\n",
    "import numpy as np\n",
    "import requests\n",
    "import gmaps\n",
    "import os\n",
    "\n",
    "# Import API key\n",
    "from api_keys import g_key"
   ]
  },
  {
   "cell_type": "markdown",
   "metadata": {},
   "source": [
    "### Store Part I results into DataFrame\n",
    "* Load the csv exported in Part I to a DataFrame"
   ]
  },
  {
   "cell_type": "code",
   "execution_count": 16,
   "metadata": {},
   "outputs": [],
   "source": [
    "df = pd.read_csv(\"output/city_data.csv\")\n"
   ]
  },
  {
   "cell_type": "code",
   "execution_count": 17,
   "metadata": {},
   "outputs": [
    {
     "data": {
      "text/html": [
       "<div>\n",
       "<style scoped>\n",
       "    .dataframe tbody tr th:only-of-type {\n",
       "        vertical-align: middle;\n",
       "    }\n",
       "\n",
       "    .dataframe tbody tr th {\n",
       "        vertical-align: top;\n",
       "    }\n",
       "\n",
       "    .dataframe thead th {\n",
       "        text-align: right;\n",
       "    }\n",
       "</style>\n",
       "<table border=\"1\" class=\"dataframe\">\n",
       "  <thead>\n",
       "    <tr style=\"text-align: right;\">\n",
       "      <th></th>\n",
       "      <th>Unnamed: 0</th>\n",
       "      <th>City</th>\n",
       "      <th>Lat</th>\n",
       "      <th>Lng</th>\n",
       "      <th>Max Temp</th>\n",
       "      <th>Humidity</th>\n",
       "      <th>Cloudiness</th>\n",
       "      <th>Wind Speed</th>\n",
       "      <th>Country</th>\n",
       "      <th>Date</th>\n",
       "    </tr>\n",
       "  </thead>\n",
       "  <tbody>\n",
       "    <tr>\n",
       "      <th>0</th>\n",
       "      <td>0</td>\n",
       "      <td>Cape Town</td>\n",
       "      <td>-33.93</td>\n",
       "      <td>18.42</td>\n",
       "      <td>14.00</td>\n",
       "      <td>76</td>\n",
       "      <td>75</td>\n",
       "      <td>8.20</td>\n",
       "      <td>ZA</td>\n",
       "      <td>1598623732</td>\n",
       "    </tr>\n",
       "    <tr>\n",
       "      <th>1</th>\n",
       "      <td>1</td>\n",
       "      <td>Beipiao</td>\n",
       "      <td>41.79</td>\n",
       "      <td>120.78</td>\n",
       "      <td>16.84</td>\n",
       "      <td>88</td>\n",
       "      <td>23</td>\n",
       "      <td>3.37</td>\n",
       "      <td>CN</td>\n",
       "      <td>1598623853</td>\n",
       "    </tr>\n",
       "    <tr>\n",
       "      <th>2</th>\n",
       "      <td>2</td>\n",
       "      <td>Fukuechō</td>\n",
       "      <td>32.69</td>\n",
       "      <td>128.84</td>\n",
       "      <td>27.84</td>\n",
       "      <td>85</td>\n",
       "      <td>1</td>\n",
       "      <td>6.17</td>\n",
       "      <td>JP</td>\n",
       "      <td>1598623853</td>\n",
       "    </tr>\n",
       "    <tr>\n",
       "      <th>3</th>\n",
       "      <td>3</td>\n",
       "      <td>Tiksi</td>\n",
       "      <td>71.69</td>\n",
       "      <td>128.87</td>\n",
       "      <td>6.16</td>\n",
       "      <td>78</td>\n",
       "      <td>48</td>\n",
       "      <td>2.45</td>\n",
       "      <td>RU</td>\n",
       "      <td>1598623854</td>\n",
       "    </tr>\n",
       "    <tr>\n",
       "      <th>4</th>\n",
       "      <td>4</td>\n",
       "      <td>São Filipe</td>\n",
       "      <td>14.90</td>\n",
       "      <td>-24.50</td>\n",
       "      <td>26.11</td>\n",
       "      <td>82</td>\n",
       "      <td>91</td>\n",
       "      <td>2.55</td>\n",
       "      <td>CV</td>\n",
       "      <td>1598623854</td>\n",
       "    </tr>\n",
       "  </tbody>\n",
       "</table>\n",
       "</div>"
      ],
      "text/plain": [
       "   Unnamed: 0        City    Lat     Lng  Max Temp  Humidity  Cloudiness  \\\n",
       "0           0   Cape Town -33.93   18.42     14.00        76          75   \n",
       "1           1     Beipiao  41.79  120.78     16.84        88          23   \n",
       "2           2    Fukuechō  32.69  128.84     27.84        85           1   \n",
       "3           3       Tiksi  71.69  128.87      6.16        78          48   \n",
       "4           4  São Filipe  14.90  -24.50     26.11        82          91   \n",
       "\n",
       "   Wind Speed Country        Date  \n",
       "0        8.20      ZA  1598623732  \n",
       "1        3.37      CN  1598623853  \n",
       "2        6.17      JP  1598623853  \n",
       "3        2.45      RU  1598623854  \n",
       "4        2.55      CV  1598623854  "
      ]
     },
     "execution_count": 17,
     "metadata": {},
     "output_type": "execute_result"
    }
   ],
   "source": [
    "df.head()"
   ]
  },
  {
   "cell_type": "markdown",
   "metadata": {},
   "source": [
    "### Humidity Heatmap\n",
    "* Configure gmaps.\n",
    "* Use the Lat and Lng as locations and Humidity as the weight.\n",
    "* Add Heatmap layer to map."
   ]
  },
  {
   "cell_type": "code",
   "execution_count": 18,
   "metadata": {},
   "outputs": [],
   "source": [
    "#configure gmaps\n",
    "gmaps.configure(api_key=g_key)"
   ]
  },
  {
   "cell_type": "code",
   "execution_count": 19,
   "metadata": {},
   "outputs": [],
   "source": [
    "#Use the Lat and Lng as locations and Humidity as the weight.\n",
    "locations = df[[\"Lat\", \"Lng\"]]\n",
    "weight = df[\"Humidity\"]"
   ]
  },
  {
   "cell_type": "code",
   "execution_count": 20,
   "metadata": {},
   "outputs": [],
   "source": [
    "#add a map and add heatmap layer to the map\n",
    "city_data_fig = gmaps.figure()\n"
   ]
  },
  {
   "cell_type": "code",
   "execution_count": 21,
   "metadata": {},
   "outputs": [],
   "source": [
    "#heat layer\n",
    "city_heat_layer = gmaps.heatmap_layer(locations, weights = weight, dissipating = False, \n",
    "                                     max_intensity = 100, point_radius = 1)"
   ]
  },
  {
   "cell_type": "code",
   "execution_count": 22,
   "metadata": {},
   "outputs": [],
   "source": [
    "city_data_fig.add_layer(city_heat_layer)"
   ]
  },
  {
   "cell_type": "code",
   "execution_count": 23,
   "metadata": {},
   "outputs": [
    {
     "data": {
      "application/vnd.jupyter.widget-view+json": {
       "model_id": "03838db80ee84cca85851318591149d3",
       "version_major": 2,
       "version_minor": 0
      },
      "text/plain": [
       "Figure(layout=FigureLayout(height='420px'))"
      ]
     },
     "metadata": {},
     "output_type": "display_data"
    }
   ],
   "source": [
    "city_data_fig"
   ]
  },
  {
   "cell_type": "markdown",
   "metadata": {},
   "source": [
    "### Create new DataFrame fitting weather criteria\n",
    "* Narrow down the cities to fit weather conditions.\n",
    "* Drop any rows will null values."
   ]
  },
  {
   "cell_type": "code",
   "execution_count": 32,
   "metadata": {},
   "outputs": [],
   "source": [
    "#ideal vacation city, max temp of 26, min temp of 19\n",
    "df = df.loc[(df[\"Max Temp\"] >= 19) & (df[\"Max Temp\"] <=26)]"
   ]
  },
  {
   "cell_type": "code",
   "execution_count": 44,
   "metadata": {},
   "outputs": [],
   "source": [
    "#humidity between 30 to 50 percent\n",
    "df = df.loc[(df[\"Humidity\"] >= 30) & (df[\"Humidity\"] <=50)]"
   ]
  },
  {
   "cell_type": "code",
   "execution_count": 51,
   "metadata": {},
   "outputs": [],
   "source": [
    "#windspeed between 2 to 5mph\n",
    "df = df.loc[(df[\"Wind Speed\"] >= 0) & (df[\"Wind Speed\"] <=5)]"
   ]
  },
  {
   "cell_type": "code",
   "execution_count": 58,
   "metadata": {},
   "outputs": [],
   "source": [
    "#cloudiness under 10\n",
    "df = df.loc[df[\"Cloudiness\"] <= 35]"
   ]
  },
  {
   "cell_type": "code",
   "execution_count": 59,
   "metadata": {},
   "outputs": [
    {
     "data": {
      "text/plain": [
       "Unnamed: 0    4\n",
       "City          4\n",
       "Lat           4\n",
       "Lng           4\n",
       "Max Temp      4\n",
       "Humidity      4\n",
       "Cloudiness    4\n",
       "Wind Speed    4\n",
       "Country       4\n",
       "Date          4\n",
       "dtype: int64"
      ]
     },
     "execution_count": 59,
     "metadata": {},
     "output_type": "execute_result"
    }
   ],
   "source": [
    "#check number of vacation spots passing all above filters\n",
    "df.count()"
   ]
  },
  {
   "cell_type": "code",
   "execution_count": 61,
   "metadata": {},
   "outputs": [
    {
     "data": {
      "text/html": [
       "<div>\n",
       "<style scoped>\n",
       "    .dataframe tbody tr th:only-of-type {\n",
       "        vertical-align: middle;\n",
       "    }\n",
       "\n",
       "    .dataframe tbody tr th {\n",
       "        vertical-align: top;\n",
       "    }\n",
       "\n",
       "    .dataframe thead th {\n",
       "        text-align: right;\n",
       "    }\n",
       "</style>\n",
       "<table border=\"1\" class=\"dataframe\">\n",
       "  <thead>\n",
       "    <tr style=\"text-align: right;\">\n",
       "      <th></th>\n",
       "      <th>Unnamed: 0</th>\n",
       "      <th>City</th>\n",
       "      <th>Lat</th>\n",
       "      <th>Lng</th>\n",
       "      <th>Max Temp</th>\n",
       "      <th>Humidity</th>\n",
       "      <th>Cloudiness</th>\n",
       "      <th>Wind Speed</th>\n",
       "      <th>Country</th>\n",
       "      <th>Date</th>\n",
       "    </tr>\n",
       "  </thead>\n",
       "  <tbody>\n",
       "    <tr>\n",
       "      <th>233</th>\n",
       "      <td>233</td>\n",
       "      <td>Salta</td>\n",
       "      <td>-24.79</td>\n",
       "      <td>-65.41</td>\n",
       "      <td>19.00</td>\n",
       "      <td>45</td>\n",
       "      <td>0</td>\n",
       "      <td>3.10</td>\n",
       "      <td>AR</td>\n",
       "      <td>1598623996</td>\n",
       "    </tr>\n",
       "    <tr>\n",
       "      <th>474</th>\n",
       "      <td>474</td>\n",
       "      <td>Kushmurun</td>\n",
       "      <td>52.45</td>\n",
       "      <td>64.63</td>\n",
       "      <td>25.61</td>\n",
       "      <td>47</td>\n",
       "      <td>6</td>\n",
       "      <td>3.33</td>\n",
       "      <td>KZ</td>\n",
       "      <td>1598624137</td>\n",
       "    </tr>\n",
       "    <tr>\n",
       "      <th>511</th>\n",
       "      <td>511</td>\n",
       "      <td>Atasū</td>\n",
       "      <td>48.68</td>\n",
       "      <td>71.64</td>\n",
       "      <td>21.13</td>\n",
       "      <td>39</td>\n",
       "      <td>0</td>\n",
       "      <td>3.40</td>\n",
       "      <td>KZ</td>\n",
       "      <td>1598624159</td>\n",
       "    </tr>\n",
       "    <tr>\n",
       "      <th>515</th>\n",
       "      <td>515</td>\n",
       "      <td>Makungu</td>\n",
       "      <td>-8.73</td>\n",
       "      <td>35.28</td>\n",
       "      <td>24.68</td>\n",
       "      <td>39</td>\n",
       "      <td>0</td>\n",
       "      <td>4.24</td>\n",
       "      <td>TZ</td>\n",
       "      <td>1598624162</td>\n",
       "    </tr>\n",
       "  </tbody>\n",
       "</table>\n",
       "</div>"
      ],
      "text/plain": [
       "     Unnamed: 0       City    Lat    Lng  Max Temp  Humidity  Cloudiness  \\\n",
       "233         233      Salta -24.79 -65.41     19.00        45           0   \n",
       "474         474  Kushmurun  52.45  64.63     25.61        47           6   \n",
       "511         511      Atasū  48.68  71.64     21.13        39           0   \n",
       "515         515    Makungu  -8.73  35.28     24.68        39           0   \n",
       "\n",
       "     Wind Speed Country        Date  \n",
       "233        3.10      AR  1598623996  \n",
       "474        3.33      KZ  1598624137  \n",
       "511        3.40      KZ  1598624159  \n",
       "515        4.24      TZ  1598624162  "
      ]
     },
     "execution_count": 61,
     "metadata": {},
     "output_type": "execute_result"
    }
   ],
   "source": [
    "#check dataframe\n",
    "df"
   ]
  },
  {
   "cell_type": "code",
   "execution_count": 63,
   "metadata": {},
   "outputs": [],
   "source": [
    "#drop Unnamed column\n",
    "\n",
    "df = df.drop([\"Unnamed: 0\"], axis = 1)"
   ]
  },
  {
   "cell_type": "code",
   "execution_count": null,
   "metadata": {},
   "outputs": [],
   "source": []
  },
  {
   "cell_type": "code",
   "execution_count": null,
   "metadata": {},
   "outputs": [],
   "source": []
  },
  {
   "cell_type": "markdown",
   "metadata": {},
   "source": [
    "### Hotel Map\n",
    "* Store into variable named `hotel_df`.\n",
    "* Add a \"Hotel Name\" column to the DataFrame.\n",
    "* Set parameters to search for hotels with 5000 meters.\n",
    "* Hit the Google Places API for each city's coordinates.\n",
    "* Store the first Hotel result into the DataFrame.\n",
    "* Plot markers on top of the heatmap."
   ]
  },
  {
   "cell_type": "code",
   "execution_count": 64,
   "metadata": {},
   "outputs": [],
   "source": [
    "#Store into variable named hotel_df\n",
    "hotel_df = df.copy()\n"
   ]
  },
  {
   "cell_type": "code",
   "execution_count": 67,
   "metadata": {},
   "outputs": [
    {
     "data": {
      "text/html": [
       "<div>\n",
       "<style scoped>\n",
       "    .dataframe tbody tr th:only-of-type {\n",
       "        vertical-align: middle;\n",
       "    }\n",
       "\n",
       "    .dataframe tbody tr th {\n",
       "        vertical-align: top;\n",
       "    }\n",
       "\n",
       "    .dataframe thead th {\n",
       "        text-align: right;\n",
       "    }\n",
       "</style>\n",
       "<table border=\"1\" class=\"dataframe\">\n",
       "  <thead>\n",
       "    <tr style=\"text-align: right;\">\n",
       "      <th></th>\n",
       "      <th>index</th>\n",
       "      <th>City</th>\n",
       "      <th>Lat</th>\n",
       "      <th>Lng</th>\n",
       "      <th>Max Temp</th>\n",
       "      <th>Humidity</th>\n",
       "      <th>Cloudiness</th>\n",
       "      <th>Wind Speed</th>\n",
       "      <th>Country</th>\n",
       "      <th>Date</th>\n",
       "    </tr>\n",
       "  </thead>\n",
       "  <tbody>\n",
       "    <tr>\n",
       "      <th>0</th>\n",
       "      <td>233</td>\n",
       "      <td>Salta</td>\n",
       "      <td>-24.79</td>\n",
       "      <td>-65.41</td>\n",
       "      <td>19.00</td>\n",
       "      <td>45</td>\n",
       "      <td>0</td>\n",
       "      <td>3.10</td>\n",
       "      <td>AR</td>\n",
       "      <td>1598623996</td>\n",
       "    </tr>\n",
       "    <tr>\n",
       "      <th>1</th>\n",
       "      <td>474</td>\n",
       "      <td>Kushmurun</td>\n",
       "      <td>52.45</td>\n",
       "      <td>64.63</td>\n",
       "      <td>25.61</td>\n",
       "      <td>47</td>\n",
       "      <td>6</td>\n",
       "      <td>3.33</td>\n",
       "      <td>KZ</td>\n",
       "      <td>1598624137</td>\n",
       "    </tr>\n",
       "    <tr>\n",
       "      <th>2</th>\n",
       "      <td>511</td>\n",
       "      <td>Atasū</td>\n",
       "      <td>48.68</td>\n",
       "      <td>71.64</td>\n",
       "      <td>21.13</td>\n",
       "      <td>39</td>\n",
       "      <td>0</td>\n",
       "      <td>3.40</td>\n",
       "      <td>KZ</td>\n",
       "      <td>1598624159</td>\n",
       "    </tr>\n",
       "    <tr>\n",
       "      <th>3</th>\n",
       "      <td>515</td>\n",
       "      <td>Makungu</td>\n",
       "      <td>-8.73</td>\n",
       "      <td>35.28</td>\n",
       "      <td>24.68</td>\n",
       "      <td>39</td>\n",
       "      <td>0</td>\n",
       "      <td>4.24</td>\n",
       "      <td>TZ</td>\n",
       "      <td>1598624162</td>\n",
       "    </tr>\n",
       "  </tbody>\n",
       "</table>\n",
       "</div>"
      ],
      "text/plain": [
       "   index       City    Lat    Lng  Max Temp  Humidity  Cloudiness  Wind Speed  \\\n",
       "0    233      Salta -24.79 -65.41     19.00        45           0        3.10   \n",
       "1    474  Kushmurun  52.45  64.63     25.61        47           6        3.33   \n",
       "2    511      Atasū  48.68  71.64     21.13        39           0        3.40   \n",
       "3    515    Makungu  -8.73  35.28     24.68        39           0        4.24   \n",
       "\n",
       "  Country        Date  \n",
       "0      AR  1598623996  \n",
       "1      KZ  1598624137  \n",
       "2      KZ  1598624159  \n",
       "3      TZ  1598624162  "
      ]
     },
     "execution_count": 67,
     "metadata": {},
     "output_type": "execute_result"
    }
   ],
   "source": [
    "#reset df index to loop through the df usnig index for google API calls\n",
    "hotel_df.reset_index()"
   ]
  },
  {
   "cell_type": "code",
   "execution_count": 65,
   "metadata": {},
   "outputs": [],
   "source": [
    "#Set parameters to search for hotels with 5000 meters.\n",
    "search_radius = 5000\n",
    "search_type = \"lodging\""
   ]
  },
  {
   "cell_type": "code",
   "execution_count": 68,
   "metadata": {},
   "outputs": [],
   "source": [
    "#create empty list to store hotel info\n",
    "hotel = []"
   ]
  },
  {
   "cell_type": "code",
   "execution_count": 71,
   "metadata": {},
   "outputs": [],
   "source": [
    "#run a loop to find the nearest hotel based on google maps API\n",
    "for index, row in hotel_df.iterrows():\n",
    "    search_coordinates = f\"{row['Lat']},{row['Lng']}\"\n",
    "    \n",
    "    #create a dictionary to hold parameters\n",
    "    parameters = {\n",
    "        \"location\": search_coordinates,\n",
    "        \"radius\": search_radius,\n",
    "        'type': search_type,\n",
    "        \"key\":g_key\n",
    "    }\n",
    "    \n",
    "    #set base_url\n",
    "    base_url = \"https://maps.googleapis.com/maps/api/place/nearbysearch/json\"\n",
    "    request = requests.get(base_url, params = parameters)\n",
    "    response = request.json()\n",
    "    \n",
    "    #if hotel info is retireved add it to hotel list else move to next\n",
    "    try:\n",
    "        hotel.append(response[\"results\"][0][\"name\"])\n",
    "    except:\n",
    "        hotel.append(\"No hotels found within 5km radius\")"
   ]
  },
  {
   "cell_type": "code",
   "execution_count": 73,
   "metadata": {},
   "outputs": [
    {
     "data": {
      "text/plain": [
       "['Hotel Alejandro I', 'Gostinitsa Pri Depo', 'Dostyk', 'Complex']"
      ]
     },
     "execution_count": 73,
     "metadata": {},
     "output_type": "execute_result"
    }
   ],
   "source": [
    "#check hotels\n",
    "hotel"
   ]
  },
  {
   "cell_type": "code",
   "execution_count": 74,
   "metadata": {},
   "outputs": [],
   "source": [
    "#add hotel to dataframe\n",
    "hotel_df[\"Hotels\"] = hotel"
   ]
  },
  {
   "cell_type": "code",
   "execution_count": 75,
   "metadata": {},
   "outputs": [
    {
     "data": {
      "text/html": [
       "<div>\n",
       "<style scoped>\n",
       "    .dataframe tbody tr th:only-of-type {\n",
       "        vertical-align: middle;\n",
       "    }\n",
       "\n",
       "    .dataframe tbody tr th {\n",
       "        vertical-align: top;\n",
       "    }\n",
       "\n",
       "    .dataframe thead th {\n",
       "        text-align: right;\n",
       "    }\n",
       "</style>\n",
       "<table border=\"1\" class=\"dataframe\">\n",
       "  <thead>\n",
       "    <tr style=\"text-align: right;\">\n",
       "      <th></th>\n",
       "      <th>City</th>\n",
       "      <th>Lat</th>\n",
       "      <th>Lng</th>\n",
       "      <th>Max Temp</th>\n",
       "      <th>Humidity</th>\n",
       "      <th>Cloudiness</th>\n",
       "      <th>Wind Speed</th>\n",
       "      <th>Country</th>\n",
       "      <th>Date</th>\n",
       "      <th>Hotels</th>\n",
       "    </tr>\n",
       "  </thead>\n",
       "  <tbody>\n",
       "    <tr>\n",
       "      <th>233</th>\n",
       "      <td>Salta</td>\n",
       "      <td>-24.79</td>\n",
       "      <td>-65.41</td>\n",
       "      <td>19.00</td>\n",
       "      <td>45</td>\n",
       "      <td>0</td>\n",
       "      <td>3.10</td>\n",
       "      <td>AR</td>\n",
       "      <td>1598623996</td>\n",
       "      <td>Hotel Alejandro I</td>\n",
       "    </tr>\n",
       "    <tr>\n",
       "      <th>474</th>\n",
       "      <td>Kushmurun</td>\n",
       "      <td>52.45</td>\n",
       "      <td>64.63</td>\n",
       "      <td>25.61</td>\n",
       "      <td>47</td>\n",
       "      <td>6</td>\n",
       "      <td>3.33</td>\n",
       "      <td>KZ</td>\n",
       "      <td>1598624137</td>\n",
       "      <td>Gostinitsa Pri Depo</td>\n",
       "    </tr>\n",
       "    <tr>\n",
       "      <th>511</th>\n",
       "      <td>Atasū</td>\n",
       "      <td>48.68</td>\n",
       "      <td>71.64</td>\n",
       "      <td>21.13</td>\n",
       "      <td>39</td>\n",
       "      <td>0</td>\n",
       "      <td>3.40</td>\n",
       "      <td>KZ</td>\n",
       "      <td>1598624159</td>\n",
       "      <td>Dostyk</td>\n",
       "    </tr>\n",
       "    <tr>\n",
       "      <th>515</th>\n",
       "      <td>Makungu</td>\n",
       "      <td>-8.73</td>\n",
       "      <td>35.28</td>\n",
       "      <td>24.68</td>\n",
       "      <td>39</td>\n",
       "      <td>0</td>\n",
       "      <td>4.24</td>\n",
       "      <td>TZ</td>\n",
       "      <td>1598624162</td>\n",
       "      <td>Complex</td>\n",
       "    </tr>\n",
       "  </tbody>\n",
       "</table>\n",
       "</div>"
      ],
      "text/plain": [
       "          City    Lat    Lng  Max Temp  Humidity  Cloudiness  Wind Speed  \\\n",
       "233      Salta -24.79 -65.41     19.00        45           0        3.10   \n",
       "474  Kushmurun  52.45  64.63     25.61        47           6        3.33   \n",
       "511      Atasū  48.68  71.64     21.13        39           0        3.40   \n",
       "515    Makungu  -8.73  35.28     24.68        39           0        4.24   \n",
       "\n",
       "    Country        Date               Hotels  \n",
       "233      AR  1598623996    Hotel Alejandro I  \n",
       "474      KZ  1598624137  Gostinitsa Pri Depo  \n",
       "511      KZ  1598624159               Dostyk  \n",
       "515      TZ  1598624162              Complex  "
      ]
     },
     "execution_count": 75,
     "metadata": {},
     "output_type": "execute_result"
    }
   ],
   "source": [
    "#verify new column is present in dataframe\n",
    "hotel_df"
   ]
  },
  {
   "cell_type": "code",
   "execution_count": null,
   "metadata": {},
   "outputs": [],
   "source": []
  },
  {
   "cell_type": "code",
   "execution_count": 82,
   "metadata": {},
   "outputs": [],
   "source": [
    "# NOTE: Do not change any of the code in this cell\n",
    "\n",
    "# Using the template add the hotel marks to the heatmap\n",
    "info_box_template = \"\"\"\n",
    "<dl>\n",
    "<dt>Name</dt><dd>{Hotels}</dd>\n",
    "<dt>City</dt><dd>{City}</dd>\n",
    "<dt>Country</dt><dd>{Country}</dd>\n",
    "</dl>\n",
    "\"\"\"\n",
    "# Store the DataFrame Row\n",
    "# NOTE: be sure to update with your DataFrame name\n",
    "hotel_info = [info_box_template.format(**row) for index, row in hotel_df.iterrows()]\n",
    "locations_1 = hotel_df[[\"Lat\", \"Lng\"]]"
   ]
  },
  {
   "cell_type": "code",
   "execution_count": 85,
   "metadata": {},
   "outputs": [
    {
     "ename": "ValueError",
     "evalue": "weights must be of the same length as locations or None",
     "output_type": "error",
     "traceback": [
      "\u001b[1;31m---------------------------------------------------------------------------\u001b[0m",
      "\u001b[1;31mValueError\u001b[0m                                Traceback (most recent call last)",
      "\u001b[1;32m<ipython-input-85-34029fae40de>\u001b[0m in \u001b[0;36m<module>\u001b[1;34m\u001b[0m\n\u001b[0;32m      3\u001b[0m heat_map = gmaps.heatmap_layer(locations, weights = weight,\n\u001b[0;32m      4\u001b[0m                                 \u001b[0mdissipating\u001b[0m \u001b[1;33m=\u001b[0m \u001b[1;32mFalse\u001b[0m\u001b[1;33m,\u001b[0m \u001b[0mmax_intensity\u001b[0m \u001b[1;33m=\u001b[0m \u001b[1;36m100\u001b[0m\u001b[1;33m,\u001b[0m\u001b[1;33m\u001b[0m\u001b[1;33m\u001b[0m\u001b[0m\n\u001b[1;32m----> 5\u001b[1;33m                                 point_radius = 1)\n\u001b[0m\u001b[0;32m      6\u001b[0m \u001b[1;33m\u001b[0m\u001b[0m\n\u001b[0;32m      7\u001b[0m \u001b[0mmarker_layer\u001b[0m \u001b[1;33m=\u001b[0m \u001b[0mgmaps\u001b[0m\u001b[1;33m.\u001b[0m\u001b[0mmarker_layer\u001b[0m\u001b[1;33m(\u001b[0m\u001b[0mlocations_1\u001b[0m\u001b[1;33m)\u001b[0m\u001b[1;33m\u001b[0m\u001b[1;33m\u001b[0m\u001b[0m\n",
      "\u001b[1;32m~\\anaconda3\\envs\\PythonData\\lib\\site-packages\\gmaps\\heatmap.py\u001b[0m in \u001b[0;36mheatmap_layer\u001b[1;34m(locations, weights, max_intensity, dissipating, point_radius, opacity, gradient)\u001b[0m\n\u001b[0;32m    264\u001b[0m     widget_args, is_weighted = _heatmap_options(\n\u001b[0;32m    265\u001b[0m         \u001b[0mlocations\u001b[0m\u001b[1;33m,\u001b[0m \u001b[0mweights\u001b[0m\u001b[1;33m,\u001b[0m \u001b[0mmax_intensity\u001b[0m\u001b[1;33m,\u001b[0m \u001b[0mdissipating\u001b[0m\u001b[1;33m,\u001b[0m \u001b[0mpoint_radius\u001b[0m\u001b[1;33m,\u001b[0m\u001b[1;33m\u001b[0m\u001b[1;33m\u001b[0m\u001b[0m\n\u001b[1;32m--> 266\u001b[1;33m         \u001b[0mopacity\u001b[0m\u001b[1;33m,\u001b[0m \u001b[0mgradient\u001b[0m\u001b[1;33m\u001b[0m\u001b[1;33m\u001b[0m\u001b[0m\n\u001b[0m\u001b[0;32m    267\u001b[0m     )\n\u001b[0;32m    268\u001b[0m     \u001b[1;32mif\u001b[0m \u001b[0mis_weighted\u001b[0m\u001b[1;33m:\u001b[0m\u001b[1;33m\u001b[0m\u001b[1;33m\u001b[0m\u001b[0m\n",
      "\u001b[1;32m~\\anaconda3\\envs\\PythonData\\lib\\site-packages\\gmaps\\heatmap.py\u001b[0m in \u001b[0;36m_heatmap_options\u001b[1;34m(locations, weights, max_intensity, dissipating, point_radius, opacity, gradient)\u001b[0m\n\u001b[0;32m    207\u001b[0m         \u001b[1;32mif\u001b[0m \u001b[0mlen\u001b[0m\u001b[1;33m(\u001b[0m\u001b[0mweights\u001b[0m\u001b[1;33m)\u001b[0m \u001b[1;33m!=\u001b[0m \u001b[0mlen\u001b[0m\u001b[1;33m(\u001b[0m\u001b[0mlocations\u001b[0m\u001b[1;33m)\u001b[0m\u001b[1;33m:\u001b[0m\u001b[1;33m\u001b[0m\u001b[1;33m\u001b[0m\u001b[0m\n\u001b[0;32m    208\u001b[0m             raise ValueError(\n\u001b[1;32m--> 209\u001b[1;33m                 'weights must be of the same length as locations or None')\n\u001b[0m\u001b[0;32m    210\u001b[0m         \u001b[0mis_weighted\u001b[0m \u001b[1;33m=\u001b[0m \u001b[1;32mTrue\u001b[0m\u001b[1;33m\u001b[0m\u001b[1;33m\u001b[0m\u001b[0m\n\u001b[0;32m    211\u001b[0m         widget_args = {\n",
      "\u001b[1;31mValueError\u001b[0m: weights must be of the same length as locations or None"
     ]
    }
   ],
   "source": [
    "# Add marker layer ontop of heat map\n",
    "figure = gmaps.figure()\n",
    "heat_map = gmaps.heatmap_layer(locations, weights = weight,\n",
    "                                dissipating = False, max_intensity = 100,\n",
    "                                point_radius = 1)\n",
    "\n",
    "marker_layer = gmaps.marker_layer(locations_1)\n",
    "fig.add_layer(heat_map)\n",
    "fig.add_layer(marker_layer)\n",
    "\n",
    "# Display figure\n",
    "fig"
   ]
  },
  {
   "cell_type": "code",
   "execution_count": null,
   "metadata": {},
   "outputs": [],
   "source": []
  }
 ],
 "metadata": {
  "kernelspec": {
   "display_name": "Python [conda env:PythonData] *",
   "language": "python",
   "name": "conda-env-PythonData-py"
  },
  "language_info": {
   "codemirror_mode": {
    "name": "ipython",
    "version": 3
   },
   "file_extension": ".py",
   "mimetype": "text/x-python",
   "name": "python",
   "nbconvert_exporter": "python",
   "pygments_lexer": "ipython3",
   "version": "3.7.6"
  },
  "latex_envs": {
   "LaTeX_envs_menu_present": true,
   "autoclose": false,
   "autocomplete": true,
   "bibliofile": "biblio.bib",
   "cite_by": "apalike",
   "current_citInitial": 1,
   "eqLabelWithNumbers": true,
   "eqNumInitial": 1,
   "hotkeys": {
    "equation": "Ctrl-E",
    "itemize": "Ctrl-I"
   },
   "labels_anchors": false,
   "latex_user_defs": false,
   "report_style_numbering": false,
   "user_envs_cfg": false
  }
 },
 "nbformat": 4,
 "nbformat_minor": 2
}
